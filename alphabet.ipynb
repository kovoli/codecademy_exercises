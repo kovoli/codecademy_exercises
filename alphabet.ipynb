{
 "cells": [
  {
   "cell_type": "code",
   "execution_count": 1,
   "metadata": {
    "collapsed": true
   },
   "outputs": [],
   "source": [
    "class Alphabet:\n",
    "\n",
    "    def __init__(self, lang, letters):\n",
    "        self.lang = lang\n",
    "        self.letters = letters\n",
    "\n",
    "    def print(self):\n",
    "        print(self.letters)\n",
    "\n",
    "    def letters_num(self):\n",
    "        print(len(self.letters))\n",
    "\n",
    "\n",
    "class EngAlphabet(Alphabet):\n",
    "    import string\n",
    "    __letters_num = len(string.ascii_uppercase)\n",
    "\n",
    "    def __init__(self):\n",
    "        super().__init__('En', string.ascii_uppercase)\n",
    "\n",
    "    def is_en_letter(self, letter):\n",
    "        if letter.upper() in self.letters:\n",
    "            print('This is a english letter')\n",
    "        else:\n",
    "            print('This is not a English letter')\n",
    "\n",
    "    def letters_num(self):\n",
    "        print(f'The Alphabet has {self.__letters_num} letters')\n",
    "\n",
    "    @staticmethod\n",
    "    def example():\n",
    "        print(\"English Example:\\nDon't judge a book by it's cover.\")"
   ]
  },
  {
   "cell_type": "code",
   "execution_count": 54,
   "outputs": [
    {
     "name": "stdout",
     "output_type": "stream",
     "text": [
      "ABCDEFGHIJKLMNOPQRSTUVWXYZ\n",
      "The Alphabet has 26 letters\n",
      "This is a english letter\n",
      "This is not a English letter\n",
      "English Example:\n",
      "Don't judge a book by it's cover.\n"
     ]
    }
   ],
   "source": [
    "a = Alphabet('RU', 'абвгд')\n",
    "b = EngAlphabet()\n",
    "\n",
    "eng_alphabet = EngAlphabet()\n",
    "eng_alphabet.print()\n",
    "eng_alphabet.letters_num()\n",
    "eng_alphabet.is_en_letter('F')\n",
    "eng_alphabet.is_en_letter('Щ')\n",
    "EngAlphabet.example()"
   ],
   "metadata": {
    "collapsed": false,
    "pycharm": {
     "name": "#%%\n"
    }
   }
  },
  {
   "cell_type": "code",
   "execution_count": 16,
   "outputs": [
    {
     "data": {
      "text/plain": "'ABCDEFGHIJKLMNOPQRSTUVWXYZ'"
     },
     "execution_count": 16,
     "metadata": {},
     "output_type": "execute_result"
    }
   ],
   "source": [
    "import string\n",
    "\n",
    "string.ascii_uppercase"
   ],
   "metadata": {
    "collapsed": false,
    "pycharm": {
     "name": "#%%\n"
    }
   }
  },
  {
   "cell_type": "code",
   "execution_count": null,
   "outputs": [],
   "source": [],
   "metadata": {
    "collapsed": false,
    "pycharm": {
     "name": "#%%\n"
    }
   }
  },
  {
   "cell_type": "code",
   "execution_count": 18,
   "outputs": [
    {
     "name": "stdout",
     "output_type": "stream",
     "text": [
      "1\n",
      "0\n",
      "1\n",
      "0\n",
      "0\n",
      "2\n"
     ]
    }
   ],
   "source": [
    "def end_zeros(num: int) -> int:\n",
    "    a = str(num)[::-1]\n",
    "    count = 0\n",
    "    for i in a:\n",
    "        if i == '0':\n",
    "            count += 1\n",
    "        else:\n",
    "            break\n",
    "    return print(count)\n",
    "\n",
    "end_zeros(0)\n",
    "end_zeros(1)\n",
    "end_zeros(10)\n",
    "end_zeros(101)\n",
    "end_zeros(245)\n",
    "end_zeros(100100)"
   ],
   "metadata": {
    "collapsed": false,
    "pycharm": {
     "name": "#%%\n"
    }
   }
  },
  {
   "cell_type": "code",
   "execution_count": null,
   "outputs": [],
   "source": [],
   "metadata": {
    "collapsed": false,
    "pycharm": {
     "name": "#%%\n"
    }
   }
  }
 ],
 "metadata": {
  "kernelspec": {
   "display_name": "Python 3",
   "language": "python",
   "name": "python3"
  },
  "language_info": {
   "codemirror_mode": {
    "name": "ipython",
    "version": 2
   },
   "file_extension": ".py",
   "mimetype": "text/x-python",
   "name": "python",
   "nbconvert_exporter": "python",
   "pygments_lexer": "ipython2",
   "version": "2.7.6"
  }
 },
 "nbformat": 4,
 "nbformat_minor": 0
}