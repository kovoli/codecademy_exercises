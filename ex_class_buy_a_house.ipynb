{
 "cells": [
  {
   "cell_type": "code",
   "execution_count": 63,
   "metadata": {
    "collapsed": true
   },
   "outputs": [],
   "source": [
    "class Human:\n",
    "    default_name = 'Name'\n",
    "    default_age = 0\n",
    "\n",
    "    def __init__(self, name=default_name, age=default_age):\n",
    "        self.name = name\n",
    "        self.age = age\n",
    "        self.__money = 0\n",
    "        self.__house = None\n",
    "\n",
    "    def info(self):\n",
    "        print(f'Name: {self.name}')\n",
    "        print(f'Age: {self.age}')\n",
    "        print(f'Money: {self.__money}')\n",
    "        print(f'House: {self.__house}')\n",
    "\n",
    "    # Это метод доступен после создания объекта и до инициализации инстанции объекта\n",
    "    @staticmethod\n",
    "    def default_info():\n",
    "        print(f'Default Name: {Human.default_name}')\n",
    "        print(f'Default Age: {Human.default_age}')\n",
    "\n",
    "    def earn_money(self, amount):\n",
    "        self.__money += amount\n",
    "        print(f'Earned {amount} money! Current value: {self.__money}')\n",
    "\n",
    "    def __make_deal(self, house, price):\n",
    "        self.__money -= price\n",
    "        self.__house = house\n",
    "\n",
    "    def buy_house(self, house, discount):\n",
    "        price = house.final_price(discount)\n",
    "        if self.__money >= price:\n",
    "            self.__make_deal(house, price)\n",
    "        else:\n",
    "            print('Not enougt money')\n",
    "\n",
    "\n",
    "class House:\n",
    "\n",
    "    def __init__(self, area, price):\n",
    "        self.__area = area\n",
    "        self.__price = price\n",
    "\n",
    "    def final_price(self, discount):\n",
    "        final_price = self.__price * (100 - discount) / 100\n",
    "        print(f'Price wit discount: {final_price}')\n",
    "        return final_price\n",
    "\n",
    "class SmallHouse(House):\n",
    "    default_area = 40\n",
    "\n",
    "    def __init__(self, price):\n",
    "        super().__init__(SmallHouse.default_area, price)\n",
    "\n"
   ]
  },
  {
   "cell_type": "code",
   "execution_count": 66,
   "outputs": [
    {
     "name": "stdout",
     "output_type": "stream",
     "text": [
      "Default Name: Name\n",
      "Default Age: 0\n",
      "\n",
      "Name: Oleg\n",
      "Age: 36\n",
      "Money: 0\n",
      "House: None\n",
      "\n",
      "Earn_money function\n",
      "Earned 2500 money! Current value: 2500\n",
      "\n",
      "Name: Oleg\n",
      "Age: 36\n",
      "Money: 2500\n",
      "House: None\n",
      "Price wit discount: 4850.0\n",
      "Not enougt money\n",
      "Name: Oleg\n",
      "Age: 36\n",
      "Money: 2500\n",
      "House: None\n",
      "Price wit discount: 1330.0\n"
     ]
    }
   ],
   "source": [
    "# Вызвал статестическую функцию до создания экземпляра\n",
    "Human.default_info()\n",
    "print()\n",
    "oleg = Human('Oleg', 36)\n",
    "oleg.info()\n",
    "print()\n",
    "print('Earn_money function')\n",
    "oleg.earn_money(2500)\n",
    "print()\n",
    "oleg.info()\n",
    "\n",
    "house = House(120, 5000)\n",
    "oleg.buy_house(house, 3)\n",
    "oleg.info()\n",
    "\n",
    "sm_house = SmallHouse(1400)\n",
    "\n",
    "oleg.buy_house(sm_house, 5)"
   ],
   "metadata": {
    "collapsed": false,
    "pycharm": {
     "name": "#%%\n"
    }
   }
  }
 ],
 "metadata": {
  "kernelspec": {
   "display_name": "Python 3",
   "language": "python",
   "name": "python3"
  },
  "language_info": {
   "codemirror_mode": {
    "name": "ipython",
    "version": 2
   },
   "file_extension": ".py",
   "mimetype": "text/x-python",
   "name": "python",
   "nbconvert_exporter": "python",
   "pygments_lexer": "ipython2",
   "version": "2.7.6"
  }
 },
 "nbformat": 4,
 "nbformat_minor": 0
}