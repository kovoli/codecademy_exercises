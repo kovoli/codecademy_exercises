{
 "cells": [
  {
   "cell_type": "code",
   "execution_count": 3,
   "metadata": {
    "collapsed": true
   },
   "outputs": [
    {
     "name": "stdout",
     "output_type": "stream",
     "text": [
      "{'punk', 'country', 'pop', 'rap'}\n",
      "{'punk', 'pop'}\n",
      "{'latin', 'k-pop', 'rap', 'classical', 'country', 'pop', 'rock'}\n",
      "{'cou', 'rap', 'pop', 'cla', 'k-p', 'lat', 'roc'}\n"
     ]
    }
   ],
   "source": [
    "# Creating a Set\n",
    "# Creating a set with curly braces\n",
    "music_genres = {'country', 'punk', 'rap', 'techno', 'pop', 'latin'}\n",
    "\n",
    "# Creating a set from a list using set()\n",
    "music_genres_2 = set(['country', 'punk', 'rap', 'techno', 'pop', 'latin'])\n",
    "# Creating a set with curly braces\n",
    "music_genres_3 = set(['country', 'punk', 'rap', 'pop', 'pop', 'pop'])\n",
    "print(music_genres_3)\n",
    "# similar to list comprehensions, we can create sets using a set comprehension and a data set\n",
    "items = ['country', 'punk', 'rap', 'techno', 'pop', 'latin']\n",
    "music_genres = {category for category in items if category[0] == 'p'}\n",
    "print(music_genres)\n",
    "'-------------------------------'\n",
    "genre_results = ['rap', 'classical', 'rock', 'rock', 'country', 'rap', 'rock', 'latin', 'country', 'k-pop', 'pop', 'rap', 'rock', 'k-pop',  'rap', 'k-pop', 'rock', 'rap', 'latin', 'pop', 'pop', 'classical', 'pop', 'country', 'rock', 'classical', 'country', 'pop', 'rap', 'latin']\n",
    "\n",
    "# Write your code below!\n",
    "survey_genres = set(genre_results)\n",
    "print(survey_genres)\n",
    "\n",
    "survey_abbreviated = {song[:3] for song in survey_genres}\n",
    "print(survey_abbreviated)"
   ]
  },
  {
   "cell_type": "code",
   "execution_count": 4,
   "outputs": [
    {
     "name": "stdout",
     "output_type": "stream",
     "text": [
      "frozenset({'rock', 'pop', 'rap'})\n"
     ]
    }
   ],
   "source": [
    "# Ein Frozenset erstellen\n",
    "# Creating a frozenset from a list\n",
    "frozen_music_genres = frozenset(['country', 'punk', 'rap', 'techno', 'pop', 'latin'])\n",
    "top_genres = ['rap', 'rock', 'pop']\n",
    "# Write your code below!\n",
    "frozen_top_genres = frozenset(top_genres)\n",
    "print(frozen_top_genres)"
   ],
   "metadata": {
    "collapsed": false,
    "pycharm": {
     "name": "#%%\n"
    }
   }
  },
  {
   "cell_type": "code",
   "execution_count": 5,
   "outputs": [],
   "source": [
    "# Zu einem Set hinzufügen\n",
    "song_data = {'Retro Words': ['pop', 'warm', 'happy', 'electric']}\n",
    "\n",
    "user_tag_1 = 'warm'\n",
    "user_tag_2 = 'exciting'\n",
    "user_tag_3 = 'electric'\n",
    "\n",
    "# Write your code below!\n",
    "tag_set = set(song_data['Retro Words'])\n",
    "tag_set.update([user_tag_1, user_tag_2, user_tag_3])\n",
    "song_data['Retro Words'] = tag_set"
   ],
   "metadata": {
    "collapsed": false,
    "pycharm": {
     "name": "#%%\n"
    }
   }
  },
  {
   "cell_type": "code",
   "execution_count": 6,
   "outputs": [
    {
     "name": "stdout",
     "output_type": "stream",
     "text": [
      "{'country', 'acoustic', 'blues', 'live', 'guitar'}\n",
      "{'folk', 'country', 'acoustic', 'blues', 'live'}\n",
      "{'folk', 'country', 'acoustic', 'blues', 'live'}\n"
     ]
    }
   ],
   "source": [
    "# Aus einem Set entfernen\n",
    "# Die .remove()Methode sucht nach einem Element innerhalb von setund entfernt es, falls vorhanden\n",
    "# andernfalls wird a KeyErrorgeworfen.\n",
    "# Given a list of song tags\n",
    "song_tags = {'guitar', 'acoustic', 'folk', 'country', 'live', 'blues'}\n",
    "# Remove an existing element\n",
    "song_tags.remove('folk')\n",
    "print(song_tags)\n",
    "# Try removing a non-existent element\n",
    "# song_tags.remove('fiddle')\n",
    "'--------------------------------'\n",
    "# Given a list of song tags\n",
    "song_tags = {'guitar', 'acoustic', 'folk', 'country', 'live', 'blues'}\n",
    "# Try removing a non-existent element but with the discard method\n",
    "song_tags.discard('guitar')\n",
    "print(song_tags)\n",
    "# Try removing a non-existent element but with the discard method\n",
    "song_tags.discard('fiddle')\n",
    "print(song_tags)"
   ],
   "metadata": {
    "collapsed": false,
    "pycharm": {
     "name": "#%%\n"
    }
   }
  },
  {
   "cell_type": "code",
   "execution_count": 8,
   "outputs": [
    {
     "name": "stdout",
     "output_type": "stream",
     "text": [
      "True\n",
      "False\n",
      "['shed', 'due', 'hammer', 'bomb', 'electric', 'horrible', 'writer', 'explosion', 'mushroom']\n",
      "{'Retro Words': {'happy', 'pop', 'warm'}}\n"
     ]
    }
   ],
   "source": [
    "# Elemente in einem Set finden\n",
    "# Given a list of song tags\n",
    "song_tags = {'guitar', 'acoustic', 'folk', 'country', 'live', 'blues'}\n",
    "# Print the result of testing whether 'country' is in the set of tags or not\n",
    "print('country' in song_tags)\n",
    "# Frozenset\n",
    "song_tags = {'guitar', 'acoustic', 'folk', 'country', 'live', 'blues'}\n",
    "frozen_tags = frozenset(song_tags)\n",
    "print('rock' in frozen_tags)\n",
    "'------------------------------------'\n",
    "allowed_tags = ['pop', 'hip-hop', 'rap', 'dance', 'electronic', 'latin', 'indie', 'alternative rock', 'classical', 'k-pop', 'country', 'rock', 'metal', 'jazz', 'exciting', 'sad', 'happy', 'upbeat', 'party', 'synth', 'rhythmic', 'emotional', 'relationship', 'warm', 'guitar', 'fiddle', 'romance', 'chill', 'swing']\n",
    "\n",
    "song_data_users = {'Retro Words': ['pop', 'explosion', 'hammer', 'bomb', 'warm', 'due', 'writer', 'happy', 'horrible', 'electric', 'mushroom', 'shed']}\n",
    "\n",
    "# Write your code below!\n",
    "tag_set = set(song_data_users['Retro Words'])\n",
    "\n",
    "bad_tags = []\n",
    "\n",
    "for tag in tag_set:\n",
    "  if tag not in allowed_tags:\n",
    "    bad_tags.append(tag)\n",
    "\n",
    "for bad in bad_tags:\n",
    "  if bad in tag_set:\n",
    "    tag_set.remove(bad)\n",
    "\n",
    "print(bad_tags)\n",
    "\n",
    "song_data_users['Retro Words'] = tag_set\n",
    "\n",
    "print(song_data_users)"
   ],
   "metadata": {
    "collapsed": false,
    "pycharm": {
     "name": "#%%\n"
    }
   }
  },
  {
   "cell_type": "code",
   "execution_count": 11,
   "outputs": [
    {
     "name": "stdout",
     "output_type": "stream",
     "text": [
      "{'rock and roll', 'rock', 'synth', 'heavy metal', 'electric guitar', 'classic'}\n",
      "frozenset({'rock and roll', 'rock', 'synth', 'heavy metal', 'electric guitar', 'classic'})\n",
      "{'Retro Words': {'happy', 'exciting', 'fun', 'pop', 'electronic', 'warm'}, 'Wait For Limit': {'romance', 'upbeat', 'chill', 'rap', 'rhythmic'}, 'Stomping Cue': {'party', 'country', 'fiddle', 'instrumental', 'swing'}, 'Lowkey Space': {'party', 'dance', 'synth', 'upbeat', 'electronic', 'fast'}}\n"
     ]
    }
   ],
   "source": [
    "# Zusammenfügen Union\n",
    "# Given a set and frozenset of song tags for two python related hits\n",
    "prepare_to_py = {'rock', 'heavy metal', 'electric guitar', 'synth'}\n",
    "\n",
    "py_and_dry = frozenset({'classic', 'rock', 'electric guitar', 'rock and roll'})\n",
    "\n",
    "# Get the union using the .union() method\n",
    "combined_tags = prepare_to_py.union(py_and_dry)\n",
    "print(combined_tags)\n",
    "\n",
    "# Get the union using the | operator\n",
    "frozen_combined_tags = py_and_dry | prepare_to_py\n",
    "print(frozen_combined_tags)\n",
    "\n",
    "song_data = {'Retro Words': ['pop', 'warm', 'happy', 'electronic'],\n",
    "             'Wait For Limit': ['rap', 'upbeat', 'romance'],\n",
    "             'Stomping Cue': ['country', 'fiddle', 'party'],\n",
    "             'Lowkey Space': ['electronic', 'dance', 'synth']}\n",
    "\n",
    "user_tag_data = {'Lowkey Space': ['party', 'synth', 'fast', 'upbeat'],\n",
    "                 'Retro Words': ['happy', 'electronic', 'fun', 'exciting'],\n",
    "                 'Wait For Limit': ['romance', 'chill', 'rap', 'rhythmic'],\n",
    "                 'Stomping Cue': ['country', 'swing', 'party', 'instrumental']}\n",
    "\n",
    "# Write your code below!\n",
    "new_song_data = {}\n",
    "\n",
    "for key, value in song_data.items():\n",
    "  new_song_data[key] = set(song_data[key]).union(user_tag_data[key])\n",
    "\n",
    "print(new_song_data)"
   ],
   "metadata": {
    "collapsed": false,
    "pycharm": {
     "name": "#%%\n"
    }
   }
  },
  {
   "cell_type": "code",
   "execution_count": 13,
   "outputs": [
    {
     "name": "stdout",
     "output_type": "stream",
     "text": [
      "frozenset({'rock', 'electric guitar'})\n",
      "{'rock', 'electric guitar'}\n"
     ]
    }
   ],
   "source": [
    "# Set Intersection (Überkreuzungen)\n",
    "# Given a set and frozenset of song tags for two python related hits\n",
    "prepare_to_py = {'rock', 'heavy metal', 'electric guitar', 'synth'}\n",
    "\n",
    "py_and_dry = frozenset({'classic', 'rock', 'electric guitar', 'rock and roll'})\n",
    "\n",
    "# Find the intersection between them while providing the `frozenset` first.\n",
    "frozen_intersected_tags = py_and_dry.intersection(prepare_to_py)\n",
    "print(frozen_intersected_tags)\n",
    "# Find the intersection using the operator `&` and providing the normal set first\n",
    "intersected_tags = prepare_to_py & py_and_dry\n",
    "print(intersected_tags)\n",
    "'------------------------------'\n",
    "song_data = {'Retro Words': ['pop', 'warm', 'happy', 'electronic', 'synth'],\n",
    "             'Wait For Limit': ['rap', 'upbeat', 'romance'],\n",
    "             'Stomping Cue': ['country', 'fiddle', 'party'],\n",
    "             'Lowkey Space': ['electronic', 'dance', 'synth', 'upbeat'],\n",
    "             'Back To Art': ['pop', 'sad', 'emotional', 'relationship'],\n",
    "             'Blinding Era': ['rap', 'intense', 'moving', 'fast'],\n",
    "             'Down To Green Hills': ['country', 'relaxing', 'vocal', 'emotional'],\n",
    "             'Double Lights': ['electronic', 'chill', 'relaxing', 'piano', 'synth']}\n",
    "\n",
    "user_recent_songs = {'Retro Words': ['pop', 'warm', 'happy', 'electronic', 'synth'],\n",
    "                     'Lowkey Space': ['electronic', 'dance', 'synth', 'upbeat']}\n",
    "\n",
    "# Write your code below!\n",
    "tags_int = set(user_recent_songs['Retro Words']).intersection(set(user_recent_songs['Lowkey Space']))\n",
    "print(tags_int)\n",
    "recommended_songs = {}\n",
    "\n",
    "for key, value in song_data.items():\n",
    "  for tag in tags_int:\n",
    "    if tag in value and key not in user_recent_songs:\n",
    "      recommended_songs[key] = value\n",
    "\n",
    "print(recommended_songs)"
   ],
   "metadata": {
    "collapsed": false,
    "pycharm": {
     "name": "#%%\n"
    }
   }
  },
  {
   "cell_type": "code",
   "execution_count": 17,
   "outputs": [
    {
     "name": "stdout",
     "output_type": "stream",
     "text": [
      "{'synth', 'heavy metal'}\n",
      "frozenset({'classic', 'rock and roll'})\n",
      "{'relationship', 'sad', 'emotional'}\n",
      "{'Wait For Limit': ['rap', 'upbeat', 'romance', 'relationship'], 'Down To Green Hills': ['country', 'relaxing', 'vocal', 'emotional']}\n"
     ]
    }
   ],
   "source": [
    "# Set Difference\n",
    "# Given a set and frozenset of song tags for two python related hits\n",
    "prepare_to_py = {'rock', 'heavy metal', 'electric guitar', 'synth'}\n",
    "\n",
    "py_and_dry = frozenset({'classic', 'rock', 'electric guitar', 'rock and roll'})\n",
    "\n",
    "# Find the elements which are only in prepare_to_py\n",
    "only_in_prepare_to_py = prepare_to_py.difference(py_and_dry)\n",
    "print(only_in_prepare_to_py)\n",
    "\n",
    "# Find the elements which are only in py_and_dry\n",
    "only_in_py_and_dry = py_and_dry - prepare_to_py\n",
    "print(only_in_py_and_dry)\n",
    "'----------------------------------'\n",
    "song_data = {'Retro Words': ['pop', 'warm', 'happy', 'electronic', 'synth'],\n",
    "             'Wait For Limit': ['rap', 'upbeat', 'romance', 'relationship'],\n",
    "             'Stomping Cue': ['country', 'fiddle', 'party'],\n",
    "             'Lowkey Space': ['electronic', 'dance', 'synth', 'upbeat'],\n",
    "             'Back To Art': ['pop', 'sad', 'emotional', 'relationship'],\n",
    "             'Blinding Era': ['rap', 'intense', 'moving', 'fast'],\n",
    "             'Down To Green Hills': ['country', 'relaxing', 'vocal', 'emotional'],\n",
    "             'Double Lights': ['electronic', 'chill', 'relaxing', 'piano', 'synth']}\n",
    "\n",
    "user_liked_song = {'Back To Art': ['pop', 'sad', 'emotional', 'relationship']}\n",
    "user_disliked_song = {'Retro Words': ['pop', 'warm', 'happy', 'electronic', 'synth']}\n",
    "\n",
    "# Write your code below!\n",
    "tag_diff = set(user_liked_song['Back To Art']).difference(set(user_disliked_song['Retro Words']))\n",
    "print(tag_diff)\n",
    "recommended_songs = {}\n",
    "\n",
    "for key, value in song_data.items():\n",
    "  for tag in tag_diff:\n",
    "    if tag in value and key not in user_liked_song and key not in user_disliked_song:\n",
    "      recommended_songs[key] = value\n",
    "\n",
    "print(recommended_songs)"
   ],
   "metadata": {
    "collapsed": false,
    "pycharm": {
     "name": "#%%\n"
    }
   }
  },
  {
   "cell_type": "code",
   "execution_count": 19,
   "outputs": [
    {
     "name": "stdout",
     "output_type": "stream",
     "text": [
      "{'rock and roll', 'synth', 'heavy metal', 'classic'}\n",
      "frozenset({'rock and roll', 'synth', 'heavy metal', 'classic'})\n",
      "{'country', 'fast', 'intense', 'fiddle', 'happy', 'party', 'dance', 'upbeat', 'warm', 'rap', 'romance', 'sad', 'emotional', 'moving', 'pop'}\n"
     ]
    }
   ],
   "source": [
    "# Symmetric Difference\n",
    "# Given a set and frozenset of song tags for two python related hits\n",
    "# Ein resultierendes Set enthält alle Elemente aus den Sets, die in dem einen oder anderen enthalten\n",
    "# sind, aber nicht in beiden.\n",
    "prepare_to_py = {'rock', 'heavy metal', 'electric guitar', 'synth'}\n",
    "\n",
    "py_and_dry = frozenset({'classic', 'rock', 'electric guitar', 'rock and roll'})\n",
    "\n",
    "# Find the elements which are exclusive to each song and not shared using the method\n",
    "exclusive_tags = prepare_to_py.symmetric_difference(py_and_dry)\n",
    "print(exclusive_tags)\n",
    "\n",
    "# Find the elements which are exclusive to each song and not shared using the operator\n",
    "frozen_exclusive_tags = py_and_dry ^ prepare_to_py\n",
    "print(frozen_exclusive_tags)\n",
    "'----------------------------'\n",
    "user_song_history = {'Retro Words': ['pop', 'warm', 'happy', 'electronic', 'synth'],\n",
    "                     'Stomping Cue': ['country', 'fiddle', 'party'],\n",
    "                     'Back To Art': ['pop', 'sad', 'emotional', 'relationship'],\n",
    "                     'Double Lights': ['electronic', 'chill', 'relaxing', 'piano', 'synth']}\n",
    "\n",
    "friend_song_history = {'Lowkey Space': ['electronic', 'dance', 'synth', 'upbeat'],\n",
    "                     'Blinding Era': ['rap', 'intense', 'moving', 'fast'],\n",
    "                     'Wait For Limit': ['rap', 'upbeat', 'romance', 'relationship'],\n",
    "                     'Double Lights': ['electronic', 'chill', 'relaxing', 'piano', 'synth']}\n",
    "\n",
    "# Checkpoint 1\n",
    "user_tags = set()\n",
    "for key, val in user_song_history.items():\n",
    "    user_tags.update(set(val))\n",
    "\n",
    "# Checkpoint 2\n",
    "friend_tags = set()\n",
    "for key, val in friend_song_history.items():\n",
    "    friend_tags.update(set(val))\n",
    "\n",
    "# Checkpoint 3\n",
    "unique_tags = user_tags ^ friend_tags\n",
    "print(unique_tags)"
   ],
   "metadata": {
    "collapsed": false,
    "pycharm": {
     "name": "#%%\n"
    }
   }
  },
  {
   "cell_type": "raw",
   "source": [
    "\n",
    "Erstellen eines setoder frozenset:\n",
    "\n",
    "Für setContainer können wir geschweifte Klammern {}, den set()Konstruktor oder Set-Comprehension verwenden.\n",
    "Für frozensetContainer können wir nur den frozenset()Konstruktor verwenden.\n",
    "Hinzufügen von Elementen zu einem set:\n",
    "\n",
    "setMit der .add()Methode können wir Artikel individuell zu einem hinzufügen .\n",
    "Mit der .update()Methode können wir mehrere Elemente gleichzeitig hinzufügen .\n",
    "Elemente aus einem entfernen set:\n",
    "\n",
    "Die .remove()Methode wird verwendet, um Elemente aus einer set.\n",
    "Die .discard()Methode kann auch verwendet werden, um Elemente aus einer set. Es wird kein a ausgegeben, KeyErrorwenn das Element nicht gefunden wird.\n",
    "Elemente finden:\n",
    "\n",
    "Das in Schlüsselwort kann mit Containern setund verwendet werden frozenset, um zu testen, ob ein Element darin vorhanden ist.\n",
    "\n",
    "Union:\n",
    "\n",
    "- Eine Union kann mithilfe von setoder frozensetcontainern mit der .union()Methode oder dem |Operator gefunden werden.\n",
    "\n",
    "Überschneidung:\n",
    "\n",
    "Eine Kreuzung kann mithilfe von setoder frozensetContainern mit der .intersection()Methode oder dem &Operator gefunden werden.\n",
    "Unterschied:\n",
    "\n",
    "Der Unterschied kann mit setoder frozensetcontainern mit der .difference()Methode oder dem -Operator gefunden werden.\n",
    "\n",
    "Symmetrischer Unterschied:\n",
    "\n",
    "Der symmetrische Unterschied kann mit setoder frozensetContainern mit der .symmetric_difference()Methode oder ^Operator gefunden werden\n"
   ],
   "metadata": {
    "collapsed": false,
    "pycharm": {
     "name": "#%% raw\n"
    }
   }
  }
 ],
 "metadata": {
  "kernelspec": {
   "display_name": "Python 3",
   "language": "python",
   "name": "python3"
  },
  "language_info": {
   "codemirror_mode": {
    "name": "ipython",
    "version": 2
   },
   "file_extension": ".py",
   "mimetype": "text/x-python",
   "name": "python",
   "nbconvert_exporter": "python",
   "pygments_lexer": "ipython2",
   "version": "2.7.6"
  }
 },
 "nbformat": 4,
 "nbformat_minor": 0
}