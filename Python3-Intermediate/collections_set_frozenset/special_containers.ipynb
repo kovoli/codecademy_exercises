{
 "cells": [
  {
   "cell_type": "code",
   "execution_count": 16,
   "metadata": {
    "collapsed": true
   },
   "outputs": [
    {
     "name": "stdout",
     "output_type": "stream",
     "text": [
      "deque([19, 17, 15, 13, 11, 9, 7, 5, 3, 1, 2, 4, 6, 8, 10, 12, 14, 16, 18])\n",
      "deque([18, 16, 14, 12, 10, 8, 6, 4, 2, 19, 17, 15, 13, 11, 9, 7, 5, 3, 1])\n"
     ]
    }
   ],
   "source": [
    "# Deque\n",
    "from collections import deque\n",
    "\"\"\"Ein fortschrittlicher Container, der für das Anhängen und Aufgeben von Elementen von vorne und hinten optimiert ist. Um auf viele Elemente zuzugreifen, die an anderer Stelle positioniert sind, ist es besser, eine list.\"\"\"\n",
    "\n",
    "data = deque()\n",
    "\n",
    "for i in range(1, 20):\n",
    "    if i % 2 == 0:\n",
    "        data.append(i)\n",
    "    else:\n",
    "        data.appendleft(i)\n",
    "\n",
    "data2 = deque()\n",
    "\n",
    "for i in list(data):\n",
    "    if i % 2 != 0:\n",
    "        data2.append(i)\n",
    "    else:\n",
    "        data2.appendleft(i)\n",
    "\n",
    "\n",
    "print(data)\n",
    "print(data2)"
   ]
  },
  {
   "cell_type": "code",
   "execution_count": null,
   "outputs": [],
   "source": [
    "# Benanntes Tupel\n",
    "\"\"\"Damit namedtuplekönnen wir eine unveränderliche Datenstruktur ähnlich einer erstellen tuple, müssen jedoch nicht über Indizes auf die gespeicherten Daten zugreifen. Stattdessen können wir Instanzen von our namedtuplemit benannten Attributen erstellen . Wir können dann den .Operator verwenden, um Daten anhand der Attributnamen abzurufen.\"\"\"\n",
    "\n",
    "clothes = [('t-shirt', 'green', 'large', 9.99),\n",
    "           ('jeans', 'blue', 'medium', 14.99),\n",
    "           ('jacket', 'black', 'x-large', 19.99),\n",
    "           ('t-shirt', 'grey', 'small', 8.99),\n",
    "           ('shoes', 'white', '12', 24.99),\n",
    "           ('t-shirt', 'grey', 'small', 8.99)]\n",
    "\n",
    "# Write your code below!\n",
    "from collections import namedtuple\n",
    "\n",
    "ClothingItem = namedtuple('ClothingItem', ['type', 'color', 'size', 'price'])\n",
    "\n",
    "new_coat = ClothingItem('coat', 'black', 'small', 14.99)\n",
    "\n",
    "coat_cost = new_coat.price\n",
    "\n",
    "updated_clothes_data = []\n",
    "\n",
    "for tup in clothes:\n",
    "    updated_clothes_data.append(ClothingItem(tup[0],tup[1],tup[2],tup[3]))\n",
    "\n",
    "print(updated_clothes_data)"
   ],
   "metadata": {
    "collapsed": false,
    "pycharm": {
     "name": "#%%\n"
    }
   }
  },
  {
   "cell_type": "code",
   "execution_count": null,
   "outputs": [],
   "source": [
    "# DefaultDict\n",
    "\"\"\"Der Umgang mit häufigen KeyErrorAusnahmen kann ziemlich umständlich sein, und in bestimmten Fällen ist es möglicherweise besser, das Auslösen eines Fehlers zu vermeiden. Eine der Möglichkeiten, die Python bietet, um dieses Problem zu lösen, besteht darin, einen fehlenden Standardwert im Wörterbuch zu verwenden, und genau das defaultdicttut die Sammlung.\"\"\"\n",
    "\n",
    "from collections import defaultdict\n",
    "site_locations = {'t-shirt': 'Shirts',\n",
    "                  'dress shirt': 'Shirts',\n",
    "                  'flannel shirt': 'Shirts',\n",
    "                  'sweatshirt': 'Shirts',\n",
    "                  'jeans': 'Pants',\n",
    "                  'dress pants': 'Pants',\n",
    "                  'cropped pants': 'Pants',\n",
    "                  'leggings': 'Pants'\n",
    "                  }\n",
    "updated_products = ['draped blouse', 'leggings', 'undershirt', 'dress shirt', 'jeans', 'sun dress', 'flannel shirt', 'cropped pants', 'dress pants', 't-shirt', 'camisole top', 'sweatshirt']\n",
    "\n",
    "# Write your code below!\n",
    "\n",
    "# Checkpoint #1\n",
    "validated_locations = defaultdict(lambda: 'TODO: Add to website')\n",
    "\n",
    "# Checkpoint #2\n",
    "validated_locations.update(site_locations)\n",
    "\n",
    "# Checkpoint #3\n",
    "for item in updated_products:\n",
    "    site_locations[item] = validated_locations[item]\n",
    "\n",
    "print(site_locations)"
   ],
   "metadata": {
    "collapsed": false,
    "pycharm": {
     "name": "#%%\n"
    }
   }
  },
  {
   "cell_type": "code",
   "execution_count": 17,
   "outputs": [
    {
     "name": "stdout",
     "output_type": "stream",
     "text": [
      "OrderedDict([('Order: 1', 'purchased'), ('Order: 2', 'purchased'), ('Order: 3', 'purchased'), ('Order: 5', 'purchased'), ('Order: 8', 'purchased'), ('Order: 11', 'purchased'), ('Order: 13', 'purchased'), ('Order: 15', 'purchased'), ('Order: 4', 'returned'), ('Order: 7', 'returned'), ('Order: 9', 'returned'), ('Order: 12', 'returned')])\n"
     ]
    }
   ],
   "source": [
    "# OrderedDict\n",
    "\"\"\"Das OrderedDictkombiniert die Funktionalität von a listund a, dictindem es die Reihenfolge der Elemente beibehält, uns aber auch den Zugriff auf Werte über Schlüssel ermöglicht, ohne einen Index für die Position gespeicherter Wörterbücher bereitstellen zu müssen.\"\"\"\n",
    "\n",
    "from collections import OrderedDict\n",
    "\n",
    "# The first 15 orders are provided\n",
    "order_data = [['Order: 1', 'purchased'],\n",
    "              ['Order: 2', 'purchased'],\n",
    "              ['Order: 3', 'purchased'],\n",
    "              ['Order: 4', 'returned'],\n",
    "              ['Order: 5', 'purchased'],\n",
    "              ['Order: 6', 'canceled'],\n",
    "              ['Order: 7', 'returned'],\n",
    "              ['Order: 8', 'purchased'],\n",
    "              ['Order: 9', 'returned'],\n",
    "              ['Order: 10', 'canceled'],\n",
    "              ['Order: 11', 'purchased'],\n",
    "              ['Order: 12', 'returned'],\n",
    "              ['Order: 13', 'purchased'],\n",
    "              ['Order: 14', 'canceled'],\n",
    "              ['Order: 15', 'purchased']]\n",
    "\n",
    "# Write your code below!\n",
    "\n",
    "# Checkpoint #1\n",
    "orders = OrderedDict(order_data)\n",
    "\n",
    "# Checkpoint #2\n",
    "to_move = []\n",
    "to_remove = []\n",
    "for key, val in orders.items():\n",
    "  if val == 'returned':\n",
    "    to_move.append(key)\n",
    "  elif val == 'canceled':\n",
    "    to_remove.append(key)\n",
    "\n",
    "# Checkpoint #3\n",
    "for item in to_remove:\n",
    "  orders.pop(item)\n",
    "\n",
    "# Checkpoint #4\n",
    "for item in to_move:\n",
    "  orders.move_to_end(item)\n",
    "\n",
    "# Checkpoint #5\n",
    "print(orders)"
   ],
   "metadata": {
    "collapsed": false,
    "pycharm": {
     "name": "#%%\n"
    }
   }
  },
  {
   "cell_type": "code",
   "execution_count": 30,
   "outputs": [
    {
     "name": "stdout",
     "output_type": "stream",
     "text": [
      "3834.8700000000244\n",
      "3427.09\n"
     ]
    }
   ],
   "source": [
    "# ChainMap\n",
    "'''Dieser interessante Container kombiniert mehrere Mappings in einem einzigen Container. Beim Zugriff auf einen Wert mit einem Schlüssel wird jede darin enthaltene Zuordnung durchsucht, bis eine Übereinstimmung gefunden oder das Ende erreicht ist. Es bietet auch einige nützliche Methoden zum Gruppieren von übergeordneten und untergeordneten Zuordnungen.'''\n",
    "\n",
    "from collections import ChainMap\n",
    "year_profit_data = [\n",
    "    {'jan_profit': 15492.30, 'jan_holiday_profit': 2589.12},\n",
    "    {'feb_profit': 17018.05, 'feb_holiday_profit': 3701.88},\n",
    "    {'mar_profit': 11849.13},\n",
    "    {'apr_profit': 9870.68},\n",
    "    {'may_profit': 13662.34},\n",
    "    {'jun_profit': 12903.54},\n",
    "    {'jul_profit': 16965.08, 'jul_holiday_profit': 4360.21},\n",
    "    {'aug_profit': 17685.69},\n",
    "    {'sep_profit': 9815.57},\n",
    "    {'oct_profit': 10318.28},\n",
    "    {'nov_profit': 23295.43, 'nov_holiday_profit': 9896.55},\n",
    "    {'dec_profit': 21920.19, 'dec_holiday_profit': 8060.79}\n",
    "]\n",
    "\n",
    "new_months_data = [\n",
    "    {'jan_profit': 13977.85, 'jan_holiday_profit': 2176.43},\n",
    "    {'feb_profit': 16692.15, 'feb_holiday_profit': 3239.74},\n",
    "    {'mar_profit': 17524.35, 'mar_holiday_profit': 4301.92}\n",
    "]\n",
    "\n",
    "# Write your code below!\n",
    "\n",
    "# Checkpoint #1\n",
    "profit_map = ChainMap(*year_profit_data)\n",
    "\n",
    "# Checkpoint #2\n",
    "def get_profits(input_map):\n",
    "    total_standard_profit = 0.0\n",
    "    total_holiday_profit = 0.0\n",
    "\n",
    "    for key in input_map.keys():\n",
    "        if 'holiday' in key:\n",
    "            total_holiday_profit += input_map[key]\n",
    "        else:\n",
    "            total_standard_profit += input_map[key]\n",
    "\n",
    "    return total_standard_profit, total_holiday_profit\n",
    "\n",
    "last_year_standard_profit, last_year_holiday_profit = get_profits(profit_map)\n",
    "\n",
    "# Checkpoint #3\n",
    "for item in new_months_data:\n",
    "    profit_map = profit_map.new_child(item)\n",
    "\n",
    "current_year_standard_profit, current_year_holiday_profit = get_profits(profit_map)\n",
    "\n",
    "# Checkpoint #4\n",
    "year_diff_standard_profit = current_year_standard_profit - last_year_standard_profit\n",
    "year_diff_holiday_profit = current_year_holiday_profit - last_year_holiday_profit\n",
    "\n",
    "print(year_diff_standard_profit)\n",
    "print(year_diff_holiday_profit)"
   ],
   "metadata": {
    "collapsed": false,
    "pycharm": {
     "name": "#%%\n"
    }
   }
  },
  {
   "cell_type": "code",
   "execution_count": 38,
   "outputs": [
    {
     "name": "stdout",
     "output_type": "stream",
     "text": [
      "Counter({'skirt': 8, 'jeans': 8, 'hoodie': 7, 'blouse': 6, 'shoes': 6, 'dress': 5, 'boots': 5, 'jacket': 3, 't-shirt': 2})\n",
      "2\n"
     ]
    }
   ],
   "source": [
    "# Counter\n",
    "\"\"\"Dieser erweiterte Container zählt automatisch die Daten in einem hashfähigen Objekt, das wir an seinen Konstruktor übergeben. Es speichert es als Wörterbuch, in dem die Schlüssel die Elemente und die Werte die Anzahl der Vorkommen sind.\"\"\"\n",
    "\n",
    "clothes_list = ['skirt', 'hoodie', 'dress', 'blouse', 'jeans', 'shoes', 'skirt', 'skirt', 'jeans', 'hoodie', 'boots', 'jeans', 'jacket', 't-shirt', 'skirt', 'skirt', 'dress', 'shoes', 'blouse', 'hoodie', 'skirt', 'boots', 'shoes', 'boots', 'jeans', 'hoodie', 'blouse', 'hoodie', 'shoes', 'shoes', 'blouse', 'boots', 'blouse', 'hoodie', 't-shirt', 'jeans', 'dress', 'skirt', 'jacket', 'boots', 'skirt', 'dress', 'jeans', 'jeans', 'jacket', 'jeans', 'shoes', 'dress', 'hoodie', 'blouse']\n",
    "from collections import Counter\n",
    "\n",
    "counted_items = Counter(clothes_list)\n",
    "print(counted_items)\n",
    "'-----------------------------------'\n",
    "from collections import Counter\n",
    "opening_inventory = ['shoes', 'shoes', 'skirt', 'jeans', 'blouse', 'shoes', 't-shirt', 'dress', 'jeans', 'blouse', 'skirt', 'skirt', 'shorts', 'jeans', 'dress', 't-shirt', 'dress', 'blouse', 't-shirt', 'dress', 'dress', 'dress', 'jeans', 'dress', 'blouse']\n",
    "\n",
    "closing_inventory = ['shoes', 'skirt', 'jeans', 'blouse', 'dress', 'skirt', 'shorts', 'jeans', 'dress', 'dress', 'jeans', 'dress', 'blouse']\n",
    "\n",
    "# Write your code below!\n",
    "def find_amount_sold(opening, closing, item):\n",
    "  opening_count = Counter(opening)\n",
    "  closing_count = Counter(closing)\n",
    "  opening_count.subtract(closing_count)\n",
    "  return opening_count[item]\n",
    "\n",
    "tshirts_sold = find_amount_sold(opening_inventory, closing_inventory, 'blouse')\n",
    "print(tshirts_sold)"
   ],
   "metadata": {
    "collapsed": false,
    "pycharm": {
     "name": "#%%\n"
    }
   }
  },
  {
   "cell_type": "code",
   "execution_count": 1,
   "outputs": [
    {
     "name": "stdout",
     "output_type": "stream",
     "text": [
      "Name: Dmitri Buyer\n",
      "Age: 38\n",
      "Address: 123 Python Avenue\n",
      "Phone Number: 5557098603\n"
     ]
    }
   ],
   "source": [
    "# Container Wrappers\n",
    "class Customer:\n",
    "\n",
    "  def __init__(self, name, age, address, phone_number):\n",
    "    self.name = name\n",
    "    self.age = age\n",
    "    self.address = address\n",
    "    self.phone_number = phone_number\n",
    "\n",
    "\n",
    "class CustomerWrap(Customer):\n",
    "\n",
    "  def __init__(self, name, age, address, phone_number):\n",
    "    self.customer = Customer(name, age, address, phone_number)\n",
    "\n",
    "  def display_customer_info(self):\n",
    "    print('Name: ' + self.customer.name)\n",
    "    print('Age: ' + str(self.customer.age))\n",
    "    print('Address: ' + self.customer.address)\n",
    "    print('Phone Number: ' + self.customer.phone_number)\n",
    "\n",
    "\n",
    "customer = CustomerWrap('Dmitri Buyer', 38, '123 Python Avenue', '5557098603')\n",
    "customer.display_customer_info()"
   ],
   "metadata": {
    "collapsed": false,
    "pycharm": {
     "name": "#%%\n"
    }
   }
  },
  {
   "cell_type": "code",
   "execution_count": 35,
   "outputs": [
    {
     "name": "stdout",
     "output_type": "stream",
     "text": [
      "{'order_4829': {'type': 't-shirt', 'size': 'large', 'price': 9.99, 'order_status': 'processing'}, 'order_7378': {'type': 'jacket', 'size': 'large', 'price': 24.99, 'order_status': 'processing'}}\n"
     ]
    }
   ],
   "source": [
    "# UserDict\n",
    "\"\"\"Dies ist ein Container-Wrapper, mit dem wir unsere eigene Version eines Wörterbuchs erstellen können\"\"\"\n",
    "from collections import UserDict\n",
    "data = {'order_4829': {'type': 't-shirt', 'size': 'large', 'price': 9.99, 'order_status': 'processing'},\n",
    "        'order_6184': {'type': 'pants', 'size': 'medium', 'price': 14.99, 'order_status': 'complete'},\n",
    "        'order_2905': {'type': 'shoes', 'size': 12, 'price': 22.50, 'order_status': 'complete'},\n",
    "        'order_7378': {'type': 'jacket', 'size': 'large', 'price': 24.99, 'order_status': 'processing'}}\n",
    "\n",
    "# Write your code below!\n",
    "\n",
    "# Checkpoint #1\n",
    "class OrderProcessingDict(UserDict):\n",
    "\n",
    "    def clean_orders(self):\n",
    "        to_del = []\n",
    "\n",
    "        for key, val in self.data.items():\n",
    "            if val['order_status'] == 'complete':\n",
    "                to_del.append(key)\n",
    "\n",
    "        for item in to_del:\n",
    "            del self.data[item]\n",
    "\n",
    "# Checkpoint #2\n",
    "process_dict = OrderProcessingDict(data)\n",
    "process_dict.clean_orders()\n",
    "print(process_dict)"
   ],
   "metadata": {
    "collapsed": false,
    "pycharm": {
     "name": "#%%\n"
    }
   }
  },
  {
   "cell_type": "code",
   "execution_count": 36,
   "outputs": [
    {
     "name": "stdout",
     "output_type": "stream",
     "text": [
      "[0, 1, 2, 3, 4, 5, 6, 7, 8, 9]\n"
     ]
    }
   ],
   "source": [
    "# UserList\n",
    "\"\"\"Dies ist ein Container-Wrapper, mit dem wir unsere eigene Version einer Liste erstellen können\"\"\"\n",
    "from collections import UserList\n",
    "data = [4, 6, 8, 9, 5, 7, 3, 1, 0]\n",
    "\n",
    "# Write your code below!\n",
    "\n",
    "# Checkpoint #1\n",
    "class ListSorter(UserList):\n",
    "\n",
    "    def append(self, item):\n",
    "        self.data.append(item)\n",
    "        self.data.sort()\n",
    "\n",
    "# Checkpoint #2\n",
    "sorted_list = ListSorter(data)\n",
    "sorted_list.append(2)\n",
    "print(sorted_list)"
   ],
   "metadata": {
    "collapsed": false,
    "pycharm": {
     "name": "#%%\n"
    }
   }
  },
  {
   "cell_type": "code",
   "execution_count": 37,
   "outputs": [
    {
     "name": "stdout",
     "output_type": "stream",
     "text": [
      "python powered products\n"
     ]
    }
   ],
   "source": [
    "# UserString\n",
    "\"\"\"Dies ist ein Container-Wrapper, mit dem wir unsere eigene Version eines Strings erstellen können\"\"\"\n",
    "\n",
    "from collections import UserString\n",
    "str_name = 'python powered patterned products'\n",
    "str_word = 'patterned '\n",
    "\n",
    "# Write your code below!\n",
    "\n",
    "# Checkpoint #1\n",
    "class SubtractString(UserString):\n",
    "\n",
    "    def __sub__(self, other):\n",
    "        if other in self.data:\n",
    "            self.data = self.data.replace(other, '')\n",
    "\n",
    "# Checkpoint #2\n",
    "subtract_string = SubtractString(str_name)\n",
    "subtract_string - str_word\n",
    "print(subtract_string)"
   ],
   "metadata": {
    "collapsed": false,
    "pycharm": {
     "name": "#%%\n"
    }
   }
  },
  {
   "cell_type": "code",
   "execution_count": 40,
   "outputs": [
    {
     "name": "stdout",
     "output_type": "stream",
     "text": [
      "[ClothesBundle(bundle_items=[['shoes_157895', 14.99], ['skirt_196543', 12.99], ['shoes_135786', 17.99], ['dress_357896', 29.99], ['pants_086367', 30.99]], bundle_price=106.94999999999999), ClothesBundle(bundle_items=[['pants_765321', 15.99], ['pants_906841', 19.99], ['shirt_103985', 15.99], ['pants_267953', 21.99], ['shoes_948059', 29.99]], bundle_price=103.94999999999999)]\n"
     ]
    }
   ],
   "source": [
    "from collections import *\n",
    "\n",
    "overstock_items = [['shirt_103985', 15.99],\n",
    "                    ['pants_906841', 19.99],\n",
    "                    ['pants_765321', 15.99],\n",
    "                    ['shoes_948059', 29.99],\n",
    "                    ['shoes_356864', 9.99],\n",
    "                    ['shirt_865327', 10.99],\n",
    "                    ['shorts_086853', 9.99],\n",
    "                    ['pants_267953', 21.99],\n",
    "                    ['dress_976264', 32.99],\n",
    "                    ['shoes_135786', 17.99],\n",
    "                    ['skirt_196543', 12.99],\n",
    "                    ['jacket_976535', 26.99],\n",
    "                    ['pants_086367', 30.99],\n",
    "                    ['dress_357896', 29.99],\n",
    "                    ['shoes_157895', 14.99]]\n",
    "\n",
    "# Write your code below!\n",
    "\n",
    "# Checkpoint #1\n",
    "split_prices = deque()\n",
    "\n",
    "#Checkpoint #2\n",
    "for item in overstock_items:\n",
    "    if item[1] > 20.0:\n",
    "        split_prices.appendleft(item)\n",
    "    else:\n",
    "        split_prices.append(item)\n",
    "\n",
    "# Checkpoint #3\n",
    "ClothesBundle = namedtuple('ClothesBundle', ['bundle_items', 'bundle_price'])\n",
    "\n",
    "# Checkpoint #4\n",
    "bundles = []\n",
    "while len(split_prices) >= 5:\n",
    "    bundle_list = [split_prices.pop(), split_prices.pop(), split_prices.pop(), split_prices.popleft(),\n",
    "                   split_prices.popleft()]\n",
    "    calc_price = sum(b[1] for b in bundle_list)\n",
    "    bundles.append(ClothesBundle(bundle_list, calc_price))\n",
    "\n",
    "# Checkpoint #5\n",
    "promoted_bundles = []\n",
    "for bundle in bundles:\n",
    "    if bundle.bundle_price > 100:\n",
    "        promoted_bundles.append(bundle)\n",
    "\n",
    "# Checkpoint #6\n",
    "print(promoted_bundles)\n",
    "\n",
    "# for bundle in promoted_bundles:\n",
    "#     print(bundle)"
   ],
   "metadata": {
    "collapsed": false,
    "pycharm": {
     "name": "#%%\n"
    }
   }
  }
 ],
 "metadata": {
  "kernelspec": {
   "display_name": "Python 3",
   "language": "python",
   "name": "python3"
  },
  "language_info": {
   "codemirror_mode": {
    "name": "ipython",
    "version": 2
   },
   "file_extension": ".py",
   "mimetype": "text/x-python",
   "name": "python",
   "nbconvert_exporter": "python",
   "pygments_lexer": "ipython2",
   "version": "2.7.6"
  }
 },
 "nbformat": 4,
 "nbformat_minor": 0
}