{
 "cells": [
  {
   "cell_type": "code",
   "execution_count": 1,
   "metadata": {
    "collapsed": true
   },
   "outputs": [
    {
     "name": "stdout",
     "output_type": "stream",
     "text": [
      "['__add__', '__class__', '__class_getitem__', '__contains__', '__delattr__', '__delitem__', '__dir__', '__doc__', '__eq__', '__format__', '__ge__', '__getattribute__', '__getitem__', '__gt__', '__hash__', '__iadd__', '__imul__', '__init__', '__init_subclass__', '__iter__', '__le__', '__len__', '__lt__', '__mul__', '__ne__', '__new__', '__reduce__', '__reduce_ex__', '__repr__', '__reversed__', '__rmul__', '__setattr__', '__setitem__', '__sizeof__', '__str__', '__subclasshook__', 'append', 'clear', 'copy', 'count', 'extend', 'index', 'insert', 'pop', 'remove', 'reverse', 'sort']\n",
      "<list_iterator object at 0x106f78a00>\n",
      "<list_iterator object at 0x106f78a30>\n"
     ]
    }
   ],
   "source": [
    "# Iterator-Objekte: __iter__() und iter()\n",
    "\n",
    "sku_list = [7046538, 8289407, 9056375, 2308597]\n",
    "# Write your code below:\n",
    "print(dir(sku_list))\n",
    "sku_iterator_object_one = sku_list.__iter__()\n",
    "print(sku_iterator_object_one)\n",
    "sku_iterator_object_two = iter(sku_list)\n",
    "print(sku_iterator_object_two)"
   ]
  },
  {
   "cell_type": "code",
   "execution_count": 2,
   "outputs": [
    {
     "name": "stdout",
     "output_type": "stream",
     "text": [
      "Great Dane Foods\n",
      "Min Pip Pup Foods\n",
      "Pawsome Pup Foods\n"
     ]
    },
    {
     "ename": "StopIteration",
     "evalue": "",
     "output_type": "error",
     "traceback": [
      "\u001B[0;31m---------------------------------------------------------------------------\u001B[0m",
      "\u001B[0;31mStopIteration\u001B[0m                             Traceback (most recent call last)",
      "\u001B[0;32m/var/folders/yz/3ff8m7cs7b7b4_vw3_2pk8sc0000gn/T/ipykernel_1719/3138363269.py\u001B[0m in \u001B[0;36m<module>\u001B[0;34m\u001B[0m\n\u001B[1;32m     16\u001B[0m \u001B[0mprint\u001B[0m\u001B[0;34m(\u001B[0m\u001B[0mnext_dog_food3\u001B[0m\u001B[0;34m)\u001B[0m\u001B[0;34m\u001B[0m\u001B[0;34m\u001B[0m\u001B[0m\n\u001B[1;32m     17\u001B[0m \u001B[0;34m\u001B[0m\u001B[0m\n\u001B[0;32m---> 18\u001B[0;31m \u001B[0mnext\u001B[0m\u001B[0;34m(\u001B[0m\u001B[0mdog_food_iterator\u001B[0m\u001B[0;34m)\u001B[0m\u001B[0;34m\u001B[0m\u001B[0;34m\u001B[0m\u001B[0m\n\u001B[0m",
      "\u001B[0;31mStopIteration\u001B[0m: "
     ]
    }
   ],
   "source": [
    "# Iterator-Objekte:__next__() und next()\n",
    "dog_foods = {\n",
    "  \"Great Dane Foods\": 4,\n",
    "  \"Min Pip Pup Foods\": 10,\n",
    "  \"Pawsome Pup Foods\": 8\n",
    "}\n",
    "\n",
    "# Write your code below:\n",
    "dog_food_iterator = iter(dog_foods)\n",
    "\n",
    "next_dog_food1 = dog_food_iterator.__next__()\n",
    "print(next_dog_food1)\n",
    "next_dog_food2 = dog_food_iterator.__next__()\n",
    "next_dog_food3 = dog_food_iterator.__next__()\n",
    "print(next_dog_food2)\n",
    "print(next_dog_food3)\n",
    "next(dog_food_iterator)"
   ],
   "metadata": {
    "collapsed": false,
    "pycharm": {
     "name": "#%%\n"
    }
   }
  },
  {
   "cell_type": "code",
   "execution_count": 4,
   "outputs": [
    {
     "name": "stdout",
     "output_type": "stream",
     "text": [
      "forelle is available!\n",
      "Karpfen is available!\n",
      "Hecht is available!\n",
      "Barbe is available!\n"
     ]
    }
   ],
   "source": [
    "# Benutzerdefinierte Iteratoren\n",
    "\n",
    "class FishInventory:\n",
    "  def __init__(self, fishList):\n",
    "      self.available_fish = fishList\n",
    "\n",
    "  def __iter__(self):\n",
    "    self.index = 0\n",
    "    return self\n",
    "\n",
    "  def __next__(self):\n",
    "    if self.index < len(self.available_fish):\n",
    "      fish_status = self.available_fish[self.index] + \" is available!\"\n",
    "      self.index += 1\n",
    "      return fish_status\n",
    "    else:\n",
    "      raise StopIteration\n",
    "\n",
    "fishe = FishInventory(['forelle', 'Karpfen', 'Hecht', 'Barbe'])\n",
    "for fish in fishe:\n",
    "  print(fish)"
   ],
   "metadata": {
    "collapsed": false,
    "pycharm": {
     "name": "#%%\n"
    }
   }
  },
  {
   "cell_type": "code",
   "execution_count": 6,
   "outputs": [
    {
     "name": "stdout",
     "output_type": "stream",
     "text": [
      "74\n"
     ]
    }
   ],
   "source": [
    "# Unendlicher Iterator: Anzahl \"itertools\" count\n",
    "import itertools\n",
    "max_capacity = 1000\n",
    "num_bags = 0\n",
    "\n",
    "# Checkpoint 2\n",
    "for i in itertools.count(start=13.5, step=13.5):\n",
    "  if i >= max_capacity:\n",
    "    break\n",
    "  num_bags += 1\n",
    "\n",
    "# Checkpoint 3\n",
    "print(num_bags)"
   ],
   "metadata": {
    "collapsed": false,
    "pycharm": {
     "name": "#%%\n"
    }
   }
  },
  {
   "cell_type": "code",
   "execution_count": 7,
   "outputs": [
    {
     "name": "stdout",
     "output_type": "stream",
     "text": [
      "<itertools.chain object at 0x106ff7820>\n",
      "2439176\n",
      "3174521\n",
      "3560031\n",
      "6821904\n",
      "3302083\n",
      "9664865\n"
     ]
    }
   ],
   "source": [
    "# Endlicher Iterator: chain\n",
    "import itertools\n",
    "\n",
    "great_dane_foods = [2439176, 3174521, 3560031]\n",
    "min_pin_pup_foods = [6821904, 3302083]\n",
    "pawsome_pup_foods = [9664865]\n",
    "\n",
    "# Write your code below:\n",
    "all_skus_iterator = itertools.chain(great_dane_foods, min_pin_pup_foods, pawsome_pup_foods)\n",
    "print(all_skus_iterator)\n",
    "for i in all_skus_iterator:\n",
    "  print(i)"
   ],
   "metadata": {
    "collapsed": false,
    "pycharm": {
     "name": "#%%\n"
    }
   }
  },
  {
   "cell_type": "code",
   "execution_count": 8,
   "outputs": [
    {
     "name": "stdout",
     "output_type": "stream",
     "text": [
      "('Red-S', 'Red-M', 'Blue-XS')\n",
      "('Red-S', 'Red-M', 'Green-L')\n",
      "('Red-S', 'Red-M', 'Green-XL')\n",
      "('Red-S', 'Red-M', 'Yellow-M')\n",
      "('Red-S', 'Blue-XS', 'Green-L')\n",
      "('Red-S', 'Blue-XS', 'Green-XL')\n",
      "('Red-S', 'Blue-XS', 'Yellow-M')\n",
      "('Red-S', 'Green-L', 'Green-XL')\n",
      "('Red-S', 'Green-L', 'Yellow-M')\n",
      "('Red-S', 'Green-XL', 'Yellow-M')\n",
      "('Red-M', 'Blue-XS', 'Green-L')\n",
      "('Red-M', 'Blue-XS', 'Green-XL')\n",
      "('Red-M', 'Blue-XS', 'Yellow-M')\n",
      "('Red-M', 'Green-L', 'Green-XL')\n",
      "('Red-M', 'Green-L', 'Yellow-M')\n",
      "('Red-M', 'Green-XL', 'Yellow-M')\n",
      "('Blue-XS', 'Green-L', 'Green-XL')\n",
      "('Blue-XS', 'Green-L', 'Yellow-M')\n",
      "('Blue-XS', 'Green-XL', 'Yellow-M')\n",
      "('Green-L', 'Green-XL', 'Yellow-M')\n"
     ]
    }
   ],
   "source": [
    "# Kombinatorischer Iterator: Kombinationen\n",
    "import itertools\n",
    "\n",
    "collars = [\"Red-S\",\"Red-M\", \"Blue-XS\", \"Green-L\", \"Green-XL\", \"Yellow-M\"]\n",
    "\n",
    "# Write your code below:\n",
    "\n",
    "collar_combo_iterator = itertools.combinations(collars, 3)\n",
    "for i in collar_combo_iterator:\n",
    "  print(i)"
   ],
   "metadata": {
    "collapsed": false,
    "pycharm": {
     "name": "#%%\n"
    }
   }
  },
  {
   "cell_type": "code",
   "execution_count": 11,
   "outputs": [
    {
     "name": "stdout",
     "output_type": "stream",
     "text": [
      "[(('laser', 1.99), ('fountain', 5.99)), (('laser', 1.99), ('scratcher', 10.99))]\n"
     ]
    }
   ],
   "source": [
    "# Exersice\n",
    "# Write your code below:\n",
    "import itertools\n",
    "\n",
    "max_money = 15\n",
    "options = []\n",
    "cat_toys = [('laser',\t1.99), ('fountain',\t5.99), ('scratcher',\t10.99), ('catnip',\t15.99)]\n",
    "\n",
    "cat_toy_iterator = iter(cat_toys)\n",
    "\n",
    "toy_combos = itertools.combinations(cat_toys, 2)\n",
    "\n",
    "for combo in toy_combos:\n",
    "    toy1 = combo[0]\n",
    "    cost_of_toy1 = toy1[1]\n",
    "    toy2 = combo[1]\n",
    "    cost_of_toy2 = toy2[1]\n",
    "    if cost_of_toy1 + cost_of_toy2 <= max_money:\n",
    "      options.append(combo)\n",
    "\n",
    "print(options)"
   ],
   "metadata": {
    "collapsed": false,
    "pycharm": {
     "name": "#%%\n"
    }
   }
  }
 ],
 "metadata": {
  "kernelspec": {
   "display_name": "Python 3",
   "language": "python",
   "name": "python3"
  },
  "language_info": {
   "codemirror_mode": {
    "name": "ipython",
    "version": 2
   },
   "file_extension": ".py",
   "mimetype": "text/x-python",
   "name": "python",
   "nbconvert_exporter": "python",
   "pygments_lexer": "ipython2",
   "version": "2.7.6"
  }
 },
 "nbformat": 4,
 "nbformat_minor": 0
}