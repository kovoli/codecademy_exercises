{
 "cells": [
  {
   "cell_type": "code",
   "execution_count": 35,
   "metadata": {},
   "outputs": [],
   "source": [
    "student_roster = [\n",
    "  {\n",
    "    \"name\": \"Karina M\",\n",
    "    \"age\": 8,\n",
    "    \"height\": 48,\n",
    "    \"favorite_subject\": \"Math\",\n",
    "    \"favorite_animal\": \"Dog\"\n",
    "  },\n",
    "  {\n",
    "    \"name\": \"Yori K\",\n",
    "    \"age\": 7,\n",
    "    \"height\": 50,\n",
    "    \"favorite_subject\": \"Art\",\n",
    "    \"favorite_animal\": \"Cat\"\n",
    "  },\n",
    "  {\n",
    "    \"name\": \"Alex C\",\n",
    "    \"age\": 7,\n",
    "    \"height\": 47,\n",
    "    \"favorite_subject\": \"Science\",\n",
    "    \"favorite_animal\": \"Cow\"\n",
    "  },\n",
    "  {\n",
    "    \"name\": \"Esmeralda R\",\n",
    "    \"age\": 8,\n",
    "    \"height\": 52,\n",
    "    \"favorite_subject\": \"History\",\n",
    "    \"favorite_animal\": \"Rabbit\"\n",
    "  },\n",
    "  {\n",
    "    \"name\": \"Sandy P\",\n",
    "    \"age\": 7,\n",
    "    \"height\": 49,\n",
    "    \"favorite_subject\": \"Recess\",\n",
    "    \"favorite_animal\": \"Guinea Pig\"\n",
    "  },\n",
    "  {\n",
    "    \"name\": \"Matthew Q\",\n",
    "    \"age\": 7,\n",
    "    \"height\": 46,\n",
    "    \"favorite_subject\": \"Music\",\n",
    "    \"favorite_animal\": \"Walrus\"\n",
    "  },\n",
    "  {\n",
    "    \"name\": \"Trudy B\",\n",
    "    \"age\": 8,\n",
    "    \"height\": 45,\n",
    "    \"favorite_subject\": \"Science\",\n",
    "    \"favorite_animal\": \"Ladybug\"\n",
    "  },\n",
    "  {\n",
    "    \"name\": \"Benny D\",\n",
    "    \"age\": 7,\n",
    "    \"height\": 51,\n",
    "    \"favorite_subject\": \"Math\",\n",
    "    \"favorite_animal\": \"Ant\"\n",
    "  },\n",
    "  {\n",
    "    \"name\": \"Helena L\",\n",
    "    \"age\": 7,\n",
    "    \"height\": 53,\n",
    "    \"favorite_subject\": \"Art\",\n",
    "    \"favorite_animal\": \"Butterfly\"\n",
    "  },\n",
    "  {\n",
    "    \"name\": \"Marisol R\",\n",
    "    \"age\": 8,\n",
    "    \"height\": 50,\n",
    "    \"favorite_subject\": \"Math\",\n",
    "    \"favorite_animal\": \"Lion\"\n",
    "  }\n",
    "]"
   ]
  },
  {
   "cell_type": "code",
   "execution_count": 36,
   "metadata": {
    "pycharm": {
     "name": "#%%\n"
    }
   },
   "outputs": [],
   "source": [
    "import itertools\n",
    "# Import modules above this line\n",
    "class ClassroomOrganizer:\n",
    "  def __init__(self):\n",
    "    self.sorted_names = self._sort_alphabetically(student_roster)\n",
    "\n",
    "  def _sort_alphabetically(self,students):\n",
    "    names = []\n",
    "    for student_info in students:\n",
    "      name = student_info['name']\n",
    "      names.append(name)\n",
    "    return sorted(names)\n",
    "\n",
    "  def get_students_with_subject(self, subject):\n",
    "    selected_students = []\n",
    "    for student in student_roster:\n",
    "      if student['favorite_subject'] == subject:\n",
    "        selected_students.append((student['name'], subject))\n",
    "    return selected_students\n",
    "\n",
    "\n",
    "  def student_seated(self):\n",
    "    combination = itertools.combinations(self.sorted_names, 2)\n",
    "    tables = []\n",
    "    #print(list(combination))\n",
    "    for i in combination:\n",
    "      stud1 = i[0]\n",
    "      stud2 = i[1]\n",
    "      if stud1 or stud2 not in tables:\n",
    "        tables.append(i)\n",
    "      return tables"
   ]
  },
  {
   "cell_type": "code",
   "execution_count": 38,
   "metadata": {
    "pycharm": {
     "name": "#%%\n"
    }
   },
   "outputs": [
    {
     "name": "stdout",
     "output_type": "stream",
     "text": [
      "{'name': 'Karina M', 'age': 8, 'height': 48, 'favorite_subject': 'Math', 'favorite_animal': 'Dog'}\n",
      "{'name': 'Yori K', 'age': 7, 'height': 50, 'favorite_subject': 'Art', 'favorite_animal': 'Cat'}\n",
      "10\n",
      "[('Alex C', 'Benny D')]\n"
     ]
    }
   ],
   "source": [
    "student_iterator = iter(student_roster)\n",
    "print(next(student_iterator))\n",
    "print(next(student_iterator))\n",
    "\n",
    "classroom = ClassroomOrganizer()\n",
    "\n",
    "print(len(student_roster))\n",
    "\n",
    "classroom._sort_alphabetically(student_roster)\n",
    "print(classroom.student_seated())"
   ]
  },
  {
   "cell_type": "code",
   "execution_count": 47,
   "metadata": {
    "pycharm": {
     "name": "#%%\n"
    }
   },
   "outputs": [
    {
     "name": "stdout",
     "output_type": "stream",
     "text": [
      "[('Alex C', 'Benny D'), ('Alex C', 'Esmeralda R'), ('Alex C', 'Helena L'), ('Alex C', 'Karina M'), ('Alex C', 'Marisol R'), ('Alex C', 'Matthew Q'), ('Alex C', 'Sandy P'), ('Alex C', 'Trudy B'), ('Alex C', 'Yori K'), ('Benny D', 'Esmeralda R'), ('Benny D', 'Helena L'), ('Benny D', 'Karina M'), ('Benny D', 'Marisol R'), ('Benny D', 'Matthew Q'), ('Benny D', 'Sandy P'), ('Benny D', 'Trudy B'), ('Benny D', 'Yori K'), ('Esmeralda R', 'Helena L'), ('Esmeralda R', 'Karina M'), ('Esmeralda R', 'Marisol R'), ('Esmeralda R', 'Matthew Q'), ('Esmeralda R', 'Sandy P'), ('Esmeralda R', 'Trudy B'), ('Esmeralda R', 'Yori K'), ('Helena L', 'Karina M'), ('Helena L', 'Marisol R'), ('Helena L', 'Matthew Q'), ('Helena L', 'Sandy P'), ('Helena L', 'Trudy B'), ('Helena L', 'Yori K'), ('Karina M', 'Marisol R'), ('Karina M', 'Matthew Q'), ('Karina M', 'Sandy P'), ('Karina M', 'Trudy B'), ('Karina M', 'Yori K'), ('Marisol R', 'Matthew Q'), ('Marisol R', 'Sandy P'), ('Marisol R', 'Trudy B'), ('Marisol R', 'Yori K'), ('Matthew Q', 'Sandy P'), ('Matthew Q', 'Trudy B'), ('Matthew Q', 'Yori K'), ('Sandy P', 'Trudy B'), ('Sandy P', 'Yori K'), ('Trudy B', 'Yori K')]\n"
     ]
    }
   ],
   "source": [
    "combination = itertools.combinations(classroom._sort_alphabetically(student_roster), 5)\n",
    "two_combos = []\n",
    "twos = itertools.combinations(classroom._sort_alphabetically(student_roster), 2)\n",
    "\n",
    "for two in twos:\n",
    "  two_combos.append(two)\n",
    "print(two_combos)"
   ]
  },
  {
   "cell_type": "code",
   "execution_count": 33,
   "metadata": {
    "pycharm": {
     "name": "#%%\n"
    }
   },
   "outputs": [],
   "source": []
  },
  {
   "cell_type": "code",
   "execution_count": null,
   "metadata": {
    "pycharm": {
     "name": "#%%\n"
    }
   },
   "outputs": [],
   "source": []
  }
 ],
 "metadata": {
  "kernelspec": {
   "display_name": "Python 3 (ipykernel)",
   "language": "python",
   "name": "python3"
  },
  "language_info": {
   "codemirror_mode": {
    "name": "ipython",
    "version": 3
   },
   "file_extension": ".py",
   "mimetype": "text/x-python",
   "name": "python",
   "nbconvert_exporter": "python",
   "pygments_lexer": "ipython3",
   "version": "3.9.7"
  }
 },
 "nbformat": 4,
 "nbformat_minor": 1
}
