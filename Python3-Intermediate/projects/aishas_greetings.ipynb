{
 "cells": [
  {
   "cell_type": "code",
   "execution_count": 11,
   "metadata": {
    "collapsed": true
   },
   "outputs": [
    {
     "name": "stdout",
     "output_type": "stream",
     "text": [
      "Card Generated! \n",
      "\n",
      "Dear Amanda, \n",
      "\n",
      "Sincerely, Mwenda \n",
      "\n"
     ]
    }
   ],
   "source": [
    "# Generic Card\n",
    "\n",
    "from contextlib import contextmanager\n",
    "\n",
    "@contextmanager\n",
    "def generic(card_type, sender, receiver):\n",
    "  card_file = open(card_type, 'r')\n",
    "  order = open(f\"{sender}_generic.txt\", 'w')\n",
    "\n",
    "  try:\n",
    "    order.write(f\"Dear {receiver}, \\n\")\n",
    "    order.write(card_file.read())\n",
    "    order.write(f\"\\nSincerely, {sender} \\n\")\n",
    "    yield order\n",
    "\n",
    "  finally:\n",
    "    card_file.close()\n",
    "    order.close()\n",
    "\n",
    "# Uncomment to run!\n",
    "with generic(\"thankyou_card.txt\", \"Mwenda\", \"Amanda\") as order1:\n",
    "  print('Card Generated! \\n')\n",
    "\n",
    "with open(\"Mwenda_generic.txt\", \"r\") as first_order:\n",
    "  print(first_order.read())\n",
    "\n",
    "\n",
    "# Personalized Letter\n",
    "class personalized:\n",
    "  def __init__(self, sender, receiver):\n",
    "    self.file = open(f\"{sender}_personalized.txt\", 'w')\n",
    "    self.sender = sender\n",
    "    self.receiver = receiver\n",
    "\n",
    "  def __enter__(self):\n",
    "    self.file.write(f\"Dear {self.receiver}, \\n \\n\")\n",
    "    return self.file\n",
    "\n",
    "  def __exit__(self, exc_type, exc_value, Traceback):\n",
    "    self.file.write(f\"\\n \\n Sincerely, \\n {self.sender}\")\n",
    "    self.file.close()\n",
    "\n",
    "\n",
    "with personalized(\"John\", \"Michael\") as card:\n",
    " card.write(\"I am so proud of you! Being your friend for all these years has been nothing but a blessing. I don’t say it often but I just wanted to let you know that you inspire me and I love you! All the best. Always.\")\n",
    "\n",
    "with generic(\"happy_bday.txt\",\"Josiah\",\"Remy\" ) as card, personalized(\"Josiah\",\"Esther\") as card2:\n",
    "  card2.write(\"Happy Birthday!! I love you to the moon and back. Even though you’re a pain sometimes, you’re a pain I can't live without. I am incredibly proud of you and grateful to have you as a sister. Cheers to 25!! You’re getting old!\")\n"
   ]
  }
 ],
 "metadata": {
  "kernelspec": {
   "display_name": "Python 3",
   "language": "python",
   "name": "python3"
  },
  "language_info": {
   "codemirror_mode": {
    "name": "ipython",
    "version": 2
   },
   "file_extension": ".py",
   "mimetype": "text/x-python",
   "name": "python",
   "nbconvert_exporter": "python",
   "pygments_lexer": "ipython2",
   "version": "2.7.6"
  }
 },
 "nbformat": 4,
 "nbformat_minor": 0
}