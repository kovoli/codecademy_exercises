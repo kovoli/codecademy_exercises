{
 "cells": [
  {
   "cell_type": "code",
   "execution_count": 1,
   "metadata": {
    "collapsed": true
   },
   "outputs": [
    {
     "name": "stdout",
     "output_type": "stream",
     "text": [
      "My id is 3.\n"
     ]
    }
   ],
   "source": [
    "# OOP: Vererbung\n",
    "class Employee:\n",
    "  new_id = 1\n",
    "  def __init__(self):\n",
    "    self.id = Employee.new_id\n",
    "    Employee.new_id += 1\n",
    "\n",
    "  def say_id(self):\n",
    "    print(\"My id is {}.\".format(self.id))\n",
    "\n",
    "# Write your code below\n",
    "class Admin(Employee):\n",
    "  pass\n",
    "\n",
    "e1 = Employee()\n",
    "e2 = Employee()\n",
    "e3 = Admin()\n",
    "\n",
    "e3.say_id()"
   ]
  },
  {
   "cell_type": "code",
   "execution_count": 2,
   "outputs": [
    {
     "name": "stdout",
     "output_type": "stream",
     "text": [
      "I am an Admin\n"
     ]
    }
   ],
   "source": [
    "# Überschreiben von Methoden\n",
    "class Employee():\n",
    "  new_id = 1\n",
    "  def __init__(self):\n",
    "    self.id = Employee.new_id\n",
    "    Employee.new_id += 1\n",
    "\n",
    "  def say_id(self):\n",
    "    print(\"My id is {}.\".format(self.id))\n",
    "\n",
    "class Admin(Employee):\n",
    "  # Write your code below\n",
    "  def say_id(self):\n",
    "    print(\"I am an Admin\")\n",
    "\n",
    "e1 = Employee()\n",
    "e2 = Employee()\n",
    "e3 = Admin()\n",
    "e3.say_id()"
   ],
   "metadata": {
    "collapsed": false,
    "pycharm": {
     "name": "#%%\n"
    }
   }
  },
  {
   "cell_type": "code",
   "execution_count": 3,
   "outputs": [
    {
     "name": "stdout",
     "output_type": "stream",
     "text": [
      "Rachel says, Meow!\n"
     ]
    }
   ],
   "source": [
    "# super()\n",
    "class Animal:\n",
    "  def __init__(self, name, sound=\"Grrrr\"):\n",
    "    self.name = name\n",
    "    self.sound = sound\n",
    "\n",
    "  def make_noise(self):\n",
    "    print(\"{} says, {}\".format(self.name, self.sound))\n",
    "\n",
    "class Cat(Animal):\n",
    "  def __init__(self, name):\n",
    "    super().__init__(name, \"Meow!\")\n",
    "\n",
    "pet_cat = Cat(\"Rachel\")\n",
    "pet_cat.make_noise()"
   ],
   "metadata": {
    "collapsed": false,
    "pycharm": {
     "name": "#%%\n"
    }
   }
  },
  {
   "cell_type": "code",
   "execution_count": 5,
   "outputs": [
    {
     "name": "stdout",
     "output_type": "stream",
     "text": [
      "Fluffy wags tail. Awwww\n",
      "Fluffy bites. OUCH!\n"
     ]
    }
   ],
   "source": [
    "# Mehrfachvererbung\n",
    "class Animal:\n",
    "  def __init__(self, name):\n",
    "    self.name = name\n",
    "\n",
    "class Dog(Animal):\n",
    "  def action(self):\n",
    "    print(\"{} wags tail. Awwww\".format(self.name))\n",
    "\n",
    "class Wolf(Animal):\n",
    "  def action(self):\n",
    "    print(\"{} bites. OUCH!\".format(self.name))\n",
    "\n",
    "class Hybrid(Dog, Wolf):\n",
    "  def action(self):\n",
    "    super().action()\n",
    "    Wolf.action(self)\n",
    "\n",
    "my_pet = Hybrid(\"Fluffy\")\n",
    "my_pet.action()"
   ],
   "metadata": {
    "collapsed": false,
    "pycharm": {
     "name": "#%%\n"
    }
   }
  },
  {
   "cell_type": "code",
   "execution_count": 6,
   "outputs": [
    {
     "name": "stdout",
     "output_type": "stream",
     "text": [
      "My id is 1.\n",
      "My id is 2.\n",
      "I am an admin.\n",
      "My id is 3.\n",
      "I am an admin.\n",
      "I am in charge!\n"
     ]
    }
   ],
   "source": [
    "# OOP: Polymorphismus\n",
    "class Employee():\n",
    "  new_id = 1\n",
    "  def __init__(self):\n",
    "    self.id = Employee.new_id\n",
    "    Employee.new_id += 1\n",
    "\n",
    "  def say_id(self):\n",
    "    print(\"My id is {}.\".format(self.id))\n",
    "\n",
    "class Admin(Employee):\n",
    "  def say_id(self):\n",
    "    super().say_id()\n",
    "    print(\"I am an admin.\")\n",
    "\n",
    "class Manager(Admin):\n",
    "  def say_id(self):\n",
    "    super().say_id()\n",
    "    print(\"I am in charge!\")\n",
    "\n",
    "# Write your code below\n",
    "meeting = [Employee(), Admin(), Manager()]\n",
    "for i in meeting:\n",
    "  i.say_id()"
   ],
   "metadata": {
    "collapsed": false,
    "pycharm": {
     "name": "#%%\n"
    }
   }
  },
  {
   "cell_type": "code",
   "execution_count": 7,
   "outputs": [
    {
     "name": "stdout",
     "output_type": "stream",
     "text": [
      "ID 1 added.\n",
      "ID 2 added.\n",
      "ID 3 added.\n",
      "3\n"
     ]
    }
   ],
   "source": [
    "# Dunder-Methoden\n",
    "class Employee():\n",
    "  new_id = 1\n",
    "  def __init__(self):\n",
    "    self.id = Employee.new_id\n",
    "    Employee.new_id += 1\n",
    "\n",
    "class Meeting:\n",
    "  def __init__(self):\n",
    "    self.attendees = []\n",
    "\n",
    "  def __add__(self, employee):\n",
    "    print(\"ID {} added.\".format(employee.id))\n",
    "    self.attendees.append(employee)\n",
    "\n",
    "  # Write your code\n",
    "  def __len__(self):\n",
    "    return len(self.attendees)\n",
    "\n",
    "e1 = Employee()\n",
    "e2 = Employee()\n",
    "e3 = Employee()\n",
    "m1 = Meeting()\n",
    "m1 + e1\n",
    "m1 + e2\n",
    "m1 + e3\n",
    "print(len(m1))"
   ],
   "metadata": {
    "collapsed": false,
    "pycharm": {
     "name": "#%%\n"
    }
   }
  },
  {
   "cell_type": "code",
   "execution_count": 10,
   "outputs": [
    {
     "name": "stdout",
     "output_type": "stream",
     "text": [
      "Maisy says, Meow!\n",
      "Amber says, Woof!\n"
     ]
    }
   ],
   "source": [
    "# OOP: Abstraktion\n",
    "\"\"\"Abstraktion hilft beim Design von Code, indem sie die notwendigen Verhaltensweisen definiert, die innerhalb einer Klassenstruktur implementiert werden sollen. \"\"\"\n",
    "from abc import ABC, abstractmethod\n",
    "\n",
    "class Animal(ABC):\n",
    "  def __init__(self, name):\n",
    "    self.name = name\n",
    "\n",
    "  @abstractmethod\n",
    "  def make_noise(self):\n",
    "    pass\n",
    "\n",
    "class Cat(Animal):\n",
    "  def make_noise(self):\n",
    "    print(\"{} says, Meow!\".format(self.name))\n",
    "\n",
    "class Dog(Animal):\n",
    "  def make_noise(self):\n",
    "    print(\"{} says, Woof!\".format(self.name))\n",
    "# an_animal = Animal(\"Scruffy\") that give a Error TypeError / Can't instantiate\n",
    "kitty = Cat(\"Maisy\")\n",
    "doggy = Dog(\"Amber\")\n",
    "kitty.make_noise() # \"Maisy says, Meow!\"\n",
    "doggy.make_noise() # \"Amber says, Woof!\""
   ],
   "metadata": {
    "collapsed": false,
    "pycharm": {
     "name": "#%%\n"
    }
   }
  },
  {
   "cell_type": "code",
   "execution_count": 11,
   "outputs": [
    {
     "name": "stdout",
     "output_type": "stream",
     "text": [
      "Bob 100000 458698798\n",
      "['_BankAccount__balance', '_BankAccount__name', '_BankAccount__passport', '_BankAccount__print_privat_data', '__class__', '__delattr__', '__dict__', '__dir__', '__doc__', '__eq__', '__format__', '__ge__', '__getattribute__', '__gt__', '__hash__', '__init__', '__init_subclass__', '__le__', '__lt__', '__module__', '__ne__', '__new__', '__reduce__', '__reduce_ex__', '__repr__', '__setattr__', '__sizeof__', '__str__', '__subclasshook__', '__weakref__', 'print__private_data_out']\n"
     ]
    }
   ],
   "source": [
    "# OOP: Kapselung\n",
    "\"\"\"Kapselung ist der Prozess, bei dem Methoden und Daten innerhalb des Objekts verborgen werden, auf das sie sich beziehen.\"\"\"\n",
    "class BankAccount:\n",
    "    # # Publik - Zugenglich überall\n",
    "    # def __init__(self, name, balance, passport):\n",
    "    #     self.name = name\n",
    "    #     self.balance = balance\n",
    "    #     self.passport = passport\n",
    "    #\n",
    "    # # Protected - Kann man aufrufen, sollte man aber nicht\n",
    "    # def __init__(self, name, balance, passport):\n",
    "    #     self._name = name\n",
    "    #     self._balance = balance\n",
    "    #     self._passport = passport\n",
    "\n",
    "    # Private - Können nicht ausserhalb angezeigt werden\n",
    "    def __init__(self, name, balance, passport):\n",
    "            self.__name = name\n",
    "            self.__balance = balance\n",
    "            self.__passport = passport\n",
    "\n",
    "    # def print_data(self):\n",
    "    #     print(self.name, self.balance, self.passport)\n",
    "    #\n",
    "    # def print_protected_data(self):\n",
    "    #     print(self._name, self._balance, self._passport)\n",
    "\n",
    "    def print__private_data_out(self):\n",
    "        self.__print_privat_data()\n",
    "\n",
    "    def __print_privat_data(self):\n",
    "          print(self.__name, self.__balance, self.__passport)\n",
    "    # def print_privat_data(self):\n",
    "    #      print(self.__name, self.__balance, self.__passport)\n",
    "\n",
    "account1 = BankAccount('Bob', 100000, 458698798)\n",
    "#account1.print_data()\n",
    "\n",
    "# print(account1.name)\n",
    "# print(account1.balance)\n",
    "# print(account1.passport)\n",
    "# account1.print_protected_data()\n",
    "# print(account1._name)\n",
    "# print(account1._balance)\n",
    "# print(account1._passport)\n",
    "\n",
    "#account1.print_privat_data()\n",
    "# print(account1.__name)\n",
    "# print(account1.__balance)\n",
    "# print(account1.__passport)\n",
    "account1.print__private_data_out()\n",
    "print(dir(account1))"
   ],
   "metadata": {
    "collapsed": false,
    "pycharm": {
     "name": "#%%\n"
    }
   }
  },
  {
   "cell_type": "code",
   "execution_count": 13,
   "outputs": [],
   "source": [
    "# Getters, Setters and Deleters\n",
    "# class Box:\n",
    "#   def __init__(self, weight):\n",
    "#     self.__weight = weight\n",
    "#\n",
    "#   def getWeight(self):\n",
    "#     return self.__weight\n",
    "#\n",
    "#   def setWeight(self, weight):\n",
    "#     if weight >= 0:\n",
    "#       self.__weight = weight\n",
    "#\n",
    "#   def delWeight(self):\n",
    "#     del self.__weight\n",
    "#\n",
    "#   weight = property(getWeight, setWeight, delWeight, \"Docstring for the 'weight' property\")\n",
    "\n",
    "class Box:\n",
    " def __init__(self, weight):\n",
    "   self.__weight = weight\n",
    "\n",
    " @property\n",
    " def weight(self):\n",
    "   \"\"\"Docstring for the 'weight' property\"\"\"\n",
    "   return self.__weight\n",
    "\n",
    "\n",
    " @weight.setter\n",
    " def weight(self, weight):\n",
    "   if weight >= 0:\n",
    "     self.__weight = weight\n",
    "\n",
    " @weight.deleter\n",
    " def weight(self):\n",
    "   del self.__weight\n",
    "\n",
    "box = Box(10)\n",
    "box.weight = 5\n",
    "del box.weight"
   ],
   "metadata": {
    "collapsed": false,
    "pycharm": {
     "name": "#%%\n"
    }
   }
  },
  {
   "cell_type": "code",
   "execution_count": null,
   "outputs": [],
   "source": [],
   "metadata": {
    "collapsed": false,
    "pycharm": {
     "name": "#%%\n"
    }
   }
  }
 ],
 "metadata": {
  "kernelspec": {
   "display_name": "Python 3",
   "language": "python",
   "name": "python3"
  },
  "language_info": {
   "codemirror_mode": {
    "name": "ipython",
    "version": 2
   },
   "file_extension": ".py",
   "mimetype": "text/x-python",
   "name": "python",
   "nbconvert_exporter": "python",
   "pygments_lexer": "ipython2",
   "version": "2.7.6"
  }
 },
 "nbformat": 4,
 "nbformat_minor": 0
}