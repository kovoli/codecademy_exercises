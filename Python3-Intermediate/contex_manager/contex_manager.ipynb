{
 "cells": [
  {
   "cell_type": "code",
   "execution_count": 1,
   "metadata": {
    "collapsed": true
   },
   "outputs": [
    {
     "name": "stdout",
     "output_type": "stream",
     "text": [
      "Initializing class...\n",
      "Entering context...\n",
      "Code inside with statement\n",
      "Exiting context...\n"
     ]
    }
   ],
   "source": [
    "# Klassenbasierte Kontextmanager\n",
    "\"\"\"Das __enter__Verfahren ermöglicht die Einrichtung von Kontextmanagern. Diese Methode kümmert sich normalerweise um das Öffnen von Ressourcen (wie Dateien).\"\"\"\n",
    "\"\"\"Das __exit__sorgt für die Aufteilung des Kontextmanagers. Diese Methode sorgt normalerweise dafür, dass offene Ressourcen geschlossen werden, die nicht mehr verwendet werden.\n",
    "\"\"\"\n",
    "class ContextManager:\n",
    "  def __init__(self):\n",
    "    print('Initializing class...')\n",
    "\n",
    "  def __enter__(self):\n",
    "    print('Entering context...')\n",
    "\n",
    "  def __exit__(self, *exc):\n",
    "    print('Exiting context...')\n",
    "\n",
    "with ContextManager() as cm:\n",
    "  print('Code inside with statement')"
   ]
  },
  {
   "cell_type": "code",
   "execution_count": 5,
   "outputs": [
    {
     "name": "stdout",
     "output_type": "stream",
     "text": [
      "Starting up a poem context manager\n",
      "Opening poem file\n",
      "Closing poem file\n"
     ]
    }
   ],
   "source": [
    "# Klassenbasierte Kontextmanager arbeiten mit Files\n",
    "class WorkWithFile:\n",
    "  def __init__(self, file, mode):\n",
    "    self.file = file\n",
    "    self.mode = mode\n",
    "\n",
    "  def __enter__(self):\n",
    "    self.opened_file = open(self.file, self.mode)\n",
    "    return self.opened_file\n",
    "\n",
    "  def __exit__(self, *exc):\n",
    "    self.opened_file.close()\n",
    "\n",
    "# with WorkWithFile(\"file.txt\", \"r\") as file:\n",
    "#   print(file.read())\n",
    "\n",
    "class PoemFiles:\n",
    "\n",
    "  def __init__(self, poem_file, mode):\n",
    "    print('Starting up a poem context manager')\n",
    "    self.file = poem_file\n",
    "    self.mode = mode\n",
    "\n",
    "  def __enter__(self):\n",
    "    print('Opening poem file')\n",
    "    self.opened_poem_file = open(self.file, self.mode)\n",
    "    return self.opened_poem_file\n",
    "\n",
    "  def __exit__(self, *exc):\n",
    "    print('Closing poem file')\n",
    "    self.opened_poem_file.close()\n",
    "\n",
    "\n",
    "with PoemFiles('poem.txt', 'w') as open_poem_file:\n",
    "   open_poem_file.write('Hope is the thing with feathers')"
   ],
   "metadata": {
    "collapsed": false,
    "pycharm": {
     "name": "#%%\n"
    }
   }
  },
  {
   "cell_type": "code",
   "execution_count": 6,
   "outputs": [
    {
     "name": "stdout",
     "output_type": "stream",
     "text": [
      " \n",
      " -- Starting up a poem context manager -- \n",
      " \n",
      "Opening poem file\n",
      "Hope is the thing with feathers\n",
      "---- Exception data below ----\n",
      "None\n",
      "None\n",
      "None\n"
     ]
    }
   ],
   "source": [
    "# Handling Exceptions I\n",
    "class PoemFiles:\n",
    "\n",
    "  def __init__(self, poem_file, mode):\n",
    "    print(' \\n -- Starting up a poem context manager -- \\n ')\n",
    "    self.file = poem_file\n",
    "    self.mode = mode\n",
    "\n",
    "  def __enter__(self):\n",
    "    print('Opening poem file')\n",
    "    self.opened_poem_file = open(self.file, self.mode)\n",
    "    return self.opened_poem_file\n",
    "\n",
    "  # Create your __exit__ method here:\n",
    "  def __exit__(self, exc_type, exc_value, traceback):\n",
    "    print(exc_type)\n",
    "    print(exc_value)\n",
    "    print(traceback)\n",
    "    self.opened_poem_file.close()\n",
    "\n",
    "# First\n",
    "#with PoemFiles('poem.txt', 'r') as file:\n",
    "#  print(\"---- Exception data below ----\")\n",
    "#  print(file.uppercasewords())\n",
    "\n",
    "# Second\n",
    "with PoemFiles('poem.txt', 'r') as file2:\n",
    "  print(file2.read())\n",
    "  print(\"---- Exception data below ----\")"
   ],
   "metadata": {
    "collapsed": false,
    "pycharm": {
     "name": "#%%\n"
    }
   }
  },
  {
   "cell_type": "code",
   "execution_count": 7,
   "outputs": [
    {
     "name": "stdout",
     "output_type": "stream",
     "text": [
      " \n",
      " -- Starting up a poem context manager -- \n",
      "\n",
      " \n",
      " --  Opening poem file -- \n",
      "\n",
      "---- Exception data below ---- \n",
      " \n",
      "<class 'AttributeError'> '_io.TextIOWrapper' object has no attribute 'uppercasewords' <traceback object at 0x112981f00> \n",
      "\n",
      " \n",
      " -- Starting up a poem context manager -- \n",
      "\n",
      " \n",
      " --  Opening poem file -- \n",
      "\n",
      "Hope is the thing with feathers\n",
      " \n",
      " ---- Exception data below ---- \n",
      " \n",
      "None None None \n",
      "\n"
     ]
    }
   ],
   "source": [
    "# Handling Exceptions II\n",
    "# Checkpoint 1\n",
    "class PoemFiles:\n",
    "\n",
    "  def __init__(self, poem_file, mode):\n",
    "    print(' \\n -- Starting up a poem context manager -- \\n')\n",
    "    self.file = poem_file\n",
    "    self.mode = mode\n",
    "\n",
    "  def __enter__(self):\n",
    "    print(' \\n --  Opening poem file -- \\n')\n",
    "    self.opened_poem_file = open(self.file, self.mode)\n",
    "    return self.opened_poem_file\n",
    "\n",
    "  def __exit__(self, exc_type, exc_value, traceback):\n",
    "    print(exc_type, exc_value, traceback, '\\n')\n",
    "    # Checkpoint 2\n",
    "    if isinstance(exc_value, AttributeError):\n",
    "      self.opened_poem_file.close()\n",
    "      return True\n",
    "\n",
    "with PoemFiles('poem.txt', 'r') as file:\n",
    "  print(\"---- Exception data below ---- \\n \")\n",
    "  print(file.uppercasewords())\n",
    "\n",
    "with PoemFiles('poem.txt', 'r') as file2:\n",
    "  print(file2.read())\n",
    "  print(\" \\n ---- Exception data below ---- \\n \")"
   ],
   "metadata": {
    "collapsed": false,
    "pycharm": {
     "name": "#%%\n"
    }
   }
  },
  {
   "cell_type": "code",
   "execution_count": 8,
   "outputs": [
    {
     "name": "stdout",
     "output_type": "stream",
     "text": [
      "Opening File\n",
      "Inside yield\n",
      "Closing File\n"
     ]
    }
   ],
   "source": [
    "# Introduction to Contextlib\n",
    "# Write your code below:\n",
    "from contextlib import contextmanager\n",
    "\n",
    "\n",
    "@contextmanager\n",
    "def poem_files(file, mode):\n",
    "  print('Opening File')\n",
    "  open_poem_file = open(file, mode)\n",
    "  try:\n",
    "    yield open_poem_file\n",
    "  finally:\n",
    "    print('Closing File')\n",
    "    open_poem_file.close()\n",
    "\n",
    "with poem_files('poem.txt', 'a') as opened_file:\n",
    " print('Inside yield')\n",
    " opened_file.write('Rose is beautiful, Just like you.')"
   ],
   "metadata": {
    "collapsed": false,
    "pycharm": {
     "name": "#%%\n"
    }
   }
  },
  {
   "cell_type": "code",
   "execution_count": 9,
   "outputs": [
    {
     "name": "stdout",
     "output_type": "stream",
     "text": [
      "Opening File\n",
      "Inside yield\n",
      "'_io.TextIOWrapper' object has no attribute 'sign'\n",
      "Closing File\n"
     ]
    }
   ],
   "source": [
    "# Contextlib-Fehlerbehandlung\n",
    "from contextlib import contextmanager\n",
    "\n",
    "@contextmanager\n",
    "def poem_files(file, mode):\n",
    "  print('Opening File')\n",
    "  open_poem_file = open(file, mode)\n",
    "  try:\n",
    "    yield open_poem_file\n",
    "  #Write your code below:\n",
    "  except AttributeError as e:\n",
    "    print(e)\n",
    "  finally:\n",
    "    print('Closing File')\n",
    "    open_poem_file.close()\n",
    "\n",
    "with poem_files('poem.txt', 'a') as opened_file:\n",
    "  print('Inside yield')\n",
    "  opened_file.sign('Buzz is big city. big city is buzz.')"
   ],
   "metadata": {
    "collapsed": false,
    "pycharm": {
     "name": "#%%\n"
    }
   }
  },
  {
   "cell_type": "code",
   "execution_count": 10,
   "outputs": [
    {
     "name": "stdout",
     "output_type": "stream",
     "text": [
      "Opening File poem.txt\n",
      "Opening File card.txt\n",
      "<_io.TextIOWrapper name='poem.txt' mode='r' encoding='UTF-8'> <_io.TextIOWrapper name='card.txt' mode='w' encoding='UTF-8'>\n",
      "Closing File card.txt\n",
      "Closing File poem.txt\n"
     ]
    }
   ],
   "source": [
    "# Verschachtelte Kontextmanager\n",
    "from contextlib import contextmanager\n",
    "\n",
    "@contextmanager\n",
    "def poem_files(file, mode):\n",
    "  print('Opening File', file)\n",
    "  open_poem_file = open(file, mode)\n",
    "  try:\n",
    "    yield open_poem_file\n",
    "  finally:\n",
    "    print('Closing File', file)\n",
    "    open_poem_file.close()\n",
    "\n",
    "\n",
    "@contextmanager\n",
    "def card_files(file, mode):\n",
    "  print('Opening File', file)\n",
    "  open_card_file = open(file, mode)\n",
    "  try:\n",
    "    yield open_card_file\n",
    "  finally:\n",
    "    print('Closing File', file)\n",
    "    open_card_file.close()\n",
    "\n",
    "# Checkpoint 1\n",
    "with poem_files('poem.txt', 'r') as poem:\n",
    "   with card_files('card.txt', 'w') as card:\n",
    "     print(poem, card)\n",
    "     # Checkpoint 2\n",
    "     card.write(poem.read())"
   ],
   "metadata": {
    "collapsed": false,
    "pycharm": {
     "name": "#%%\n"
    }
   }
  }
 ],
 "metadata": {
  "kernelspec": {
   "display_name": "Python 3",
   "language": "python",
   "name": "python3"
  },
  "language_info": {
   "codemirror_mode": {
    "name": "ipython",
    "version": 2
   },
   "file_extension": ".py",
   "mimetype": "text/x-python",
   "name": "python",
   "nbconvert_exporter": "python",
   "pygments_lexer": "ipython2",
   "version": "2.7.6"
  }
 },
 "nbformat": 4,
 "nbformat_minor": 0
}