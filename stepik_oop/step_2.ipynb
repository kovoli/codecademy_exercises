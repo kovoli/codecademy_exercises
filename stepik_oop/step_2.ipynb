{
 "cells": [
  {
   "cell_type": "code",
   "execution_count": 10,
   "metadata": {
    "collapsed": true
   },
   "outputs": [
    {
     "name": "stdout",
     "output_type": "stream",
     "text": [
      "Hello Tom pers 5 brown\n",
      "Hello Walt pers 10 Black\n"
     ]
    },
    {
     "data": {
      "text/plain": "<__main__.Cat at 0x10840fc40>"
     },
     "execution_count": 10,
     "metadata": {},
     "output_type": "execute_result"
    }
   ],
   "source": [
    "# Инициализация объекта. Метод init\n",
    "# OOP Exersices\n",
    "class Cat:\n",
    "    breed = 'pers'\n",
    "\n",
    "    def __init__(self, name, breed, age, color):\n",
    "        print('Hello', name, breed, age, color)\n",
    "\n",
    "    def set_value(self, value, age=0):\n",
    "        self.name = value\n",
    "        self.age = age\n",
    "\n",
    "bob = Cat('Tom', 'pers', 5, 'brown')\n",
    "bob\n",
    "walt = Cat('Walt', 'pers', 10, 'Black')\n",
    "walt"
   ]
  },
  {
   "cell_type": "code",
   "execution_count": 13,
   "outputs": [],
   "source": [
    "class Laptop:\n",
    "    leptop_name = 'Brand Model'\n",
    "\n",
    "    def __init__(self, brand, model, price):\n",
    "        self.brand = brand\n",
    "        self.model = model\n",
    "        self.price = price\n",
    "        self.laptop_name = f'{brand} {model}'\n",
    "\n",
    "\n",
    "laptop1 = Laptop('Samsung', 'SM1', 999)\n",
    "laptop2 = Laptop('LG', 'LG1', 899)"
   ],
   "metadata": {
    "collapsed": false,
    "pycharm": {
     "name": "#%%\n"
    }
   }
  },
  {
   "cell_type": "code",
   "execution_count": 18,
   "outputs": [
    {
     "name": "stdout",
     "output_type": "stream",
     "text": [
      "Messi Leo - голы: 700,  передачи: 500\n",
      "Kokorin Alex - голы: 1,  передачи: 0\n"
     ]
    }
   ],
   "source": [
    "class SoccerPlayer:\n",
    "    def __init__(self, name, surname):\n",
    "        self.name = name\n",
    "        self.surname = surname\n",
    "        self.goals = 0\n",
    "        self.assists = 0\n",
    "\n",
    "    def score(self, goal=1):\n",
    "        self.goals += goal\n",
    "\n",
    "    def make_assist(self, assist=1):\n",
    "        self.assists += assist\n",
    "\n",
    "\n",
    "    def statistics(self):\n",
    "        print(f'{self.surname} {self.name} - голы: {self.goals},  передачи: {self.assists}')\n",
    "\n",
    "leo = SoccerPlayer('Leo', 'Messi')\n",
    "leo.score(700)\n",
    "leo.make_assist(500)\n",
    "leo.statistics() # выводит \"Messi Leo - голы: 700, передачи: 500\"\n",
    "kokorin = SoccerPlayer('Alex', 'Kokorin')\n",
    "kokorin.score()\n",
    "kokorin.statistics() # выводит \"Kokorin Alex - голы: 1, передачи: 0\""
   ],
   "metadata": {
    "collapsed": false,
    "pycharm": {
     "name": "#%%\n"
    }
   }
  },
  {
   "cell_type": "code",
   "execution_count": 25,
   "outputs": [
    {
     "name": "stdout",
     "output_type": "stream",
     "text": [
      "Полоска белая\n",
      "Полоска черная\n",
      "Полоска белая\n",
      "Полоска белая\n"
     ]
    }
   ],
   "source": [
    "class Zebra:\n",
    "    switcher = 0\n",
    "\n",
    "    def which_stripe(self):\n",
    "        if self.switcher == 0:\n",
    "            print(\"Полоска белая\")\n",
    "            self.switcher = 1\n",
    "        elif self.switcher == 1:\n",
    "            print(\"Полоска черная\")\n",
    "            self.switcher = 0\n",
    "\n",
    "z1 = Zebra()\n",
    "z1.which_stripe() # печатает \"Полоска белая\"\n",
    "z1.which_stripe() # печатает \"Полоска черная\"\n",
    "z1.which_stripe() # печатает \"Полоска белая\"\n",
    "\n",
    "z2 = Zebra()\n",
    "z2.which_stripe()"
   ],
   "metadata": {
    "collapsed": false,
    "pycharm": {
     "name": "#%%\n"
    }
   }
  },
  {
   "cell_type": "code",
   "execution_count": 26,
   "outputs": [
    {
     "name": "stdout",
     "output_type": "stream",
     "text": [
      "Hendrix Jimi\n",
      "True\n"
     ]
    }
   ],
   "source": [
    "class Person:\n",
    "\n",
    "    def __init__(self, first_name, last_name, age):\n",
    "        self.first_name = first_name\n",
    "        self.last_name = last_name\n",
    "        self.age = age\n",
    "\n",
    "    def full_name(self):\n",
    "        return f\"{self.last_name} {self.first_name}\"\n",
    "\n",
    "    def is_adult(self):\n",
    "        if self.age >= 18:\n",
    "            return True\n",
    "        else:\n",
    "            return False\n",
    "\n",
    "    # def is_adult (self):\n",
    "    #     return self.age >= 18\n",
    "\n",
    "p1 = Person('Jimi', 'Hendrix', 55)\n",
    "print(p1.full_name())  # выводит \"Hendrix Jimi\"\n",
    "print(p1.is_adult()) # выводит \"True\""
   ],
   "metadata": {
    "collapsed": false,
    "pycharm": {
     "name": "#%%\n"
    }
   }
  },
  {
   "cell_type": "code",
   "execution_count": 27,
   "outputs": [
    {
     "name": "stdout",
     "output_type": "stream",
     "text": [
      "Jack is 4 years old\n",
      "Jack says Woof Woof\n",
      "Jack says Bow Wow\n"
     ]
    }
   ],
   "source": [
    "class Dog:\n",
    "\n",
    "    def __init__(self, name, age):\n",
    "        self.name = name\n",
    "        self.age = age\n",
    "\n",
    "    def description(self):\n",
    "        return f\"{self.name} is {self.age} years old\"\n",
    "\n",
    "    def speak(self, sound):\n",
    "        return f\"{self.name} says {sound}\"\n",
    "\n",
    "jack = Dog(\"Jack\", 4)\n",
    "\n",
    "print(jack.description()) # распечатает 'Jack is 4 years old'\n",
    "print(jack.speak(\"Woof Woof\")) # распечатает 'Jack says Woof Woof'\n",
    "print(jack.speak(\"Bow Wow\")) # распечатает 'Jack says Bow Wow'"
   ],
   "metadata": {
    "collapsed": false,
    "pycharm": {
     "name": "#%%\n"
    }
   }
  },
  {
   "cell_type": "code",
   "execution_count": 11,
   "outputs": [
    {
     "name": "stdout",
     "output_type": "stream",
     "text": [
      "Empty Stack\n",
      "True\n",
      "dog\n",
      "3\n",
      "False\n",
      "777\n",
      "True\n",
      "2\n"
     ]
    }
   ],
   "source": [
    "class Stack:\n",
    "\n",
    "    def __init__(self):\n",
    "        self.value = []\n",
    "\n",
    "    def push(self, item):\n",
    "        self.value.append(item)\n",
    "\n",
    "    def pop(self):\n",
    "        if len(self.value) != 0:\n",
    "            return self.value.pop()\n",
    "        else:\n",
    "            print(\"Empty Stack\")\n",
    "\n",
    "    def peek(self):\n",
    "        if len(self.value) != 0:\n",
    "            return self.value[-1]\n",
    "        else:\n",
    "            print(\"Empty Stack\")\n",
    "            return None\n",
    "\n",
    "    def is_empty(self):\n",
    "        if len(self.value) == 0:\n",
    "            return True\n",
    "        else:\n",
    "            return False\n",
    "\n",
    "    def size(self):\n",
    "        return len(self.value)\n",
    "\n",
    "\n",
    "s = Stack()\n",
    "\n",
    "s.peek()  # распечатает 'Empty Stack'\n",
    "print(s.is_empty())  # распечатает True\n",
    "s.push('cat')  # кладем элемент 'cat' на вершину стека\n",
    "s.push('dog')  # кладем элемент 'dog' на вершину стека\n",
    "print(s.peek())  # распечатает 'dog'\n",
    "s.push(True)  # кладем элемент True на вершину стека\n",
    "print(s.size())  # распечатает 3\n",
    "print(s.is_empty())  # распечатает False\n",
    "s.push(777)  # кладем элемент 777 на вершину стека\n",
    "print(s.pop())  # удаляем элемент 777 с вершины стека и печатаем его\n",
    "print(s.pop())  # удаляем элемент True с вершины стека и печатаем его\n",
    "print(s.size())  # распечатает 2"
   ],
   "metadata": {
    "collapsed": false,
    "pycharm": {
     "name": "#%%\n"
    }
   }
  },
  {
   "cell_type": "code",
   "execution_count": 7,
   "outputs": [
    {
     "data": {
      "text/plain": "[]"
     },
     "execution_count": 7,
     "metadata": {},
     "output_type": "execute_result"
    }
   ],
   "source": [
    "class A:\n",
    "\n",
    "    def __init__(self):\n",
    "        self.a = []\n",
    "\n",
    "a = A()\n",
    "a.a"
   ],
   "metadata": {
    "collapsed": false,
    "pycharm": {
     "name": "#%%\n"
    }
   }
  }
 ],
 "metadata": {
  "kernelspec": {
   "display_name": "Python 3",
   "language": "python",
   "name": "python3"
  },
  "language_info": {
   "codemirror_mode": {
    "name": "ipython",
    "version": 2
   },
   "file_extension": ".py",
   "mimetype": "text/x-python",
   "name": "python",
   "nbconvert_exporter": "python",
   "pygments_lexer": "ipython2",
   "version": "2.7.6"
  }
 },
 "nbformat": 4,
 "nbformat_minor": 0
}