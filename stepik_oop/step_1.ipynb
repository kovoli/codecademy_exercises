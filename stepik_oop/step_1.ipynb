{
 "cells": [
  {
   "cell_type": "code",
   "execution_count": 1,
   "metadata": {
    "collapsed": true
   },
   "outputs": [],
   "source": [
    "class Car:\n",
    "    model = 'BMW'\n",
    "    engine = 1.6"
   ]
  },
  {
   "cell_type": "code",
   "execution_count": 2,
   "outputs": [
    {
     "name": "stdout",
     "output_type": "stream",
     "text": [
      "BMW\n",
      "1.6\n",
      "False\n"
     ]
    }
   ],
   "source": [
    "car = Car()\n",
    "print(car.model)\n",
    "print(car.engine)\n",
    "print(isinstance(1.2, int))"
   ],
   "metadata": {
    "collapsed": false,
    "pycharm": {
     "name": "#%%\n"
    }
   }
  },
  {
   "cell_type": "code",
   "execution_count": 10,
   "outputs": [
    {
     "name": "stdout",
     "output_type": "stream",
     "text": [
      "30\n",
      "Ivan\n",
      "Ivan\n",
      "200\n",
      "Not\n",
      "Noting\n"
     ]
    },
    {
     "data": {
      "text/plain": "mappingproxy({'__module__': '__main__',\n              'age': 30,\n              '__dict__': <attribute '__dict__' of 'Person' objects>,\n              '__weakref__': <attribute '__weakref__' of 'Person' objects>,\n              '__doc__': None,\n              'sdfgs': '12312425'})"
     },
     "execution_count": 10,
     "metadata": {},
     "output_type": "execute_result"
    }
   ],
   "source": [
    "# Атрибуты классов\n",
    "class Person:\n",
    "    name = 'Ivan'\n",
    "    age = 30\n",
    "\n",
    "print(Person.age)\n",
    "print(Person.name)\n",
    "# Узнать атрибутты\n",
    "Person.__dict__\n",
    "print(getattr(Person, 'name'))\n",
    "print(getattr(Person, 'x', 200))\n",
    "# Поменять атрибуты\n",
    "Person.name = 'Not'\n",
    "print(Person.name)\n",
    "Person.x = 'Noting'\n",
    "print(Person.x)\n",
    "Person.__dict__\n",
    "# Установить атрибут\n",
    "setattr(Person, 'sdfgs', '12312425')\n",
    "# Удалить атрибут\n",
    "del Person.x\n",
    "delattr(Person, 'name')\n",
    "Person.__dict__"
   ],
   "metadata": {
    "collapsed": false,
    "pycharm": {
     "name": "#%%\n"
    }
   }
  },
  {
   "cell_type": "code",
   "execution_count": 15,
   "outputs": [
    {
     "data": {
      "text/plain": "'Lada'"
     },
     "execution_count": 15,
     "metadata": {},
     "output_type": "execute_result"
    }
   ],
   "source": [
    "# Атрибуты экземпляра класса\n",
    "class Car:\n",
    "    model = 'BMW'\n",
    "    engine = 1.6\n",
    "\n",
    "a1 = Car()\n",
    "a2 = Car()\n",
    "Car.__dict__\n",
    "a1.__dict__\n",
    "a1.model = 'Lada'\n",
    "a2.model\n",
    "a1.model"
   ],
   "metadata": {
    "collapsed": false,
    "pycharm": {
     "name": "#%%\n"
    }
   }
  },
  {
   "cell_type": "code",
   "execution_count": 27,
   "outputs": [
    {
     "name": "stdout",
     "output_type": "stream",
     "text": [
      "Lets go\n",
      "Lets go\n",
      "Lets go\n"
     ]
    }
   ],
   "source": [
    "# Функции как атрибут класса\n",
    "class Car:\n",
    "    model = 'BMW'\n",
    "    engine = 1.6\n",
    "\n",
    "    @staticmethod\n",
    "    def drive():\n",
    "        print('Lets go')\n",
    "\n",
    "# Вызо функции\n",
    "Car.drive()\n",
    "getattr(Car, 'drive')()\n",
    "a = Car()\n",
    "a.__dict__\n",
    "a.drive()\n"
   ],
   "metadata": {
    "collapsed": false,
    "pycharm": {
     "name": "#%%\n"
    }
   }
  },
  {
   "cell_type": "code",
   "execution_count": null,
   "outputs": [],
   "source": [],
   "metadata": {
    "collapsed": false,
    "pycharm": {
     "name": "#%%\n",
     "is_executing": true
    }
   }
  }
 ],
 "metadata": {
  "kernelspec": {
   "display_name": "Python 3",
   "language": "python",
   "name": "python3"
  },
  "language_info": {
   "codemirror_mode": {
    "name": "ipython",
    "version": 2
   },
   "file_extension": ".py",
   "mimetype": "text/x-python",
   "name": "python",
   "nbconvert_exporter": "python",
   "pygments_lexer": "ipython2",
   "version": "2.7.6"
  }
 },
 "nbformat": 4,
 "nbformat_minor": 0
}