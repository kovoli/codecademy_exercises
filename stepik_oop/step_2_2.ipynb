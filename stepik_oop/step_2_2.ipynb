{
 "cells": [
  {
   "cell_type": "code",
   "execution_count": 6,
   "metadata": {
    "collapsed": true
   },
   "outputs": [],
   "source": [
    "# Моносостояние для экземпляров класса\n",
    "\n",
    "class Cat:\n",
    "    __shared_attr = {\n",
    "        'breed': 'pers',\n",
    "        'color': 'black'\n",
    "    }\n",
    "\n",
    "    def __init__(self):\n",
    "        self.__dict__ = Cat.__shared_attr\n",
    "\n",
    "d = Cat()\n",
    "g = Cat()\n",
    "\n",
    "g.breed = 'british'\n",
    "g.name = 'Bars'\n",
    "f = Cat()"
   ]
  },
  {
   "cell_type": "code",
   "execution_count": 18,
   "outputs": [
    {
     "name": "stdout",
     "output_type": "stream",
     "text": [
      "Bob 100000 458698798\n",
      "['_BankAccount__balance', '_BankAccount__name', '_BankAccount__passport', '_BankAccount__print_privat_data', '__class__', '__delattr__', '__dict__', '__dir__', '__doc__', '__eq__', '__format__', '__ge__', '__getattribute__', '__gt__', '__hash__', '__init__', '__init_subclass__', '__le__', '__lt__', '__module__', '__ne__', '__new__', '__reduce__', '__reduce_ex__', '__repr__', '__setattr__', '__sizeof__', '__str__', '__subclasshook__', '__weakref__', 'print__private_data_out']\n"
     ]
    }
   ],
   "source": [
    "# Публичные, приватные, защищенные атрибуты и методы\n",
    "\n",
    "class BankAccount:\n",
    "    # # Publik - Zugenglich überall\n",
    "    # def __init__(self, name, balance, passport):\n",
    "    #     self.name = name\n",
    "    #     self.balance = balance\n",
    "    #     self.passport = passport\n",
    "    #\n",
    "    # # Protected - Kann man aufrufen, sollte man aber nicht\n",
    "    # def __init__(self, name, balance, passport):\n",
    "    #     self._name = name\n",
    "    #     self._balance = balance\n",
    "    #     self._passport = passport\n",
    "\n",
    "    # Private - Können nicht ausserhalb angezeigt werden\n",
    "    def __init__(self, name, balance, passport):\n",
    "            self.__name = name\n",
    "            self.__balance = balance\n",
    "            self.__passport = passport\n",
    "\n",
    "    # def print_data(self):\n",
    "    #     print(self.name, self.balance, self.passport)\n",
    "    #\n",
    "    # def print_protected_data(self):\n",
    "    #     print(self._name, self._balance, self._passport)\n",
    "\n",
    "    def print__private_data_out(self):\n",
    "        self.__print_privat_data()\n",
    "\n",
    "    def __print_privat_data(self):\n",
    "          print(self.__name, self.__balance, self.__passport)\n",
    "    # def print_privat_data(self):\n",
    "    #      print(self.__name, self.__balance, self.__passport)\n",
    "\n",
    "account1 = BankAccount('Bob', 100000, 458698798)\n",
    "#account1.print_data()\n",
    "\n",
    "# print(account1.name)\n",
    "# print(account1.balance)\n",
    "# print(account1.passport)\n",
    "# account1.print_protected_data()\n",
    "# print(account1._name)\n",
    "# print(account1._balance)\n",
    "# print(account1._passport)\n",
    "\n",
    "#account1.print_privat_data()\n",
    "# print(account1.__name)\n",
    "# print(account1.__balance)\n",
    "# print(account1.__passport)\n",
    "account1.print__private_data_out()\n",
    "print(dir(account1))"
   ],
   "metadata": {
    "collapsed": false,
    "pycharm": {
     "name": "#%%\n"
    }
   }
  },
  {
   "cell_type": "code",
   "execution_count": 29,
   "outputs": [
    {
     "name": "stdout",
     "output_type": "stream",
     "text": [
      "(10, 20)\n"
     ]
    }
   ],
   "source": [
    "# protected. Геттеры и сеттеры\n",
    "\n",
    "class Point:\n",
    "    def __int__(self, x=0, y=0):\n",
    "        self.__x = x\n",
    "        self.__y = y\n",
    "\n",
    "\n",
    "    def setCorrds(self, x, y):\n",
    "        if (isinstance(x, int) or isinstance(x, float) and \\\n",
    "                isinstance(y, int) or isinstance(y, float)):\n",
    "            self.__x = x\n",
    "            self.__y = y\n",
    "        else:\n",
    "            print('Falsche Koordinaten')\n",
    "\n",
    "    def getCorrds(self):\n",
    "        return self.__x, self.__y\n",
    "\n",
    "\n",
    "pt = Point()\n",
    "#print(pt.getCorrds())\n",
    "pt.setCorrds(10,20)\n",
    "print(pt.getCorrds())"
   ],
   "metadata": {
    "collapsed": false,
    "pycharm": {
     "name": "#%%\n"
    }
   }
  },
  {
   "cell_type": "code",
   "execution_count": 38,
   "outputs": [
    {
     "name": "stdout",
     "output_type": "stream",
     "text": [
      "prince@wait.you\n",
      "Ошибочная почта!\n",
      "Ошибочная почта!\n",
      "prince@still.wait\n"
     ]
    }
   ],
   "source": [
    "class UserMail:\n",
    "\n",
    "\n",
    "    def __init__(self, login, email):\n",
    "        self.login = login\n",
    "        self.__email = email\n",
    "\n",
    "    def get_email(self):\n",
    "        return self.__email\n",
    "\n",
    "    def set_email(self, email):\n",
    "        if '@' in email and email.count('@') == 1 and '.' in email[email.index('@'):]:\n",
    "            self.__email = email\n",
    "        else:\n",
    "            print('Ошибочная почта!')\n",
    "\n",
    "    # def __setattr__(self, key, value):\n",
    "    #     if key == 'email':\n",
    "    #         self.set_email(value)\n",
    "    #\n",
    "    # def __getattr__(self):\n",
    "    #     self.get_email()\n",
    "\n",
    "    email = property(fget=get_email, fset=set_email)\n",
    "\n",
    "k = UserMail('belosnezhka', 'prince@wait.you')\n",
    "print(k.email)\n",
    "k.email = [1, 2, 3] # Ошибочная почта\n",
    "k.email = 'prince@still@.wait'  # Ошибочная почта\n",
    "k.email = 'prince@still.wait'\n",
    "print(k.email)  # prince@still.wait"
   ],
   "metadata": {
    "collapsed": false,
    "pycharm": {
     "name": "#%%\n"
    }
   }
  },
  {
   "cell_type": "code",
   "execution_count": 9,
   "outputs": [
    {
     "name": "stdout",
     "output_type": "stream",
     "text": [
      "set balance\n",
      "get balance\n"
     ]
    },
    {
     "data": {
      "text/plain": "1000"
     },
     "execution_count": 9,
     "metadata": {},
     "output_type": "execute_result"
    }
   ],
   "source": [
    "# Декоратор Property\n",
    "\n",
    "class BankAccount:\n",
    "\n",
    "    def __init__(self, name, balance):\n",
    "        self.name = name\n",
    "        self.__balance = balance\n",
    "\n",
    "    def get_balance(self):\n",
    "        print('get balance')\n",
    "        return self.__balance\n",
    "\n",
    "    def set_balance(self, value):\n",
    "        print('set balance')\n",
    "        if not isinstance(value, (int, float)):\n",
    "            raise ValueError('Muss eine Ziffer sein')\n",
    "        self.__balance = value\n",
    "\n",
    "    def delete_balance(self):\n",
    "        print('delete balance')\n",
    "        del self.__balance\n",
    "\n",
    "    # my_balance = property()\n",
    "    # my_balance = my_balance.getter(get_balance)\n",
    "    # my_balance = my_balance.setter(delete_balance)\n",
    "    # my_balance = my_balance.deleter(delete_balance)\n",
    "\n",
    "    balance = property(fget=get_balance,\n",
    "                       fset=set_balance,\n",
    "                       fdel=delete_balance)\n",
    "\n",
    "x = property()\n",
    "x\n",
    "x.getter(90)\n",
    "\n",
    "b = BankAccount()\n",
    "b.balance = 1000\n",
    "b.balance"
   ],
   "metadata": {
    "collapsed": false,
    "pycharm": {
     "name": "#%%\n"
    }
   }
  },
  {
   "cell_type": "code",
   "execution_count": 30,
   "outputs": [
    {
     "name": "stdout",
     "output_type": "stream",
     "text": [
      "Ваше состояние составляет 101 долларов 99 центов\n",
      "101 10199\n",
      "Ваше состояние составляет 767 долларов 99 центов\n",
      "Ваше состояние составляет 768 долларов 11 центов\n"
     ]
    }
   ],
   "source": [
    "class Money:\n",
    "\n",
    "    def __init__(self, dollars, cents):\n",
    "        self.total_cents = dollars * 100 + cents\n",
    "\n",
    "    @property\n",
    "    def dollars(self):\n",
    "        return self.total_cents // 100\n",
    "\n",
    "    @dollars.setter\n",
    "    def dollars(self, new_dollar):\n",
    "        if isinstance(new_dollar, int) and new_dollar >= 0:\n",
    "            self.total_cents += new_dollar * 100\n",
    "        else:\n",
    "            print('Error Dollars')\n",
    "\n",
    "    @property\n",
    "    def cents(self):\n",
    "        return self.total_cents\n",
    "\n",
    "    @cents.setter\n",
    "    def cents(self, new_cents):\n",
    "        if isinstance(new_cents, int) and 100 != new_cents >= 0:\n",
    "            self.total_cents += new_cents\n",
    "        else:\n",
    "            print(\"Error Cents\")\n",
    "\n",
    "    def __str__(self):\n",
    "        dollar = self.total_cents // 100\n",
    "        cents = self.total_cents - dollar * 100\n",
    "        return f'Ваше состояние составляет {dollar} долларов {cents} центов'\n",
    "\n",
    "\n",
    "\n",
    "Bill = Money(101, 99)\n",
    "print(Bill)  # Ваше состояние составляет 101 долларов 99 центов\n",
    "print(Bill.dollars, Bill.cents)  # 101 99\n",
    "Bill.dollars = 666\n",
    "print(Bill)  # Ваше состояние составляет 666 долларов 99 центов\n",
    "Bill.cents = 12\n",
    "print(Bill)"
   ],
   "metadata": {
    "collapsed": false,
    "pycharm": {
     "name": "#%%\n"
    }
   }
  },
  {
   "cell_type": "code",
   "execution_count": 36,
   "outputs": [
    {
     "name": "stdout",
     "output_type": "stream",
     "text": [
      "calculate area\n",
      "calculate area\n"
     ]
    },
    {
     "data": {
      "text/plain": "121"
     },
     "execution_count": 36,
     "metadata": {},
     "output_type": "execute_result"
    }
   ],
   "source": [
    "class Square:\n",
    "\n",
    "    def __init__(self, s):\n",
    "        self.__side = s\n",
    "        self.__area = None\n",
    "\n",
    "\n",
    "\n",
    "    @property\n",
    "    def area(self):\n",
    "        if self.__area is None:\n",
    "            print('calculate area')\n",
    "            self.__area = self.side ** 2\n",
    "        return self.__area\n",
    "\n",
    "a = Square(5)\n",
    "a.area\n",
    "b = Square(11)\n",
    "b.area"
   ],
   "metadata": {
    "collapsed": false,
    "pycharm": {
     "name": "#%%\n"
    }
   }
  },
  {
   "cell_type": "code",
   "execution_count": 44,
   "outputs": [
    {
     "name": "stdout",
     "output_type": "stream",
     "text": [
      "True\n",
      "(0, 0)\n",
      "61\n"
     ]
    }
   ],
   "source": [
    "class Vector:\n",
    "    MIN_COORD = 0\n",
    "    MAX_COORD = 100\n",
    "\n",
    "    @classmethod\n",
    "    def validate(cls, arg):\n",
    "        return cls.MIN_COORD <= arg <= cls.MAX_COORD\n",
    "\n",
    "    def __init__(self, x, y):\n",
    "        self.x = self.y = 0\n",
    "        if self.validate(x) and self.validate(y):\n",
    "            self.x = x\n",
    "            self.y = y\n",
    "\n",
    "    def get_coord(self):\n",
    "        return self.x, self.y\n",
    "    \n",
    "    @staticmethod\n",
    "    def norm2(x, y):\n",
    "        return x * x + y * y\n",
    "\n",
    "\n",
    "v = Vector(1, 200)\n",
    "print(Vector.validate(5))\n",
    "res = Vector.get_coord(v)\n",
    "print(res)\n",
    "print(Vector.norm2(5,6))"
   ],
   "metadata": {
    "collapsed": false,
    "pycharm": {
     "name": "#%%\n"
    }
   }
  },
  {
   "cell_type": "code",
   "execution_count": 53,
   "outputs": [
    {
     "name": "stdout",
     "output_type": "stream",
     "text": [
      "Робот R2-D2 был создан\n",
      "Робот R2-D2 приветствует тебя, особь человеческого рода\n",
      "1, вот сколько нас еще осталось\n",
      "Робот R2-D2 был уничтожен\n"
     ]
    }
   ],
   "source": [
    "class Robot:\n",
    "    population = 0\n",
    "\n",
    "    def __init__(self, name):\n",
    "        self.name = name\n",
    "        print(f'Робот {self.name} был создан')\n",
    "        Robot.population += 1\n",
    "\n",
    "    def destroy(self):\n",
    "        self.population -= 1\n",
    "        print(f\"Робот {self.name} был уничтожен\")\n",
    "\n",
    "    def say_hello(self):\n",
    "        print(f\"Робот {self.name} приветствует тебя, особь человеческого рода\")\n",
    "\n",
    "    @classmethod\n",
    "    def how_many(cls):\n",
    "        print(f\"{cls.population}, вот сколько нас еще осталось\")\n",
    "\n",
    "r2 = Robot(\"R2-D2\") # печатает \"Робот R2-D2 был создан\"\n",
    "r2.say_hello() # печатает \"Робот R2-D2 приветствует тебя, особь человеческого рода\"\n",
    "Robot.how_many() # печатает \"1, вот сколько нас еще осталось\"\n",
    "r2.destroy()"
   ],
   "metadata": {
    "collapsed": false,
    "pycharm": {
     "name": "#%%\n"
    }
   }
  }
 ],
 "metadata": {
  "kernelspec": {
   "display_name": "Python 3",
   "language": "python",
   "name": "python3"
  },
  "language_info": {
   "codemirror_mode": {
    "name": "ipython",
    "version": 2
   },
   "file_extension": ".py",
   "mimetype": "text/x-python",
   "name": "python",
   "nbconvert_exporter": "python",
   "pygments_lexer": "ipython2",
   "version": "2.7.6"
  }
 },
 "nbformat": 4,
 "nbformat_minor": 0
}