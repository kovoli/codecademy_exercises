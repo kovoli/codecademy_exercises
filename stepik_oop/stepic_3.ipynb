{
 "cells": [
  {
   "cell_type": "code",
   "execution_count": 3,
   "metadata": {
    "collapsed": true
   },
   "outputs": [
    {
     "name": "stdout",
     "output_type": "stream",
     "text": [
      "Lion - Simba\n"
     ]
    }
   ],
   "source": [
    "# Магические методы. Методы __str__ и __repr__\n",
    "class Lion:\n",
    "    def __init__(self, name):\n",
    "        self.name = name\n",
    "\n",
    "    def __repr__(self):\n",
    "        return f\"The object Lion - {self.name}\"\n",
    "\n",
    "    def __str__(self):\n",
    "        return f\"Lion - {self.name}\"\n",
    "\n",
    "bob = Lion('Bob')\n",
    "s = Lion('Simba')\n",
    "print(s)"
   ]
  },
  {
   "cell_type": "code",
   "execution_count": 4,
   "outputs": [
    {
     "name": "stdout",
     "output_type": "stream",
     "text": [
      "Гражданин Norris Chuck\n",
      "Гражданка Kunis Mila\n",
      "Не знаю, что вы имели ввиду? Пусть это будет мальчик!\n",
      "Гражданин Кеноби Оби-Ван\n"
     ]
    }
   ],
   "source": [
    "class Person:\n",
    "    def __init__(self, name, surname, gender=\"male\"):\n",
    "        self.name = name\n",
    "        self.surname = surname\n",
    "        if gender not in [\"male\", \"female\"]:\n",
    "            print(\"Не знаю, что вы имели ввиду? Пусть это будет мальчик!\")\n",
    "            self.gender = \"male\"\n",
    "        else:\n",
    "            self.gender = gender\n",
    "\n",
    "    def __str__(self):\n",
    "        if self.gender == \"male\":\n",
    "            return f\"Гражданин {self.surname} {self.name}\"\n",
    "        return f\"Гражданка {self.surname} {self.name}\"\n",
    "\n",
    "p1 = Person('Chuck', 'Norris')\n",
    "print(p1) # печатает \"Гражданин Norris Chuck\"\n",
    "p2 = Person('Mila', 'Kunis', 'female')\n",
    "print(p2) # печатает \"Гражданка Kunis Mila\"\n",
    "p3 = Person('Оби-Ван', 'Кеноби', True)# печатает \"Не знаю, что вы имели ввиду? Пусть это будет мальчик!\"\n",
    "print(p3) # печатает \"Гражданин Кеноби Оби-Ван\""
   ],
   "metadata": {
    "collapsed": false,
    "pycharm": {
     "name": "#%%\n"
    }
   }
  },
  {
   "cell_type": "code",
   "execution_count": 6,
   "outputs": [
    {
     "name": "stdout",
     "output_type": "stream",
     "text": [
      "Вектор(1, 2, 3, 6)\n"
     ]
    }
   ],
   "source": [
    "class Vector:\n",
    "\n",
    "    def __init__(self, *args):\n",
    "        self.values = []\n",
    "        for val in args:\n",
    "            if isinstance(val, int):\n",
    "                self.values.append(val)\n",
    "\n",
    "    def __str__(self):\n",
    "        if self.values:\n",
    "            return f'Вектор{tuple(sorted(self.values))}'\n",
    "        else:\n",
    "            return f'Пустой вектор'\n",
    "\n",
    "a = Vector(1,2,3,6)\n",
    "print(a)\n",
    "# 3.2 Магические методы __len__ и __abs__\n",
    "class Point:\n",
    "\n",
    "    def __init__(self, *args):\n",
    "        self.__coords = args\n",
    "\n",
    "    def __len__(self):\n",
    "        return len(self.__coords)\n",
    "\n",
    "    def __abs__(self):\n",
    "        return list(map(abs, self.__coords))\n",
    "\n",
    "\n",
    "p = Point(1, 2, -5, -65)\n",
    "print(len(p))\n",
    "print(abs(p))"
   ],
   "metadata": {
    "collapsed": false,
    "pycharm": {
     "name": "#%%\n"
    }
   }
  },
  {
   "cell_type": "code",
   "execution_count": 26,
   "outputs": [
    {
     "name": "stdout",
     "output_type": "stream",
     "text": [
      "New object init\n",
      "New object init\n",
      "New object init\n",
      "New object init\n",
      "__mul__ call\n",
      "__mul__ call\n",
      "New object init\n",
      "New object init\n",
      "New object init\n"
     ]
    }
   ],
   "source": [
    "# 3.3 Магические методы __add__, __mul__, __sub__ и __truediv__\n",
    "class BankAccount:\n",
    "    def __init__(self, name, balance):\n",
    "        print('New object init')\n",
    "        self.name = name\n",
    "        self.balance = balance\n",
    "\n",
    "    def __repr__(self):\n",
    "        return f'Klient {self.name} with balance {self.balance}'\n",
    "        \n",
    "    def __add__(self, other):\n",
    "        if isinstance(other, BankAccount):\n",
    "            return self.balance + other.balance\n",
    "        if isinstance(other, (int, float)):\n",
    "            return BankAccount(self.name, self.balance + other)\n",
    "        raise BaseException\n",
    "\n",
    "    def __mul__(self, other):\n",
    "        print('__mul__ call')\n",
    "        if isinstance(other, (float, int)):\n",
    "            return self.balance * other\n",
    "        if isinstance(other, str):\n",
    "            return self.name + other\n",
    "\n",
    "b = BankAccount('Ivan', 900)\n",
    "b.balance + 400\n",
    "a = BankAccount('Masha', 1200)\n",
    "a + 12\n",
    "a + 23.02\n",
    "a + b\n",
    "a * 200\n",
    "a * 'Koles'\n",
    "t = BankAccount('Alex', 200)\n",
    "t + 30\n",
    "d = t + 40\n",
    "d\n"
   ],
   "metadata": {
    "collapsed": false,
    "pycharm": {
     "name": "#%%\n"
    }
   }
  },
  {
   "cell_type": "code",
   "execution_count": 91,
   "outputs": [
    {
     "name": "stdout",
     "output_type": "stream",
     "text": [
      "Вектор(1, 2, 3)\n",
      "Вектор(3, 4, 5)\n",
      "Вектор(4, 6, 8)\n",
      "Вектор(9, 11, 13)\n",
      "Вектор(2, 4, 6)\n",
      "Вектор нельзя сложить с hi\n"
     ]
    }
   ],
   "source": [
    "# Задание\n",
    "class Vector:\n",
    "\n",
    "    def __init__(self, *args):\n",
    "        values = []\n",
    "        for i in args:\n",
    "            if isinstance(i, int):\n",
    "                values.append(i)\n",
    "        self.values = sorted(values)\n",
    "\n",
    "    def __str__(self):\n",
    "        if len(self.values) != 0:\n",
    "            a = ', '.join(([str(i) for i in self.values]))\n",
    "            return f'Вектор({a})'\n",
    "        else:\n",
    "            return 'Пустой вектор'\n",
    "\n",
    "    def __add__(self, value):\n",
    "        if isinstance(value, int):\n",
    "            return Vector(*[i+value for i in self.values])\n",
    "        elif isinstance(value, Vector) and len(value.values) == len(self.values):\n",
    "            return Vector(*[x+y for x, y in zip(self.values, value.values)])\n",
    "        else:\n",
    "            print(f'Вектор нельзя сложить с {value}')\n",
    "\n",
    "    def __mul__(self, value):\n",
    "        if isinstance(value, int):\n",
    "            return Vector(*[i*value for i in self.values])\n",
    "        elif isinstance(value, Vector) and len(value.values) != len(self.values):\n",
    "            print('Сложение векторов разной длины недопустимо')\n",
    "        elif isinstance(value, Vector) and len(value.values) == len(self.values):\n",
    "            return Vector(*[x*y for x, y in zip(self.values, value.values)])\n",
    "        else:\n",
    "            print(f'Вектор нельзя умножать с {value}')\n",
    "\n",
    "v1 = Vector(1,2,3)\n",
    "print(v1) # печатает \"Вектор(1, 2, 3)\"\n",
    "v2 = Vector(3,4,5)\n",
    "print(v2) # печатает \"Вектор(3, 4, 5)\"\n",
    "v3 = v1 + v2\n",
    "print(v3) # печатает \"Вектор(4, 6, 8)\"\n",
    "v4 = v3 + 5\n",
    "print(v4) # печатает \"Вектор(9, 11, 13)\"\n",
    "v5 = v1 * 2\n",
    "print(v5) # печатает \"Вектор(2, 4, 6)\"\n",
    "v5 + 'hi' # печатает \"Вектор нельзя сложить с hi\""
   ],
   "metadata": {
    "collapsed": false,
    "pycharm": {
     "name": "#%%\n"
    }
   }
  },
  {
   "cell_type": "code",
   "execution_count": 100,
   "outputs": [
    {
     "name": "stdout",
     "output_type": "stream",
     "text": [
      "False\n",
      "True\n",
      "False\n",
      "True\n",
      "False\n",
      "Невозможно выполнить сравнение\n"
     ]
    }
   ],
   "source": [
    "class ChessPlayer:\n",
    "\n",
    "    def __init__(self, name, surname, rating):\n",
    "        self.name = name\n",
    "        self.surname = surname\n",
    "        self.rating = rating\n",
    "\n",
    "    def __eq__(self, other):\n",
    "        if isinstance(other, (int)) or isinstance(other, ChessPlayer):\n",
    "            if self.rating == other:\n",
    "                return True\n",
    "            else:\n",
    "                return False\n",
    "        return 'Невозможно выполнить сравнение'\n",
    "\n",
    "    def __gt__(self, other):\n",
    "        if isinstance(other, (int)) or isinstance(other, ChessPlayer):\n",
    "            if self.rating > other:\n",
    "                return True\n",
    "            else:\n",
    "                return False\n",
    "        return 'Невозможно выполнить сравнение'\n",
    "\n",
    "    def __lt__(self, other):\n",
    "        if isinstance(other, (int)) or isinstance(other, ChessPlayer):\n",
    "            if self.rating < other:\n",
    "                return True\n",
    "            else:\n",
    "                return False\n",
    "        return 'Невозможно выполнить сравнение'\n",
    "\n",
    "magnus = ChessPlayer('Carlsen', 'Magnus', 2847)\n",
    "ian = ChessPlayer('Ian', 'Nepomniachtchi', 2789)\n",
    "print(magnus == 4000) # False\n",
    "print(ian == 2789) # True\n",
    "print(magnus == ian) # False\n",
    "print(magnus > ian) # True\n",
    "print(magnus < ian) # False\n",
    "print(magnus < [1, 2]) # печатает \"Невозможно выполнить сравнениe\""
   ],
   "metadata": {
    "collapsed": false,
    "pycharm": {
     "name": "#%%\n"
    }
   }
  },
  {
   "cell_type": "code",
   "execution_count": 110,
   "outputs": [
    {
     "name": "stdout",
     "output_type": "stream",
     "text": [
      "call __bool__\n"
     ]
    },
    {
     "data": {
      "text/plain": "True"
     },
     "execution_count": 110,
     "metadata": {},
     "output_type": "execute_result"
    }
   ],
   "source": [
    "# Магический метод __bool__\n",
    "\n",
    "class Point:\n",
    "\n",
    "    def __init__(self, x, y):\n",
    "        self.x = x\n",
    "        self.y = y\n",
    "\n",
    "    def __len__(self):\n",
    "        print('call __len__')\n",
    "        return abs(self.x - self.y)\n",
    "\n",
    "    def __bool__(self):\n",
    "        print('call __bool__')\n",
    "        return self.x != 0 or self.y != 0\n",
    "\n",
    "p1 = Point(0,0)\n",
    "\n",
    "bool(p1)"
   ],
   "metadata": {
    "collapsed": false,
    "pycharm": {
     "name": "#%%\n"
    }
   }
  },
  {
   "cell_type": "code",
   "execution_count": 112,
   "outputs": [
    {
     "data": {
      "text/plain": "True"
     },
     "execution_count": 112,
     "metadata": {},
     "output_type": "execute_result"
    }
   ],
   "source": [
    "# Задание __bool__\n",
    "class City:\n",
    "\n",
    "    def __init__(self, name):\n",
    "        self.name = name.title()\n",
    "\n",
    "    def __str__(self):\n",
    "        return self.name\n",
    "\n",
    "    def __bool__(self):\n",
    "        a = ('a', 'e', 'i', 'o', 'u')\n",
    "        return self.name[-1] not in a\n",
    "\n",
    "a = City('Mosk')\n",
    "bool(a)\n"
   ],
   "metadata": {
    "collapsed": false,
    "pycharm": {
     "name": "#%%\n"
    }
   }
  },
  {
   "cell_type": "code",
   "execution_count": 115,
   "outputs": [
    {
     "name": "stdout",
     "output_type": "stream",
     "text": [
      "Куб размером 10х10\n",
      "True\n",
      "Прямоугольник размером 3х5\n",
      "False\n"
     ]
    }
   ],
   "source": [
    "# Задание __bool__\n",
    "\n",
    "class Quadrilateral:\n",
    "\n",
    "    # def __init__(self, width, height=0):\n",
    "    #     self.width = width\n",
    "    #     self.height = height if height != 0 else width\n",
    "\n",
    "    # def __init__(self, *args):\n",
    "    #     self.width = args[0]\n",
    "    #     self.height = args[-1]\n",
    "\n",
    "    def __init__(self, *value):\n",
    "        if len(value) == 1:\n",
    "            self.width = value[0]\n",
    "            self.height = value[-1]\n",
    "        else:\n",
    "            self.width, self.height = value\n",
    "\n",
    "\n",
    "    def __str__(self):\n",
    "        if self.width == self.height:\n",
    "            return f\"Куб размером {self.width}х{self.height}\"\n",
    "        else:\n",
    "            return f\"Прямоугольник размером {self.width}х{self.height}\"\n",
    "\n",
    "    def __bool__(self):\n",
    "        if self.width == self.height:\n",
    "            return True\n",
    "        else:\n",
    "            return False\n",
    "\n",
    "    # def __bool__(self):\n",
    "    #     return self.height == self.width\n",
    "\n",
    "q1 = Quadrilateral(10)\n",
    "print(q1)  # печатает \"Куб размером 10х10\"\n",
    "print(bool(q1))  # печатает \"True\"\n",
    "q2 = Quadrilateral(3, 5)\n",
    "print(q2)  # печатает \"Прямоугольник размером 3х5\"\n",
    "print(q2 == True)"
   ],
   "metadata": {
    "collapsed": false,
    "pycharm": {
     "name": "#%%\n"
    }
   }
  },
  {
   "cell_type": "code",
   "execution_count": 127,
   "outputs": [
    {
     "name": "stdout",
     "output_type": "stream",
     "text": [
      "__call__\n",
      "__call__\n",
      "16\n",
      "Hello World?:\n",
      "Hello World\n",
      " Oliver \n",
      "Oliver\n"
     ]
    }
   ],
   "source": [
    "# 3.7 Магический метод __call__\n",
    "\n",
    "class Counter:\n",
    "    def __init__(self):\n",
    "        self.__counter = 0\n",
    "\n",
    "    def __call__(self, step = 1, *args, **kwargs):\n",
    "        print(\"__call__\")\n",
    "        self.__counter += step\n",
    "        return self.__counter\n",
    "\n",
    "\n",
    "a = Counter() # Скобки это магический метод __call__\n",
    "a()\n",
    "res = a(15)\n",
    "print(res)\n",
    "\n",
    "class StripChars:\n",
    "    def __init__(self, chars):\n",
    "        self.__chars = chars\n",
    "\n",
    "    def __call__(self, *args, **kwargs):\n",
    "        print(args[0])\n",
    "        if not isinstance(args[0], str):\n",
    "            raise TypeError('Аргумент должени быть строкой')\n",
    "        return args[0].strip(self.__chars)\n",
    "\n",
    "s1 = StripChars('?:!.;')\n",
    "s2 = StripChars(' ')\n",
    "print(s1('Hello World?:'))\n",
    "print(s2(' Oliver '))"
   ],
   "metadata": {
    "collapsed": false,
    "pycharm": {
     "name": "#%%\n"
    }
   }
  },
  {
   "cell_type": "code",
   "execution_count": 136,
   "outputs": [
    {
     "name": "stdout",
     "output_type": "stream",
     "text": [
      "Rectangle 12\n",
      "Rectangle 60\n",
      "Square 9\n",
      "Square 25\n",
      "Circle 452.16\n",
      "Circle 1962.5\n"
     ]
    }
   ],
   "source": [
    "# Полиморфизм в Python\n",
    "class Rectangle:\n",
    "\n",
    "    def __init__(self, a, b):\n",
    "        self.a = a\n",
    "        self.b = b\n",
    "\n",
    "    def __str__(self):\n",
    "        return f\"Rectangle\"\n",
    "\n",
    "    def get_area(self):\n",
    "        return self.a * self.b\n",
    "\n",
    "class Square:\n",
    "\n",
    "    def __init__(self, a):\n",
    "        self.a = a\n",
    "\n",
    "    def __str__(self):\n",
    "        return f\"Square\"\n",
    "\n",
    "    def get_area(self):\n",
    "        return self.a ** 2\n",
    "\n",
    "class Circle:\n",
    "\n",
    "    def __init__(self, r):\n",
    "        self.r = r\n",
    "\n",
    "    def __str__(self):\n",
    "        return f\"Circle\"\n",
    "\n",
    "    def get_area(self):\n",
    "        return 3.14 * self.r ** 2\n",
    "\n",
    "rect1 = Rectangle(3, 4)\n",
    "rect2 = Rectangle(12, 5)\n",
    "sq1 = Square(3)\n",
    "sq2 = Square(5)\n",
    "cir1 = Circle(12)\n",
    "cir2 = Circle(25)\n",
    "\n",
    "figures = [rect1, rect2, sq1, sq2, cir1, cir2]\n",
    "for figure in figures:\n",
    "    print(figure, figure.get_area())"
   ],
   "metadata": {
    "collapsed": false,
    "pycharm": {
     "name": "#%%\n"
    }
   }
  },
  {
   "cell_type": "code",
   "execution_count": 151,
   "outputs": [
    {
     "ename": "IndexError",
     "evalue": "Index out of the collection",
     "output_type": "error",
     "traceback": [
      "\u001B[0;31m---------------------------------------------------------------------------\u001B[0m",
      "\u001B[0;31mIndexError\u001B[0m                                Traceback (most recent call last)",
      "\u001B[0;32m/var/folders/yz/3ff8m7cs7b7b4_vw3_2pk8sc0000gn/T/ipykernel_1164/3844093883.py\u001B[0m in \u001B[0;36m<module>\u001B[0;34m\u001B[0m\n\u001B[1;32m     39\u001B[0m \u001B[0mv1\u001B[0m\u001B[0;34m\u001B[0m\u001B[0;34m\u001B[0m\u001B[0m\n\u001B[1;32m     40\u001B[0m \u001B[0;32mdel\u001B[0m \u001B[0mv1\u001B[0m\u001B[0;34m[\u001B[0m\u001B[0;36m1\u001B[0m\u001B[0;34m]\u001B[0m\u001B[0;34m\u001B[0m\u001B[0;34m\u001B[0m\u001B[0m\n\u001B[0;32m---> 41\u001B[0;31m \u001B[0mv1\u001B[0m\u001B[0;34m[\u001B[0m\u001B[0;36m0\u001B[0m\u001B[0;34m]\u001B[0m\u001B[0;34m\u001B[0m\u001B[0;34m\u001B[0m\u001B[0m\n\u001B[0m\u001B[1;32m     42\u001B[0m \u001B[0;34m\u001B[0m\u001B[0m\n",
      "\u001B[0;32m/var/folders/yz/3ff8m7cs7b7b4_vw3_2pk8sc0000gn/T/ipykernel_1164/3844093883.py\u001B[0m in \u001B[0;36m__getitem__\u001B[0;34m(self, item)\u001B[0m\n\u001B[1;32m     19\u001B[0m             \u001B[0;32mreturn\u001B[0m \u001B[0mself\u001B[0m\u001B[0;34m.\u001B[0m\u001B[0mvalues\u001B[0m\u001B[0;34m[\u001B[0m\u001B[0mitem\u001B[0m \u001B[0;34m-\u001B[0m \u001B[0;36m1\u001B[0m\u001B[0;34m]\u001B[0m\u001B[0;34m\u001B[0m\u001B[0;34m\u001B[0m\u001B[0m\n\u001B[1;32m     20\u001B[0m         \u001B[0;32melse\u001B[0m\u001B[0;34m:\u001B[0m\u001B[0;34m\u001B[0m\u001B[0;34m\u001B[0m\u001B[0m\n\u001B[0;32m---> 21\u001B[0;31m             \u001B[0;32mraise\u001B[0m \u001B[0mIndexError\u001B[0m\u001B[0;34m(\u001B[0m\u001B[0;34m'Index out of the collection'\u001B[0m\u001B[0;34m)\u001B[0m\u001B[0;34m\u001B[0m\u001B[0;34m\u001B[0m\u001B[0m\n\u001B[0m\u001B[1;32m     22\u001B[0m \u001B[0;34m\u001B[0m\u001B[0m\n\u001B[1;32m     23\u001B[0m     \u001B[0;32mdef\u001B[0m \u001B[0m__setitem__\u001B[0m\u001B[0;34m(\u001B[0m\u001B[0mself\u001B[0m\u001B[0;34m,\u001B[0m \u001B[0mkey\u001B[0m\u001B[0;34m,\u001B[0m \u001B[0mvalue\u001B[0m\u001B[0;34m)\u001B[0m\u001B[0;34m:\u001B[0m\u001B[0;34m\u001B[0m\u001B[0;34m\u001B[0m\u001B[0m\n",
      "\u001B[0;31mIndexError\u001B[0m: Index out of the collection"
     ]
    }
   ],
   "source": [
    "# Методы __getitem__ , __setitem__ и __delitem__\n",
    "\n",
    "class Vector:\n",
    "\n",
    "    def __init__(self, *args):\n",
    "        self.values = list(args)\n",
    "\n",
    "    def __repr__(self):\n",
    "        return str(self.values)\n",
    "\n",
    "    # def __getitem__(self, item):\n",
    "    #     if 0 <= item < len(self.values):\n",
    "    #         return self.values[item]\n",
    "    #     else:\n",
    "    #         raise IndexError('Index out of the collection')\n",
    "    # Начало индекса не с 0 а с 1\n",
    "    def __getitem__(self, item):\n",
    "        if 1 <= item < len(self.values):\n",
    "            return self.values[item - 1]\n",
    "        else:\n",
    "            raise IndexError('Index out of the collection')\n",
    "\n",
    "    def __setitem__(self, key, value):\n",
    "        if 0 <= key < len(self.values):\n",
    "            self.values[key] = value\n",
    "        else:\n",
    "            raise IndexError('Index out of the collection')\n",
    "\n",
    "    def __delitem__(self, key):\n",
    "        if 0 <= key < len(self.values):\n",
    "            del self.values[key]\n",
    "        else:\n",
    "            raise IndexError('Index out of the collection')\n",
    "\n",
    "\n",
    "v1 = Vector(1,5,55,5789)\n",
    "v1[1]\n",
    "v1[1] = 456\n",
    "v1\n",
    "del v1[1]\n",
    "v1[0]"
   ],
   "metadata": {
    "collapsed": false,
    "pycharm": {
     "name": "#%%\n"
    }
   }
  },
  {
   "cell_type": "code",
   "execution_count": null,
   "outputs": [],
   "source": [],
   "metadata": {
    "collapsed": false,
    "pycharm": {
     "name": "#%%\n"
    }
   }
  }
 ],
 "metadata": {
  "kernelspec": {
   "display_name": "Python 3",
   "language": "python",
   "name": "python3"
  },
  "language_info": {
   "codemirror_mode": {
    "name": "ipython",
    "version": 2
   },
   "file_extension": ".py",
   "mimetype": "text/x-python",
   "name": "python",
   "nbconvert_exporter": "python",
   "pygments_lexer": "ipython2",
   "version": "2.7.6"
  }
 },
 "nbformat": 4,
 "nbformat_minor": 0
}