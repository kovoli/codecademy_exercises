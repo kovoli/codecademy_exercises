{
 "cells": [
  {
   "cell_type": "code",
   "execution_count": 12,
   "metadata": {
    "collapsed": true
   },
   "outputs": [
    {
     "name": "stdout",
     "output_type": "stream",
     "text": [
      "True\n",
      "True\n",
      "False\n",
      "True\n",
      "I can walk\n"
     ]
    }
   ],
   "source": [
    "# 4.1 Принцип наследования в ООП\n",
    "\n",
    "class Person:\n",
    "    def can_walk(self):\n",
    "        print('I can walk')\n",
    "\n",
    "class Doctor(Person):\n",
    "\n",
    "    def can_cure(self):\n",
    "        print('I can health')\n",
    "\n",
    "class Orthoped(Doctor):\n",
    "    pass\n",
    "\n",
    "class Architect(Person):\n",
    "\n",
    "    def can_build(self):\n",
    "        print('I can build a building')\n",
    "\n",
    "d = Doctor()\n",
    "a = Architect()\n",
    "# d.can_cure()\n",
    "# a.can_build()\n",
    "# d.can_walk()\n",
    "# a.can_walk()\n",
    "print(issubclass(Doctor, Person))\n",
    "print(issubclass(Architect, Person))\n",
    "print(issubclass(Person, Architect))\n",
    "print(isinstance(a, Person))\n",
    "\n",
    "o = Orthoped()\n",
    "o.can_walk()"
   ]
  },
  {
   "cell_type": "code",
   "execution_count": 1,
   "outputs": [],
   "source": [
    "# Задание\n",
    "class Vehicle:\n",
    "    pass\n",
    "\n",
    "class Car(Vehicle):\n",
    "    pass\n",
    "\n",
    "class RaceCar(Car):\n",
    "    pass\n",
    "\n",
    "class Plane(Vehicle):\n",
    "    pass\n",
    "\n",
    "class Boat(Vehicle):\n",
    "    pass\n"
   ],
   "metadata": {
    "collapsed": false,
    "pycharm": {
     "name": "#%%\n"
    }
   }
  },
  {
   "cell_type": "code",
   "execution_count": 30,
   "outputs": [
    {
     "name": "stdout",
     "output_type": "stream",
     "text": [
      "init Person\n",
      "init Person\n",
      "Doctor can Breathe\n",
      "I can walk\n",
      "The Human sleeps\n"
     ]
    }
   ],
   "source": [
    "# 4.3 Переопределение методов в Python\n",
    "\n",
    "class Person:\n",
    "    name = 'Adam'\n",
    "\n",
    "    def __init__(self, name):\n",
    "        print('init Person')\n",
    "        self.name = name\n",
    "\n",
    "    def can_walk(self):\n",
    "        print('I can walk')\n",
    "\n",
    "    def can_breathe(self):\n",
    "        print('Can breathe')\n",
    "\n",
    "    def __str__(self):\n",
    "        return f\"Person {self.name}\"\n",
    "\n",
    "    def sleep(self):\n",
    "        print('The Human sleeps')\n",
    "\n",
    "    def combo(self):\n",
    "        self.can_breathe()\n",
    "        self.can_walk()\n",
    "        self.sleep()\n",
    "\n",
    "class Doctor(Person):\n",
    "\n",
    "    def __str__(self):\n",
    "        return f\"Doctor {self.name}\"\n",
    "\n",
    "    def can_breathe(self):\n",
    "        print('Doctor can Breathe')\n",
    "\n",
    "p = Person('Adam')\n",
    "d = Doctor('John')\n",
    "\n",
    "d.combo()"
   ],
   "metadata": {
    "collapsed": false,
    "pycharm": {
     "name": "#%%\n"
    }
   }
  },
  {
   "cell_type": "code",
   "execution_count": null,
   "outputs": [],
   "source": [
    "# 4.4 Расширение класса в Python\n",
    "class Person:\n",
    "    pass\n",
    "\n",
    "class Doctor(Person):\n",
    "\n",
    "    def slep(self):\n",
    "        print('Doktor slep')"
   ],
   "metadata": {
    "collapsed": false,
    "pycharm": {
     "name": "#%%\n"
    }
   }
  },
  {
   "cell_type": "code",
   "execution_count": 74,
   "outputs": [
    {
     "name": "stdout",
     "output_type": "stream",
     "text": [
      "Person 5\n"
     ]
    }
   ],
   "source": [
    "# 4.6 Множественное наследование\n",
    "\n",
    "class Doctor:\n",
    "\n",
    "    def __init__(self, degree):\n",
    "        self.degree = degree\n",
    "\n",
    "    def can_cure(self):\n",
    "        print('I am Doctor, i can cure')\n",
    "\n",
    "class Builder:\n",
    "\n",
    "    def __init__(self, rank, degree):\n",
    "        self.rank = rank\n",
    "        self.degree = degree\n",
    "\n",
    "    def can_build(self):\n",
    "        print('I am Builder, i can build')\n",
    "\n",
    "class Person(Builder):\n",
    "    \n",
    "    def __init__(self, rank, degree):\n",
    "        super().__init__(rank, degree)\n",
    "\n",
    "    def __str__(self):\n",
    "        return f\"Person {self.rank}\"\n",
    "    \n",
    "    def can_build(self):\n",
    "        print('i am a peson , i can too build')\n",
    "\n",
    "a = Person(5, 'spec')\n",
    "print(a)"
   ],
   "metadata": {
    "collapsed": false,
    "pycharm": {
     "name": "#%%\n"
    }
   }
  },
  {
   "cell_type": "code",
   "execution_count": 5,
   "outputs": [
    {
     "name": "stdout",
     "output_type": "stream",
     "text": [
      "setter called\n",
      "setter called\n"
     ]
    }
   ],
   "source": [
    "class Rectangle:\n",
    "    __slots__ = ['__width', 'height']\n",
    "\n",
    "    def __init__(self, a, b):\n",
    "        self.width = a\n",
    "        self.height = b\n",
    "\n",
    "    @property\n",
    "    def width(self):\n",
    "        return self.__width\n",
    "\n",
    "    @width.setter\n",
    "    def width(self, value):\n",
    "        print('setter called')\n",
    "        self.__width = value\n",
    "\n",
    "class Square(Rectangle):\n",
    "    __slots__ = 'color'\n",
    "\n",
    "    def __init__(self, a, b, color):\n",
    "        super().__init__(a, b)\n",
    "        self.color = color\n",
    "\n",
    "r = Rectangle(5, 6)\n",
    "r.width = 25"
   ],
   "metadata": {
    "collapsed": false,
    "pycharm": {
     "name": "#%%\n"
    }
   }
  }
 ],
 "metadata": {
  "kernelspec": {
   "display_name": "Python 3",
   "language": "python",
   "name": "python3"
  },
  "language_info": {
   "codemirror_mode": {
    "name": "ipython",
    "version": 2
   },
   "file_extension": ".py",
   "mimetype": "text/x-python",
   "name": "python",
   "nbconvert_exporter": "python",
   "pygments_lexer": "ipython2",
   "version": "2.7.6"
  }
 },
 "nbformat": 4,
 "nbformat_minor": 0
}