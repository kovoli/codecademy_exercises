{
 "cells": [
  {
   "cell_type": "code",
   "execution_count": 6,
   "metadata": {
    "collapsed": true
   },
   "outputs": [
    {
     "name": "stdout",
     "output_type": "stream",
     "text": [
      "['__class__', '__delattr__', '__dict__', '__dir__', '__doc__', '__eq__', '__format__', '__ge__', '__getattribute__', '__gt__', '__hash__', '__init__', '__init_subclass__', '__le__', '__lt__', '__module__', '__ne__', '__new__', '__reduce__', '__reduce_ex__', '__repr__', '__setattr__', '__sizeof__', '__str__', '__subclasshook__', '__weakref__']\n"
     ]
    }
   ],
   "source": [
    "class Phone():\n",
    "    pass\n",
    "print(dir(Phone))"
   ]
  },
  {
   "cell_type": "code",
   "execution_count": 16,
   "outputs": [
    {
     "data": {
      "text/plain": "'Black'"
     },
     "execution_count": 16,
     "metadata": {},
     "output_type": "execute_result"
    }
   ],
   "source": [
    "# 1. Статические поля (они же переменные или свойства класса)\n",
    "class Phone:\n",
    "\n",
    "    # Статические поля (переменные класса)\n",
    "    default_color = 'Grey'\n",
    "    default_model = 'C385'\n",
    "\n",
    "    def turn_on(self):\n",
    "        pass\n",
    "\n",
    "    def call(self):\n",
    "        pass\n",
    "\n",
    "print(dir(Phone))\n",
    "Phone.default_color\n",
    "# Изменяем цвет телефона по умолчанию с серого на черный\n",
    "Phone.default_color = 'Black'\n",
    "Phone.default_color"
   ],
   "metadata": {
    "collapsed": false,
    "pycharm": {
     "name": "#%%\n"
    }
   }
  },
  {
   "cell_type": "code",
   "execution_count": 24,
   "outputs": [
    {
     "name": "stdout",
     "output_type": "stream",
     "text": [
      "Blue\n",
      "I495\n"
     ]
    }
   ],
   "source": [
    "# 2. Динамические поля (переменные или свойства экземпляра класса)\n",
    "\"\"\"Это переменные, которые создаются на уровне экземпляра класса.\n",
    "Нет экземпляра - нет его переменных. Для создания динамического\n",
    "свойства необходимо обратиться к self внутри метода:\"\"\"\n",
    "class Phone:\n",
    "    # Статические поля (переменные класса)\n",
    "    default_color = 'Grey'\n",
    "    default_model = 'C385'\n",
    "\n",
    "    def __init__(self, color, model):\n",
    "        # Динамические поля (переменные объекта)\n",
    "        self.color = color\n",
    "        self.model = model\n",
    "\n",
    "my_phone_red = Phone('Red', 'I495')\n",
    "\n",
    "my_phone_red.default_color\n",
    "my_phone_red.default_model\n",
    "my_phone_red.color\n",
    "my_phone_red.model\n",
    "\n",
    "my_phone_blue = Phone('Blue', 'I495')\n",
    "\n",
    "print(my_phone_blue.color)\n",
    "print(my_phone_blue.model)"
   ],
   "metadata": {
    "collapsed": false,
    "pycharm": {
     "name": "#%%\n"
    }
   }
  },
  {
   "cell_type": "code",
   "execution_count": 3,
   "outputs": [
    {
     "name": "stdout",
     "output_type": "stream",
     "text": [
      "Your mobile operator is MTS\n",
      "None\n",
      "34565\n"
     ]
    },
    {
     "data": {
      "text/plain": "<__main__.Phone at 0x10fc46340>"
     },
     "execution_count": 3,
     "metadata": {},
     "output_type": "execute_result"
    }
   ],
   "source": [
    "# Методы (функции) класса в Python\n",
    "\"1. Методы экземпляра класса (Обычные методы)\"\n",
    "class Phone:\n",
    "\n",
    "    def __init__(self, color, model):\n",
    "        self.color = color\n",
    "        self.model = model\n",
    "\n",
    "    # Обычный метод\n",
    "    # Первый параметр метода - self\n",
    "    def check_sim(self, mobile_operator):\n",
    "        if self.model == 'I785' and mobile_operator == 'MTS':\n",
    "            print('Your mobile operator is MTS')\n",
    "            \n",
    "my_phone = Phone('red', 'I785')\n",
    "print(my_phone.check_sim('MTS'))\n",
    "\n",
    "\"2. Статические методы\"\n",
    "\n",
    "class Phone:\n",
    "    # Статический метод справочного характера\n",
    "    # Возвращает хэш по номеру модели\n",
    "    # self внутри метода отсутствует\n",
    "    @staticmethod\n",
    "    def model_hash(model):\n",
    "        if model == 'I785':\n",
    "            return 34565\n",
    "        elif model == 'K498':\n",
    "            return 45567\n",
    "        else:\n",
    "            return None\n",
    "\n",
    "    # Обычный метод\n",
    "    def check_sim(self, mobile_operator):\n",
    "        pass\n",
    "\n",
    "print(Phone.model_hash('I785'))\n",
    "\n",
    "\"3. Методы класса\"\n",
    "\n",
    "class Phone:\n",
    "\n",
    "    def __init__(self, color, model, os):\n",
    "        self.color = color\n",
    "        self.model = model\n",
    "        self.os = os\n",
    "\n",
    "    # Метод класса\n",
    "    # Принимает 1) ссылку на класс Phone и 2) цвет в качестве параметров\n",
    "    # Создает специфический объект класса Phone(особенность объекта в том, что это игрушечный телефон)\n",
    "    # При этом вызывается инициализатор класса Phone\n",
    "    # которому в качестве аргументов мы передаем цвет и модель,\n",
    "    # соответствующую созданию игрушечного телефона\n",
    "    @classmethod\n",
    "    def toy_phone(cls, color):\n",
    "        toy_phone = cls(color, 'ToyPhone', None)\n",
    "        return toy_phone\n",
    "\n",
    "    # Статический метод\n",
    "    @staticmethod\n",
    "    def model_hash(model):\n",
    "        pass\n",
    "\n",
    "    # Обычный метод\n",
    "    def check_sim(self, mobile_operator):\n",
    "        pass\n",
    "\n",
    "\n",
    "my_toy_phone = Phone.toy_phone('Red')\n",
    "my_toy_phone"
   ],
   "metadata": {
    "collapsed": false,
    "pycharm": {
     "name": "#%%\n"
    }
   }
  },
  {
   "cell_type": "code",
   "execution_count": 9,
   "outputs": [
    {
     "name": "stdout",
     "output_type": "stream",
     "text": [
      "Grey\n",
      "Grey\n",
      "['_Phone__color', '__class__', '__delattr__', '__dict__', '__dir__', '__doc__', '__eq__', '__format__', '__ge__', '__getattribute__', '__gt__', '__hash__', '__init__', '__init_subclass__', '__le__', '__lt__', '__module__', '__ne__', '__new__', '__reduce__', '__reduce_ex__', '__repr__', '__setattr__', '__sizeof__', '__str__', '__subclasshook__', '__weakref__']\n",
      "Grey\n"
     ]
    }
   ],
   "source": [
    "# Уровни доступа атрибутов в Python\n",
    "class Phone:\n",
    "\n",
    "    def __init__(self, color):\n",
    "        # Объявляем публичное поле color\n",
    "        self.color = color\n",
    "\n",
    "phone = Phone('Grey')\n",
    "print(phone.color)\n",
    "\n",
    "'protected'\n",
    "\n",
    "class Phone:\n",
    "\n",
    "    def __init__(self, color):\n",
    "        # Объявляем защищенное поле _color\n",
    "        self._color = color\n",
    "phone = Phone('Grey')\n",
    "print(phone._color)\n",
    "\n",
    "'private'\n",
    "\n",
    "class Phone:\n",
    "\n",
    "    def __init__(self, color):\n",
    "        # Объявляем приватное поле __color\n",
    "        self.__color = color\n",
    "\n",
    "phone = Phone('Grey')\n",
    "print(dir(phone))\n",
    "print(phone._Phone__color)"
   ],
   "metadata": {
    "collapsed": false,
    "pycharm": {
     "name": "#%%\n"
    }
   }
  },
  {
   "cell_type": "code",
   "execution_count": 22,
   "outputs": [
    {
     "name": "stdout",
     "output_type": "stream",
     "text": [
      "['__class__', '__delattr__', '__dict__', '__dir__', '__doc__', '__eq__', '__format__', '__ge__', '__getattribute__', '__gt__', '__hash__', '__init__', '__init_subclass__', '__le__', '__lt__', '__module__', '__ne__', '__new__', '__reduce__', '__reduce_ex__', '__repr__', '__setattr__', '__sizeof__', '__str__', '__subclasshook__', '__weakref__', 'call', 'is_on', 'turn_on']\n",
      "['__class__', '__delattr__', '__dict__', '__dir__', '__doc__', '__eq__', '__format__', '__ge__', '__getattribute__', '__gt__', '__hash__', '__init__', '__init_subclass__', '__le__', '__lt__', '__module__', '__ne__', '__new__', '__reduce__', '__reduce_ex__', '__repr__', '__setattr__', '__sizeof__', '__str__', '__subclasshook__', '__weakref__', 'battery', 'call', 'charge', 'is_on', 'turn_on']\n",
      "None\n",
      "Charging battery up to ... 76%\n",
      "None\n",
      "False\n"
     ]
    }
   ],
   "source": [
    "# Наследование в Python\n",
    "# Родительский класс\n",
    "class Phone:\n",
    "\n",
    "    # Инициализатор\n",
    "    def __init__(self):\n",
    "        self.is_on = False\n",
    "\n",
    "\n",
    "    # Включаем телефон\n",
    "    def turn_on(self):\n",
    "        self.is_on = True\n",
    "\n",
    "    # Если телефон включен, делаем звонок\n",
    "    def call(self):\n",
    "        if self.is_on:\n",
    "            print('Making call...')\n",
    "            \n",
    "my_phone = Phone()\n",
    "print(dir(my_phone))\n",
    "            \n",
    "# Унаследованный класс\n",
    "class MobilePhone(Phone):\n",
    "\n",
    "    # Добавляем новое свойство battery\n",
    "    def __init__(self):\n",
    "        super().__init__()\n",
    "        self.battery = 0\n",
    "\n",
    "    # Заряжаем телефон на величину переданного значения\n",
    "    def charge(self, num):\n",
    "        self.battery = num\n",
    "        print(f'Charging battery up to ... {self.battery}%')\n",
    "\n",
    "my_mobile_phone = MobilePhone()\n",
    "print(dir(my_mobile_phone))\n",
    "#print(my_mobile_phone.turn_on())\n",
    "print(my_mobile_phone.call())\n",
    "print(my_mobile_phone.charge(76))\n",
    "print(my_mobile_phone.is_on)"
   ],
   "metadata": {
    "collapsed": false,
    "pycharm": {
     "name": "#%%\n"
    }
   }
  },
  {
   "cell_type": "code",
   "execution_count": 23,
   "outputs": [
    {
     "name": "stdout",
     "output_type": "stream",
     "text": [
      "-------\n",
      "Class name: Phone\n",
      "If phone is ON: False\n",
      "-------\n",
      "Class name: MobilePhone\n",
      "If mobile phone is ON: False\n",
      "Battery level: 0\n"
     ]
    }
   ],
   "source": [
    "# Полиморфизм в Python\n",
    "\n",
    "# Родительский класс\n",
    "class Phone:\n",
    "\n",
    "    def __init__(self):\n",
    "        self.is_on = False\n",
    "\n",
    "    def turn_on(self):\n",
    "        pass\n",
    "\n",
    "    def call(self):\n",
    "        pass\n",
    "\n",
    "    # Метод, который выводит короткую сводку по классу Phone\n",
    "    def info(self):\n",
    "        print(f'Class name: {Phone.__name__}')\n",
    "        print(f'If phone is ON: {self.is_on}')\n",
    "\n",
    "# Унаследованный класс\n",
    "class MobilePhone(Phone):\n",
    "\n",
    "    def __init__(self):\n",
    "        super().__init__()\n",
    "        self.battery = 0\n",
    "\n",
    "    # Такой же метод, который выводит короткую сводку по классу MobilePhone\n",
    "    # Обратите внимание, что названия у методов совпадают - оба метода называются info()\n",
    "    # Однако их содержимое различается\n",
    "    def info(self):\n",
    "        print(f'Class name: {MobilePhone.__name__}')\n",
    "        print(f'If mobile phone is ON: {self.is_on}')\n",
    "        print(f'Battery level: {self.battery}')\n",
    "\n",
    "# Демонстрационная функция\n",
    "\n",
    "# Создаем список из классов\n",
    "# В цикле перебираем список и для каждого элемента списка(а элемент - это класс)\n",
    "# Создаем объект и вызываем метод info()\n",
    "# Главная особенность: запись object.info() не дает информацию об объекте, для которого будет вызван метод info()\n",
    "# Это может быть объект класса Phone, а может - объект класса MobilePhone\n",
    "# И только в момент исполнения кода становится ясно, для какого именно объекта нужно вызывать метод info()\n",
    "def show_polymorphism():\n",
    "    for item in [Phone, MobilePhone]:\n",
    "        print('-------')\n",
    "        object = item()\n",
    "        object.info()\n",
    "\n",
    "show_polymorphism()\n",
    "\n"
   ],
   "metadata": {
    "collapsed": false,
    "pycharm": {
     "name": "#%%\n"
    }
   }
  },
  {
   "cell_type": "code",
   "execution_count": 18,
   "outputs": [
    {
     "data": {
      "text/plain": "3"
     },
     "execution_count": 18,
     "metadata": {},
     "output_type": "execute_result"
    }
   ],
   "source": [
    "class A:\n",
    "\n",
    "    def __init__(self):\n",
    "        self.abc = 0\n",
    "\n",
    "    def b(self, q=1):\n",
    "        self.abc = q\n",
    "\n",
    "a = A()\n",
    "\n",
    "\n",
    "a.b(3)\n",
    "a.abc"
   ],
   "metadata": {
    "collapsed": false,
    "pycharm": {
     "name": "#%%\n"
    }
   }
  }
 ],
 "metadata": {
  "kernelspec": {
   "display_name": "Python 3",
   "language": "python",
   "name": "python3"
  },
  "language_info": {
   "codemirror_mode": {
    "name": "ipython",
    "version": 2
   },
   "file_extension": ".py",
   "mimetype": "text/x-python",
   "name": "python",
   "nbconvert_exporter": "python",
   "pygments_lexer": "ipython2",
   "version": "2.7.6"
  }
 },
 "nbformat": 4,
 "nbformat_minor": 0
}