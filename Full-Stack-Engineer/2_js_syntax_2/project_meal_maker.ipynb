{
 "cells": [
  {
   "cell_type": "code",
   "execution_count": 1,
   "id": "c1c1cec6",
   "metadata": {},
   "outputs": [],
   "source": [
    "const menu = {\n",
    "    _courses: {appetizers: [], \n",
    "             mains: [], \n",
    "             desserts: []},\n",
    "    get appetizers() {\n",
    "        return this._courses.appetizers\n",
    "    },\n",
    "    get mains() {\n",
    "        return this._courses.mains\n",
    "    },\n",
    "    get desserts() {\n",
    "        return this._courses.desserts\n",
    "    },\n",
    "    set appetizers(appIn) {\n",
    "        this._courses.appetizers = appIn\n",
    "    },\n",
    "    set mains(maiIn) {\n",
    "        this._courses.mains = maiIn\n",
    "    },\n",
    "    set desserts(desIn) {\n",
    "        this._courses.desserts = desIn\n",
    "    },\n",
    "}"
   ]
  },
  {
   "cell_type": "code",
   "execution_count": 2,
   "id": "e6518228",
   "metadata": {},
   "outputs": [
    {
     "data": {
      "text/plain": [
       "'sdsdf'"
      ]
     },
     "execution_count": 2,
     "metadata": {},
     "output_type": "execute_result"
    }
   ],
   "source": [
    "menu.appetizers = 'sdsdf'\n"
   ]
  },
  {
   "cell_type": "code",
   "execution_count": 4,
   "id": "804487ab",
   "metadata": {},
   "outputs": [
    {
     "name": "stdout",
     "output_type": "stream",
     "text": [
      "sdfgsdbb\n"
     ]
    }
   ],
   "source": [
    "menu.appetizers = 'sdfgsdbb'\n",
    "console.log(menu.appetizers)"
   ]
  },
  {
   "cell_type": "code",
   "execution_count": 7,
   "id": "c620bb17",
   "metadata": {},
   "outputs": [
    {
     "data": {
      "text/plain": [
       "'John Alex'"
      ]
     },
     "execution_count": 7,
     "metadata": {},
     "output_type": "execute_result"
    }
   ],
   "source": []
  }
 ],
 "metadata": {
  "kernelspec": {
   "display_name": "JavaScript (Node.js)",
   "language": "javascript",
   "name": "javascript"
  },
  "language_info": {
   "file_extension": ".js",
   "mimetype": "application/javascript",
   "name": "javascript",
   "version": "17.2.0"
  }
 },
 "nbformat": 4,
 "nbformat_minor": 5
}
