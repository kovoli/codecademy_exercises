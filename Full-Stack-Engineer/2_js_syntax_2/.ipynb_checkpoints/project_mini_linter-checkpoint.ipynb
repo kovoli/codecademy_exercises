{
 "cells": [
  {
   "cell_type": "code",
   "execution_count": 1,
   "id": "a12a6f51",
   "metadata": {},
   "outputs": [],
   "source": [
    "let story = 'Last weekend, I took literally the most beautiful bike ride of my life. The route is called \"The 9W to Nyack\" and it actually stretches all the way from Riverside Park in Manhattan to South Nyack, New Jersey. It\\'s really an adventure from beginning to end! It is a 48 mile loop and it basically took me an entire day. I stopped at Riverbank State Park to take some extremely artsy photos. It was a short stop, though, because I had a really long way left to go. After a quick photo op at the very popular Little Red Lighthouse, I began my trek across the George Washington Bridge into New Jersey.  The GW is actually very long - 4,760 feet! I was already very tired by the time I got to the other side.  An hour later, I reached Greenbrook Nature Sanctuary, an extremely beautiful park along the coast of the Hudson.  Something that was very surprising to me was that near the end of the route you actually cross back into New York! At this point, you are very close to the end.';\n",
    "let overusedWords = ['really', 'very', 'basically'];\n",
    "\n",
    "let unnecessaryWords = ['extremely', 'literally', 'actually' ]\n",
    "\n"
   ]
  },
  {
   "cell_type": "code",
   "execution_count": 2,
   "id": "1076c727",
   "metadata": {},
   "outputs": [
    {
     "data": {
      "text/plain": [
       "188"
      ]
     },
     "execution_count": 2,
     "metadata": {},
     "output_type": "execute_result"
    }
   ],
   "source": [
    "let storyWords = story.split(' ')\n",
    "storyWords.length"
   ]
  },
  {
   "cell_type": "code",
   "execution_count": 3,
   "id": "d2d08c6b",
   "metadata": {},
   "outputs": [
    {
     "data": {
      "text/plain": [
       "182"
      ]
     },
     "execution_count": 3,
     "metadata": {},
     "output_type": "execute_result"
    }
   ],
   "source": [
    "let betterWords = storyWords.filter(function(word) {\n",
    "    return !unnecessaryWords.includes(word)\n",
    "})\n",
    "betterWords.length"
   ]
  },
  {
   "cell_type": "code",
   "execution_count": 4,
   "id": "2acd0c79",
   "metadata": {},
   "outputs": [],
   "source": [
    "let reallCount = 0;\n",
    "let veryCount = 0;\n",
    "let basicallyCount = 0;"
   ]
  },
  {
   "cell_type": "code",
   "execution_count": 4,
   "id": "53d99aa9",
   "metadata": {},
   "outputs": [],
   "source": [
    "for (word of storyWords) {\n",
    "    if (word === 'really') {\n",
    "        reallCount += 1\n",
    "    } else if (word == 'very') {\n",
    "        veryCount += 1\n",
    "    } else if (word === 'basically') {\n",
    "        basicallyCount += 1\n",
    "    }\n",
    "}"
   ]
  },
  {
   "cell_type": "code",
   "execution_count": 5,
   "id": "9423046e",
   "metadata": {
    "collapsed": true
   },
   "outputs": [],
   "source": [
    "console.log()"
   ]
  },
  {
   "cell_type": "code",
   "execution_count": null,
   "id": "21cbccab",
   "metadata": {},
   "outputs": [],
   "source": []
  },
  {
   "cell_type": "code",
   "execution_count": null,
   "id": "ee93dc50",
   "metadata": {},
   "outputs": [],
   "source": []
  }
 ],
 "metadata": {
  "kernelspec": {
   "display_name": "JavaScript (Node.js)",
   "language": "javascript",
   "name": "javascript"
  },
  "language_info": {
   "file_extension": ".js",
   "mimetype": "application/javascript",
   "name": "javascript",
   "version": "17.2.0"
  }
 },
 "nbformat": 4,
 "nbformat_minor": 5
}
