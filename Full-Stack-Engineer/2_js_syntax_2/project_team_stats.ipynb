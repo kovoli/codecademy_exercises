{
 "cells": [
  {
   "cell_type": "code",
   "execution_count": 4,
   "metadata": {},
   "outputs": [
    {
     "ename": "SyntaxError",
     "evalue": "Identifier 'team' has already been declared",
     "output_type": "error",
     "traceback": [
      "evalmachine.<anonymous>:1",
      "const team = {",
      "^",
      "",
      "SyntaxError: Identifier 'team' has already been declared",
      "    at Script.runInThisContext (node:vm:129:12)",
      "    at Object.runInThisContext (node:vm:305:38)",
      "    at run ([eval]:1054:15)",
      "    at onRunRequest ([eval]:888:18)",
      "    at onMessage ([eval]:848:13)",
      "    at process.emit (node:events:390:28)",
      "    at emit (node:internal/child_process:915:12)",
      "    at processTicksAndRejections (node:internal/process/task_queues:84:21)"
     ]
    }
   ],
   "source": [
    "const team = {\n",
    "    _players: [\n",
    "        {\n",
    "         firstName: 'Pablo',\n",
    "         lastName: 'Sanchez',\n",
    "         age: 11\n",
    "          },\n",
    "        {\n",
    "         firstName: 'Oliver',\n",
    "         lastName: 'Koles',\n",
    "         age: 15\n",
    "          },\n",
    "        {\n",
    "         firstName: 'Alex',\n",
    "         lastName: 'Schmidt',\n",
    "         age: 11\n",
    "          },\n",
    "    ],\n",
    "    _games: [\n",
    "        {\n",
    "          opponent: 'Broncos',\n",
    "          teamPoints: 54,\n",
    "          opponentPoints: 24\n",
    "        },\n",
    "        {\n",
    "          opponent: 'Berlin',\n",
    "          teamPoints: 42,\n",
    "          opponentPoints: 25\n",
    "        },\n",
    "        {\n",
    "          opponent: 'Muenchen',\n",
    "          teamPoints: 32,\n",
    "          opponentPoints: 19\n",
    "        },\n",
    "    ],\n",
    "    get players() {\n",
    "        return this._players;\n",
    "    },\n",
    "    get games() {\n",
    "        return this._games;\n",
    "    },\n",
    "    addPlayer(firstName, lastName, age) {\n",
    "    let player = {\n",
    "      firstName: firstName,\n",
    "      lastName: lastName,\n",
    "      age: age\n",
    "    };\n",
    "    this.players.push(player);\n",
    "  },\n",
    "    addGame(opponent, teamPoints, opponentPoints) {\n",
    "      let game = {opponent: opponent,\n",
    "      teamPoints: teamPoints,\n",
    "      opponentPoints: opponentPoints\n",
    "     };\n",
    "    this.games.push(game);    \n",
    "  },\n",
    "    \n",
    "}"
   ]
  },
  {
   "cell_type": "code",
   "execution_count": 5,
   "metadata": {
    "pycharm": {
     "name": "#%%\n"
    },
    "scrolled": true
   },
   "outputs": [
    {
     "data": {
      "text/plain": "[\n  { firstName: 'Pablo', lastName: 'Sanchez', age: 11 },\n  { firstName: 'Oliver', lastName: 'Koles', age: 15 },\n  { firstName: 'Alex', lastName: 'Schmidt', age: 11 },\n  { firstName: 'Steph', lastName: 'Curry', age: 28 },\n  { firstName: 'Steph', lastName: 'Curry', age: 28 }\n]"
     },
     "execution_count": 5,
     "metadata": {},
     "output_type": "execute_result"
    }
   ],
   "source": [
    "team.addPlayer('Steph', 'Curry', 28);\n",
    "team.players"
   ]
  },
  {
   "cell_type": "code",
   "execution_count": 6,
   "metadata": {},
   "outputs": [
    {
     "data": {
      "text/plain": "[\n  { opponent: 'Broncos', teamPoints: 54, opponentPoints: 24 },\n  { opponent: 'Berlin', teamPoints: 42, opponentPoints: 25 },\n  { opponent: 'Muenchen', teamPoints: 32, opponentPoints: 19 },\n  { opponent: 'Titans', teamPoints: 100, opponentPoints: 98 },\n  { opponent: 'Titans', teamPoints: 100, opponentPoints: 98 }\n]"
     },
     "execution_count": 6,
     "metadata": {},
     "output_type": "execute_result"
    }
   ],
   "source": [
    "team.addGame('Titans', 100, 98);\n",
    "team.games"
   ]
  }
 ],
 "metadata": {
  "kernelspec": {
   "name": "javascript",
   "language": "javascript",
   "display_name": "JavaScript (Node.js)"
  },
  "language_info": {
   "file_extension": ".js",
   "mimetype": "application/javascript",
   "name": "javascript",
   "version": "17.2.0"
  }
 },
 "nbformat": 4,
 "nbformat_minor": 1
}