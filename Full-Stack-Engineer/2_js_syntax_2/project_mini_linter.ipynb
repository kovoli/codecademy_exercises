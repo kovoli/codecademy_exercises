{
 "cells": [
  {
   "cell_type": "code",
   "execution_count": 1,
   "id": "c22853bb",
   "metadata": {},
   "outputs": [],
   "source": [
    "let story = 'Last weekend, I took literally the most beautiful bike ride of my life. The route is called \"The 9W to Nyack\" and it actually stretches all the way from Riverside Park in Manhattan to South Nyack, New Jersey. It\\'s really an adventure from beginning to end! It is a 48 mile loop and it basically took me an entire day. I stopped at Riverbank State Park to take some extremely artsy photos. It was a short stop, though, because I had a really long way left to go. After a quick photo op at the very popular Little Red Lighthouse, I began my trek across the George Washington Bridge into New Jersey.  The GW is actually very long - 4,760 feet! I was already very tired by the time I got to the other side.  An hour later, I reached Greenbrook Nature Sanctuary, an extremely beautiful park along the coast of the Hudson.  Something that was very surprising to me was that near the end of the route you actually cross back into New York! At this point, you are very close to the end.';\n",
    "let overusedWords = ['really', 'very', 'basically'];\n",
    "\n",
    "let unnecessaryWords = ['extremely', 'literally', 'actually' ]\n"
   ]
  },
  {
   "cell_type": "code",
   "execution_count": 2,
   "id": "15b4532e",
   "metadata": {},
   "outputs": [],
   "source": [
    "let storyWords = story.split(' ')"
   ]
  },
  {
   "cell_type": "code",
   "execution_count": 3,
   "id": "fc8e61d6",
   "metadata": {},
   "outputs": [],
   "source": [
    "let betterWords = storyWords.filter(function(word) {\n",
    "    return !unnecessaryWords.includes(word)\n",
    "})"
   ]
  },
  {
   "cell_type": "code",
   "execution_count": 4,
   "id": "d3f95db1",
   "metadata": {},
   "outputs": [],
   "source": [
    "let reallCount = 0;\n",
    "let veryCount = 0;\n",
    "let basicallyCount = 0;"
   ]
  },
  {
   "cell_type": "code",
   "execution_count": 5,
   "id": "ed9eb4c6",
   "metadata": {},
   "outputs": [],
   "source": [
    "for (word of storyWords) {\n",
    "    if (word === 'really') {\n",
    "        reallCount += 1\n",
    "    } else if (word == 'very') {\n",
    "        veryCount += 1\n",
    "    } else if (word === 'basically') {\n",
    "        basicallyCount += 1\n",
    "    }\n",
    "}"
   ]
  },
  {
   "cell_type": "code",
   "execution_count": 6,
   "id": "d5c3e2df",
   "metadata": {},
   "outputs": [
    {
     "data": {
      "text/plain": [
       "12"
      ]
     },
     "execution_count": 6,
     "metadata": {},
     "output_type": "execute_result"
    }
   ],
   "source": [
    "let sentencesCount = 0\n",
    "for (word of storyWords) {\n",
    "    if (word[word.length - 1] === '.' || word[word.length - 1] === '!')\n",
    "        sentencesCount += 1\n",
    "}"
   ]
  },
  {
   "cell_type": "code",
   "execution_count": 7,
   "id": "2ad40e10",
   "metadata": {},
   "outputs": [
    {
     "name": "stdout",
     "output_type": "stream",
     "text": [
      "Word count: 188\n",
      "Sentence count: 12\n",
      "Really count: 2\n",
      "Very count: 5\n",
      "Basically count: 1\n"
     ]
    }
   ],
   "source": [
    "console.log('Word count: ' + storyWords.length)\n",
    "console.log('Sentence count: ' + sentencesCount)\n",
    "console.log('Really count: ' + reallCount)\n",
    "console.log('Very count: ' + veryCount)\n",
    "console.log('Basically count: ' + basicallyCount)"
   ]
  },
  {
   "cell_type": "code",
   "execution_count": 8,
   "id": "d6718b36",
   "metadata": {},
   "outputs": [
    {
     "name": "stdout",
     "output_type": "stream",
     "text": [
      "Last weekend, I took the most beautiful bike ride of my life. The route is called \"The 9W to Nyack\" and it stretches all the way from Riverside Park in Manhattan to South Nyack, New Jersey. It's really an adventure from beginning to end! It is a 48 mile loop and it basically took me an entire day. I stopped at Riverbank State Park to take some artsy photos. It was a short stop, though, because I had a really long way left to go. After a quick photo op at the very popular Little Red Lighthouse, I began my trek across the George Washington Bridge into New Jersey.  The GW is very long - 4,760 feet! I was already very tired by the time I got to the other side.  An hour later, I reached Greenbrook Nature Sanctuary, an beautiful park along the coast of the Hudson.  Something that was very surprising to me was that near the end of the route you cross back into New York! At this point, you are very close to the end.\n"
     ]
    }
   ],
   "source": [
    "console.log(betterWords.join(' '))"
   ]
  }
 ],
 "metadata": {
  "kernelspec": {
   "display_name": "JavaScript (Node.js)",
   "language": "javascript",
   "name": "javascript"
  },
  "language_info": {
   "file_extension": ".js",
   "mimetype": "application/javascript",
   "name": "javascript",
   "version": "17.2.0"
  }
 },
 "nbformat": 4,
 "nbformat_minor": 5
}
