{
 "cells": [
  {
   "cell_type": "code",
   "execution_count": 1,
   "id": "43c75166",
   "metadata": {},
   "outputs": [],
   "source": [
    "// Looping Through Objects\n",
    "let spaceship = {\n",
    "  crew: {\n",
    "    captain: { \n",
    "      name: 'Lily', \n",
    "      degree: 'Computer Engineering', \n",
    "      cheerTeam() { console.log('You got this!') } \n",
    "    },\n",
    "    'chief officer': { \n",
    "      name: 'Dan', \n",
    "      degree: 'Aerospace Engineering', \n",
    "      agree() { console.log('I agree, captain!') } \n",
    "    },\n",
    "    medic: { \n",
    "      name: 'Clementine', \n",
    "      degree: 'Physics', \n",
    "      announce() { console.log(`Jets on!`) } },\n",
    "    translator: {\n",
    "      name: 'Shauna', \n",
    "      degree: 'Conservation Science', \n",
    "      powerFuel() { console.log('The tank is full!') } \n",
    "    }\n",
    "  }\n",
    "}; "
   ]
  },
  {
   "cell_type": "code",
   "execution_count": 6,
   "id": "3ccb2e74",
   "metadata": {},
   "outputs": [
    {
     "name": "stdout",
     "output_type": "stream",
     "text": [
      "captain: Lily\n",
      "chief officer: Dan\n",
      "medic: Clementine\n",
      "translator: Shauna\n"
     ]
    }
   ],
   "source": [
    "// for...in\n",
    "for (let crewMember in spaceship.crew) {\n",
    "  console.log(`${crewMember}: ${spaceship.crew[crewMember].name}`);\n",
    "}"
   ]
  },
  {
   "cell_type": "code",
   "execution_count": null,
   "id": "f9ca0aa0",
   "metadata": {},
   "outputs": [],
   "source": []
  }
 ],
 "metadata": {
  "kernelspec": {
   "display_name": "JavaScript (Node.js)",
   "language": "javascript",
   "name": "javascript"
  },
  "language_info": {
   "file_extension": ".js",
   "mimetype": "application/javascript",
   "name": "javascript",
   "version": "17.2.0"
  }
 },
 "nbformat": 4,
 "nbformat_minor": 5
}
