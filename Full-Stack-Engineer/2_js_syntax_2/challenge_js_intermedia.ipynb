{
 "cells": [
  {
   "cell_type": "markdown",
   "metadata": {
    "collapsed": true
   },
   "source": [
    "# reverseArray()"
   ]
  },
  {
   "cell_type": "code",
   "execution_count": 2,
   "metadata": {},
   "outputs": [
    {
     "name": "stdout",
     "output_type": "stream",
     "text": [
      "[ 'This', 'will', 'all', 'make', 'sense.' ]\n"
     ]
    }
   ],
   "source": [
    "// My Solution\n",
    "function reverseArray(sentence) {\n",
    "  let newSentence = []\n",
    "  for (var i = sentence.length - 1; i >= 0; i--) {\n",
    "    newSentence.push(sentence[i])\n",
    "  } \n",
    "return newSentence\n",
    "}\n",
    "\n",
    "const sentence = ['sense.','make', 'all', 'will', 'This'];\n",
    "console.log(reverseArray(sentence)) // Should print ['This', 'will', 'all', 'make', 'sense.'];"
   ]
  },
  {
   "cell_type": "code",
   "execution_count": 4,
   "metadata": {
    "pycharm": {
     "name": "#%%\n"
    }
   },
   "outputs": [
    {
     "name": "stdout",
     "output_type": "stream",
     "text": [
      "[ 'This', 'will', 'all', 'make', 'sense.' ]\n"
     ]
    }
   ],
   "source": [
    "// Built-In Solution\n",
    "const sentence1 = ['sense.','make', 'all', 'will', 'This'];\n",
    "console.log(sentence.reverse())"
   ]
  },
  {
   "cell_type": "markdown",
   "metadata": {
    "pycharm": {
     "name": "#%%\n"
    }
   },
   "source": [
    "# greetAliens()"
   ]
  },
  {
   "cell_type": "code",
   "execution_count": 5,
   "metadata": {},
   "outputs": [
    {
     "name": "stdout",
     "output_type": "stream",
     "text": [
      "Oh powerful Blorgous, we humans offer our unconditional surrender!\n",
      "Oh powerful Glamyx, we humans offer our unconditional surrender!\n",
      "Oh powerful Wegord, we humans offer our unconditional surrender!\n",
      "Oh powerful SpaceKing, we humans offer our unconditional surrender!\n"
     ]
    }
   ],
   "source": [
    "// My Solution:\n",
    "function greetAliens(arg) {\n",
    "  for (word of arg) {\n",
    "    console.log(`Oh powerful ${word}, we humans offer our unconditional surrender!`)\n",
    "  }\n",
    "}\n",
    "const aliens = [\"Blorgous\", \"Glamyx\", \"Wegord\", \"SpaceKing\"];\n",
    "greetAliens(aliens);"
   ]
  },
  {
   "cell_type": "code",
   "execution_count": 6,
   "metadata": {},
   "outputs": [
    {
     "name": "stdout",
     "output_type": "stream",
     "text": [
      "Oh powerful Blorgous, we humans offer our unconditional surrender!\n",
      "Oh powerful Glamyx, we humans offer our unconditional surrender!\n",
      "Oh powerful Wegord, we humans offer our unconditional surrender!\n",
      "Oh powerful SpaceKing, we humans offer our unconditional surrender!\n"
     ]
    }
   ],
   "source": [
    "// Build-In Solution\n",
    "aliens.forEach(word => {\n",
    "    console.log(`Oh powerful ${word}, we humans offer our unconditional surrender!`)\n",
    "    }\n",
    ")"
   ]
  },
  {
   "cell_type": "code",
   "execution_count": null,
   "metadata": {},
   "outputs": [],
   "source": [
    "// Alternative Soltion\n",
    "function greetAliens(arr) {\n",
    "for (let i = 0; i<arr.length; i++){\n",
    "    console.log(`Oh powerful ${arr[i]}, we humans offer our unconditional surrender!`);\n",
    "}\n",
    "}"
   ]
  },
  {
   "cell_type": "markdown",
   "metadata": {},
   "source": [
    "# convertToBaby()"
   ]
  },
  {
   "cell_type": "code",
   "execution_count": 7,
   "metadata": {},
   "outputs": [
    {
     "name": "stdout",
     "output_type": "stream",
     "text": [
      "[\n",
      "  'baby panda',\n",
      "  'baby turtle',\n",
      "  'baby giraffe',\n",
      "  'baby hippo',\n",
      "  'baby sloth',\n",
      "  'baby human'\n",
      "]\n"
     ]
    }
   ],
   "source": [
    "// My Solution:\n",
    "function convertToBaby(arg) {\n",
    "  let newArr = []\n",
    "  for (let i=0; i < arg.length; i++) {\n",
    "    newArr.push('baby ' + arg[i])\n",
    "  }\n",
    "  return newArr\n",
    "}\n",
    "const animals = ['panda', 'turtle', 'giraffe', 'hippo', 'sloth', 'human'];\n",
    "console.log(convertToBaby(animals)) "
   ]
  },
  {
   "cell_type": "code",
   "execution_count": 8,
   "metadata": {},
   "outputs": [
    {
     "name": "stdout",
     "output_type": "stream",
     "text": [
      "[\n",
      "  'baby panda',\n",
      "  'baby turtle',\n",
      "  'baby giraffe',\n",
      "  'baby hippo',\n",
      "  'baby sloth',\n",
      "  'baby human'\n",
      "]\n"
     ]
    }
   ],
   "source": [
    "// Build-In Solution\n",
    "const babyArr = []\n",
    "animals.forEach(word => {\n",
    "    return babyArr.push('baby ' + word)\n",
    "    }\n",
    ")\n",
    "console.log(babyArr)"
   ]
  },
  {
   "cell_type": "markdown",
   "metadata": {},
   "source": [
    "# declineEverything() and acceptEverything()"
   ]
  },
  {
   "cell_type": "code",
   "execution_count": 9,
   "metadata": {},
   "outputs": [
    {
     "name": "stdout",
     "output_type": "stream",
     "text": [
      "No broccoli please. I will have pizza with extra cheese.\n",
      "No spinach please. I will have pizza with extra cheese.\n",
      "No cauliflower please. I will have pizza with extra cheese.\n",
      "No broccoflower please. I will have pizza with extra cheese.\n",
      "Ok, I guess I will eat some broccoli.\n",
      "Ok, I guess I will eat some spinach.\n",
      "Ok, I guess I will eat some cauliflower.\n",
      "Ok, I guess I will eat some broccoflower.\n"
     ]
    }
   ],
   "source": [
    "const veggies = ['broccoli', 'spinach', 'cauliflower', 'broccoflower'];\n",
    "\n",
    "const politelyDecline = (veg) => {\n",
    "      console.log('No ' + veg + ' please. I will have pizza with extra cheese.');\n",
    "}\n",
    "\n",
    "function declineEverything(arg) {\n",
    "  arg.forEach(politelyDecline)\n",
    "}\n",
    "declineEverything(veggies)\n",
    "'------------------------------'\n",
    "function acceptEverything(arg) {\n",
    "  arg.forEach(arg => {\n",
    "    console.log(`Ok, I guess I will eat some ${arg}.`)\n",
    "  })\n",
    "}\n",
    "acceptEverything(veggies)"
   ]
  },
  {
   "cell_type": "markdown",
   "metadata": {},
   "source": [
    "# squareNums()"
   ]
  },
  {
   "cell_type": "code",
   "execution_count": null,
   "metadata": {},
   "outputs": [],
   "source": [
    "// My Solution\n",
    "const numbers = [2, 7, 9, 171, 52, 33, 14];\n",
    "\n",
    "const toSquare = num => num * num\n",
    "\n",
    "const squareNums = arr => arr.map(toSquare) \n",
    "console.log(squareNums(numbers))"
   ]
  },
  {
   "cell_type": "code",
   "execution_count": null,
   "metadata": {},
   "outputs": [],
   "source": [
    "// Using an anonymous function:\n",
    "const squareNums = arr => arr.map(e => e * e)\n",
    "\n",
    "// As a function declaration plus using our named function:\n",
    "function squareNums(arr) {\n",
    "    return arr.map(toSquare)\n",
    "}"
   ]
  },
  {
   "cell_type": "markdown",
   "metadata": {},
   "source": [
    "# shoutGreetings()"
   ]
  },
  {
   "cell_type": "code",
   "execution_count": 10,
   "metadata": {},
   "outputs": [
    {
     "name": "stdout",
     "output_type": "stream",
     "text": [
      "[ 'HELLO!', 'HI!', 'HEYA!', 'OI!', 'HEY!', 'YO!' ]\n"
     ]
    }
   ],
   "source": [
    "// My Solution\n",
    "const greetings = ['hello', 'hi', 'heya', 'oi', 'hey', 'yo'];\n",
    "function shoutGreetings(arr) {\n",
    "  return arr.map(arr => arr.toUpperCase() + '!')\n",
    "}\n",
    "console.log(shoutGreetings(greetings))"
   ]
  },
  {
   "cell_type": "code",
   "execution_count": null,
   "metadata": {},
   "outputs": [],
   "source": [
    "// Other Solution\n",
    "function shoutGreetings(arr) {\n",
    "    let shoutArray = []\n",
    "    for(let i = 0; i<arr.length; i++){\n",
    "        shoutArray.push(arr[i].toUpperCase() + '!')\n",
    "    }\n",
    "    return shoutArray\n",
    "}"
   ]
  },
  {
   "cell_type": "markdown",
   "metadata": {},
   "source": [
    "# sortYears()"
   ]
  },
  {
   "cell_type": "code",
   "execution_count": 1,
   "metadata": {},
   "outputs": [
    {
     "name": "stdout",
     "output_type": "stream",
     "text": [
      "[\n",
      "  2018, 2011, 1999,\n",
      "  1982, 1970, 1963,\n",
      "  1951, 1922\n",
      "]\n"
     ]
    }
   ],
   "source": [
    "// My Solution:\n",
    "let years = [1970, 1999, 1951, 1982, 1963, 2011, 2018, 1922]\n",
    "function sortYears(arr) {\n",
    "  return arr.sort().reverse()\n",
    "}\n",
    "console.log(sortYears(years))"
   ]
  },
  {
   "cell_type": "code",
   "execution_count": null,
   "metadata": {},
   "outputs": [],
   "source": [
    "// Other Solution\n",
    "const sortYears = arr => arr.sort((x, y) => y - x);\n",
    "// As a function declaration AND using a named function:\n",
    "function sortYears(arr) {\n",
    "      const checkYears = (year1, year2) => year2 - year1\n",
    "      return arr.sort(checkYears)\n",
    "}\n"
   ]
  },
  {
   "cell_type": "markdown",
   "metadata": {},
   "source": [
    "# justCoolStuff()"
   ]
  },
  {
   "cell_type": "code",
   "execution_count": 2,
   "metadata": {},
   "outputs": [
    {
     "name": "stdout",
     "output_type": "stream",
     "text": [
      "[ 'fruit-by-the-foot', 'skateboards', 'my room' ]\n"
     ]
    }
   ],
   "source": [
    "// My Solution:\n",
    "function justCoolStuff(arr1, arr2) {\n",
    "  return arr1.filter(word => {\n",
    "    return arr2.includes(word)\n",
    "  })\n",
    "}\n",
    "\n",
    "const coolStuff = ['gameboys', 'skateboards', 'backwards hats', 'fruit-by-the-foot', 'pogs', 'my room', 'temporary tattoos'];\n",
    "const myStuff = [ 'rules', 'fruit-by-the-foot', 'wedgies', 'sweaters', 'skateboards', 'family-night', 'my room', 'braces', 'the information superhighway']; \n",
    "console.log(justCoolStuff(myStuff, coolStuff))"
   ]
  },
  {
   "cell_type": "code",
   "execution_count": null,
   "metadata": {},
   "outputs": [],
   "source": [
    "// As a function declaration AND using named function w/ a loop:\n",
    "function justCoolStuff(firstArray, secondArray) {\n",
    "      function isInSecondArray(item){\n",
    "            for(let i = 0; i<secondArray.length; i++){\n",
    "                  if (secondArray[i] === item){\n",
    "                        return true\n",
    "                  }\n",
    "            }\n",
    "            return false \n",
    "      }\n",
    "      return firstArray.filter(isInSecondArray)\n",
    "}\n"
   ]
  },
  {
   "cell_type": "markdown",
   "metadata": {},
   "source": [
    "# isTheDinnerVegan() every()"
   ]
  },
  {
   "cell_type": "code",
   "execution_count": 3,
   "metadata": {},
   "outputs": [
    {
     "name": "stdout",
     "output_type": "stream",
     "text": [
      "false\n"
     ]
    }
   ],
   "source": [
    "const isTheDinnerVegan = (kwarg) => {\n",
    "  return kwarg.every(word => word.source === 'plant')\n",
    "}\n",
    "// Feel free to comment out the code below to test your function\n",
    "const dinner = [{name: 'hamburger', source: 'meat'}, {name: 'cheese', source: 'dairy'}, {name: 'ketchup', source:'plant'}, {name: 'bun', source: 'plant'}, {name: 'dessert twinkies', source:'unknown'}];\n",
    "console.log(isTheDinnerVegan(dinner)) // Should print false"
   ]
  },
  {
   "cell_type": "code",
   "execution_count": null,
   "metadata": {},
   "outputs": [],
   "source": [
    "// Alternate solution:\n",
    "// Using a function declaration, loop, and helper function:\n",
    "function isTheDinnerVegan(arr) {\n",
    "      const isVegan = (food) => {\n",
    "            if (food.source === 'plant') {\n",
    "                  return true;\n",
    "            }\n",
    "            return false;\n",
    "      }\n",
    "      for(let i = 0; i<arr.length; i++){\n",
    "            if (!isVegan(arr[i])){\n",
    "                  return false \n",
    "            }\n",
    "      }\n",
    "      return true\n",
    "}"
   ]
  },
  {
   "cell_type": "markdown",
   "metadata": {},
   "source": [
    "# sortSpeciesByTeeth()  sort()"
   ]
  },
  {
   "cell_type": "code",
   "execution_count": 1,
   "metadata": {
    "scrolled": true
   },
   "outputs": [
    {
     "name": "stdout",
     "output_type": "stream",
     "text": [
      "[\n",
      "  { speciesName: 'shark', numTeeth: 50 },\n",
      "  { speciesName: 'dog', numTeeth: 42 },\n",
      "  { speciesName: 'alligator', numTeeth: 80 },\n",
      "  { speciesName: 'human', numTeeth: 32 }\n",
      "]\n"
     ]
    }
   ],
   "source": [
    "const speciesArray = [ {speciesName:'shark', numTeeth:50}, {speciesName:'dog', numTeeth:42}, {speciesName:'alligator', numTeeth:80}, {speciesName:'human', numTeeth:32}];\n",
    "\n",
    "const sortSpeciesByTeeth = arr => arr.sort((speciesObj1, speciesObj2) => speciesObj1.numTeeth > speciesObj2.numTeeth)\n",
    "\n",
    "/*\n",
    "// As a function declaration AND using a named function:\n",
    "function sortSpeciesByTeeth(arr) {\n",
    "      const compareTeeth = (speciesObj1, speciesObj2) => speciesObj1.numTeeth > speciesObj2.numTeeth\n",
    "      return arr.sort(compareTeeth)\n",
    "}\n",
    "*/\n",
    "console.log(sortSpeciesByTeeth(speciesArray))"
   ]
  },
  {
   "cell_type": "markdown",
   "metadata": {},
   "source": [
    "# findMyKeys()  findIndex()"
   ]
  },
  {
   "cell_type": "code",
   "execution_count": 2,
   "metadata": {},
   "outputs": [
    {
     "name": "stdout",
     "output_type": "stream",
     "text": [
      "4\n"
     ]
    }
   ],
   "source": [
    "// My Solution:\n",
    "function findMyKeys(arr) {\n",
    "    return arr.findIndex(item => item.includes('keys'))\n",
    "}\n",
    "const randomStuff = ['credit card', 'screwdriver', 'receipt', 'gum', 'keys', 'used gum', 'plastic spoon'];\n",
    "console.log(findMyKeys(randomStuff))"
   ]
  },
  {
   "cell_type": "code",
   "execution_count": null,
   "metadata": {},
   "outputs": [],
   "source": [
    "// Alternate solution:\n",
    "const findMyKeys = arr => arr.findIndex(item => item === 'keys')\n",
    "/*\n",
    "// Alternate solution:\n",
    "// As a function declaration using a loop:\n",
    "function findMyKeys(arr) {\n",
    "      let index = -1;\n",
    "      for (let i = 0; i < arr.length; i++) {\n",
    "            if (arr[i] === 'keys') {\n",
    "                  index = i\n",
    "                  break\n",
    "            }\n",
    "      }\n",
    "      return index\n",
    "}\n",
    "*/"
   ]
  },
  {
   "cell_type": "markdown",
   "metadata": {},
   "source": [
    "# dogFactory()"
   ]
  },
  {
   "cell_type": "code",
   "execution_count": 6,
   "metadata": {},
   "outputs": [],
   "source": [
    "// Write your code here:\n",
    "function dogFactory(name, breed, weight) {\n",
    "  return {\n",
    "    _name: name,\n",
    "    _breed: breed,\n",
    "    _weight: weight,\n",
    "    get name() {\n",
    "      return this._name\n",
    "    },\n",
    "    get breed() {\n",
    "      return this._breed\n",
    "    },\n",
    "    get weight() {\n",
    "      return this._weight\n",
    "    },\n",
    "    set name(arr) {\n",
    "      this._name = arr\n",
    "    },\n",
    "    set breed(arr) {\n",
    "      this._breed = arr\n",
    "    },\n",
    "    set weight(arr) {\n",
    "      this._weight = arr\n",
    "    },\n",
    "    bark() {\n",
    "      return 'ruff! ruff!'\n",
    "    },\n",
    "    eatTooManyTreats() {\n",
    "      this._weight += 1 \n",
    "    }\n",
    "  }\n",
    "}"
   ]
  },
  {
   "cell_type": "code",
   "execution_count": 9,
   "metadata": {},
   "outputs": [
    {
     "data": {
      "text/plain": [
       "16"
      ]
     },
     "execution_count": 9,
     "metadata": {},
     "output_type": "execute_result"
    }
   ],
   "source": [
    "exampleObj = dogFactory(\"Tim\", 'Ovcharka', 15);\n",
    "exampleObj.name; //returns \"This method ran!\"\n",
    "exampleObj.eatTooManyTreats()\n",
    "exampleObj.weight;"
   ]
  }
 ],
 "metadata": {
  "kernelspec": {
   "display_name": "JavaScript (Node.js)",
   "language": "javascript",
   "name": "javascript"
  },
  "language_info": {
   "file_extension": ".js",
   "mimetype": "application/javascript",
   "name": "javascript",
   "version": "17.2.0"
  }
 },
 "nbformat": 4,
 "nbformat_minor": 1
}