{
 "cells": [
  {
   "cell_type": "markdown",
   "metadata": {
    "collapsed": true
   },
   "source": [
    "## Functions as Data"
   ]
  },
  {
   "cell_type": "code",
   "execution_count": null,
   "metadata": {},
   "outputs": [],
   "source": [
    "const checkThatTwoPlusTwoEqualsFourAMillionTimes = () => {\n",
    "  for(let i = 1; i <= 1000000; i++) {\n",
    "    if ( (2 + 2) != 4) {\n",
    "      console.log('Something has gone very wrong :( ');\n",
    "    }\n",
    "  }\n",
    "}\n",
    "\n",
    "// Write your code below\n",
    "let is2p2 = checkThatTwoPlusTwoEqualsFourAMillionTimes; <======  \n",
    "console.log(is2p2.name);"
   ]
  },
  {
   "cell_type": "markdown",
   "metadata": {},
   "source": [
    "## Functions as Parameters \"Callback-Function\""
   ]
  },
  {
   "cell_type": "code",
   "execution_count": 2,
   "metadata": {},
   "outputs": [
    {
     "data": {
      "text/plain": [
       "0"
      ]
     },
     "execution_count": 2,
     "metadata": {},
     "output_type": "execute_result"
    }
   ],
   "source": [
    "const timeFuncRuntime = funcParameter => {\n",
    "   let t1 = Date.now();\n",
    "   funcParameter();\n",
    "   let t2 = Date.now();\n",
    "   return t2 - t1;\n",
    "}\n",
    " \n",
    "const addOneToOne = () => 1 + 1;\n",
    " \n",
    "timeFuncRuntime(addOneToOne); // Ohne klammern "
   ]
  },
  {
   "cell_type": "code",
   "execution_count": 3,
   "metadata": {
    "pycharm": {
     "name": "#%%\n"
    }
   },
   "outputs": [
    {
     "name": "stdout",
     "output_type": "stream",
     "text": [
      "10\n",
      "9\n",
      "8\n",
      "7\n",
      "6\n",
      "5\n",
      "4\n",
      "3\n",
      "2\n",
      "1\n"
     ]
    },
    {
     "data": {
      "text/plain": [
       "2"
      ]
     },
     "execution_count": 3,
     "metadata": {},
     "output_type": "execute_result"
    }
   ],
   "source": [
    "timeFuncRuntime(() => {\n",
    "  for (let i = 10; i>0; i--){\n",
    "    console.log(i);\n",
    "  }\n",
    "});"
   ]
  }
 ],
 "metadata": {
  "kernelspec": {
   "display_name": "JavaScript (Node.js)",
   "language": "javascript",
   "name": "javascript"
  },
  "language_info": {
   "file_extension": ".js",
   "mimetype": "application/javascript",
   "name": "javascript",
   "version": "17.2.0"
  }
 },
 "nbformat": 4,
 "nbformat_minor": 1
}
