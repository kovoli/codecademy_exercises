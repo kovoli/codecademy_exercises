{
 "cells": [
  {
   "cell_type": "markdown",
   "id": "1b71f2f5",
   "metadata": {},
   "source": [
    "# The this Keyword"
   ]
  },
  {
   "cell_type": "code",
   "execution_count": 1,
   "id": "3ccb2e74",
   "metadata": {},
   "outputs": [],
   "source": [
    "const goat = {\n",
    "  dietType: 'herbivore',\n",
    "  makeSound() {\n",
    "    console.log('baaa');\n",
    "  }\n",
    "};"
   ]
  },
  {
   "cell_type": "code",
   "execution_count": 2,
   "id": "f9ca0aa0",
   "metadata": {},
   "outputs": [
    {
     "name": "stdout",
     "output_type": "stream",
     "text": [
      "baaa\n"
     ]
    }
   ],
   "source": [
    "goat.makeSound(); // Prints baaa"
   ]
  },
  {
   "cell_type": "code",
   "execution_count": null,
   "id": "59f33306",
   "metadata": {},
   "outputs": [],
   "source": [
    "const goat2 = {\n",
    "  dietType: 'herbivore',  // <=======\n",
    "  makeSound() {\n",
    "    console.log('baaa');\n",
    "  },\n",
    "  diet() {\n",
    "    console.log(dietType); // <========\n",
    "  }\n",
    "};goat.diet(); // Output will be \"ReferenceError: dietType is not defined\""
   ]
  },
  {
   "cell_type": "code",
   "execution_count": 1,
   "id": "104edc3c",
   "metadata": {},
   "outputs": [
    {
     "name": "stdout",
     "output_type": "stream",
     "text": [
      "herbivore\n"
     ]
    }
   ],
   "source": [
    "const goat3 = {\n",
    "  dietType: 'herbivore',\n",
    "  makeSound() {\n",
    "    console.log('baaa');\n",
    "  },\n",
    "  diet() {\n",
    "    console.log(this.dietType); // <=======\n",
    "  }b\n",
    "};\n",
    "goat3.diet(); // Output: herbivore"
   ]
  },
  {
   "cell_type": "code",
   "execution_count": 2,
   "id": "145a34cc",
   "metadata": {},
   "outputs": [
    {
     "name": "stdout",
     "output_type": "stream",
     "text": [
      "I am 1E78V2 and my current energy level is 100.\n"
     ]
    }
   ],
   "source": [
    "const robot = {\n",
    "  model: '1E78V2',\n",
    "  energyLevel: 100,\n",
    "  provideInfo() {\n",
    "    return `I am ${this.model} and my current energy level is ${this.energyLevel}.`\n",
    "   }\n",
    "};\n",
    "\n",
    "console.log(robot.provideInfo())"
   ]
  },
  {
   "cell_type": "code",
   "execution_count": null,
   "id": "9cd55910",
   "metadata": {},
   "outputs": [],
   "source": [
    "const goat = {\n",
    "  dietType: 'herbivore',\n",
    "  makeSound() {\n",
    "    console.log('baaa');\n",
    "  },\n",
    "  diet: () => {\n",
    "    console.log(this.dietType); // keine Pfeil functionen verwenden, da sie die this methode nicht unterstützen\n",
    "  }\n",
    "};\n",
    " \n",
    "goat.diet(); // Prints undefined"
   ]
  },
  {
   "cell_type": "markdown",
   "id": "a780b071",
   "metadata": {},
   "source": [
    "# Privacy"
   ]
  },
  {
   "cell_type": "code",
   "execution_count": 4,
   "id": "6e9978a9",
   "metadata": {},
   "outputs": [
    {
     "name": "stdout",
     "output_type": "stream",
     "text": [
      "Recharged! Energy is currently at high30%.\n"
     ]
    }
   ],
   "source": [
    "const robot1 = {\n",
    "  _energyLevel: 100,\n",
    "  recharge(){\n",
    "    this._energyLevel += 30;\n",
    "    console.log(`Recharged! Energy is currently at ${this._energyLevel}%.`)\n",
    "  }\n",
    "};\n",
    "\n",
    "\n",
    "robot1._energyLevel = 'high' // Mann kann Privacy ändern, sollte es aber nicht tun\n",
    "robot1.recharge()"
   ]
  },
  {
   "cell_type": "markdown",
   "id": "d5fbe8d2",
   "metadata": {},
   "source": [
    "# Getters"
   ]
  },
  {
   "cell_type": "code",
   "execution_count": null,
   "id": "9be9375c",
   "metadata": {},
   "outputs": [],
   "source": [
    "const person = {\n",
    "  _firstName: 'John',\n",
    "  _lastName: 'Doe',\n",
    "  get fullName() {  // <==== get = getter \n",
    "    if (this._firstName && this._lastName){ // <===== this.____\n",
    "      return `${this._firstName} ${this._lastName}`;\n",
    "    } else {\n",
    "      return 'Missing a first name or a last name.';\n",
    "    }\n",
    "  }\n",
    "}\n",
    " \n",
    "// To call the getter method: \n",
    "person.fullName; // 'John Doe'"
   ]
  },
  {
   "cell_type": "markdown",
   "id": "cb4efb0d",
   "metadata": {},
   "source": [
    "# Setters"
   ]
  },
  {
   "cell_type": "code",
   "execution_count": 8,
   "id": "f0e6d8c3",
   "metadata": {},
   "outputs": [],
   "source": [
    "const person1 = {\n",
    "  _age: 37,\n",
    "  set age(newAge){  // <====== set = setter\n",
    "    if (typeof newAge === 'number'){\n",
    "      this._age = newAge;\n",
    "    } else {\n",
    "      console.log('You must assign a number to age');\n",
    "    }\n",
    "  }\n",
    "};"
   ]
  },
  {
   "cell_type": "code",
   "execution_count": 9,
   "id": "fee6cd87",
   "metadata": {},
   "outputs": [
    {
     "name": "stdout",
     "output_type": "stream",
     "text": [
      "40\n",
      "You must assign a number to age\n"
     ]
    },
    {
     "data": {
      "text/plain": [
       "'40'"
      ]
     },
     "execution_count": 9,
     "metadata": {},
     "output_type": "execute_result"
    }
   ],
   "source": [
    "person1.age = 40;\n",
    "console.log(person1._age); // Logs: 40\n",
    "person1.age = '40'; // Logs: You must assign a number to age"
   ]
  },
  {
   "cell_type": "code",
   "execution_count": 10,
   "id": "2c5609f1",
   "metadata": {
    "scrolled": true
   },
   "outputs": [
    {
     "name": "stdout",
     "output_type": "stream",
     "text": [
      "forty-five\n"
     ]
    }
   ],
   "source": [
    "person1._age = 'forty-five' // Trotzdem ist es auch mit einer Setter-Methode möglich, Eigenschaften direkt neu zuzuweisen\n",
    "console.log(person1._age); // Prints forty-five"
   ]
  },
  {
   "cell_type": "markdown",
   "id": "06e09c77",
   "metadata": {},
   "source": [
    "# Factory Functions"
   ]
  },
  {
   "cell_type": "code",
   "execution_count": 11,
   "id": "b30ea916",
   "metadata": {},
   "outputs": [],
   "source": [
    "const monsterFactory = (name, age, energySource, catchPhrase) => {\n",
    "  return { \n",
    "    name: name,\n",
    "    age: age, \n",
    "    energySource: energySource,\n",
    "    scare() {\n",
    "      console.log(catchPhrase);\n",
    "    } \n",
    "  }\n",
    "};"
   ]
  },
  {
   "cell_type": "code",
   "execution_count": 12,
   "id": "cf6b88f3",
   "metadata": {},
   "outputs": [
    {
     "name": "stdout",
     "output_type": "stream",
     "text": [
      "BOO!\n"
     ]
    }
   ],
   "source": [
    "const ghost = monsterFactory('Ghouly', 251, 'ectoplasm', 'BOO!');\n",
    "ghost.scare(); // 'BOO!'"
   ]
  },
  {
   "cell_type": "markdown",
   "id": "dffe05ad",
   "metadata": {},
   "source": [
    "# Property Value Shorthand"
   ]
  },
  {
   "cell_type": "code",
   "execution_count": 14,
   "id": "4549f363",
   "metadata": {},
   "outputs": [],
   "source": [
    "const monsterFactory1 = (name, age) => {\n",
    "  return { \n",
    "    name, // <======\n",
    "    age   // <======\n",
    "  }\n",
    "};"
   ]
  },
  {
   "cell_type": "markdown",
   "id": "25638741",
   "metadata": {},
   "source": [
    "# Destructured Assignment"
   ]
  },
  {
   "cell_type": "code",
   "execution_count": 1,
   "id": "09349ff1",
   "metadata": {},
   "outputs": [],
   "source": [
    "const vampire = {\n",
    "  name: 'Dracula',\n",
    "  residence: 'Transylvania',\n",
    "  preferences: {\n",
    "    day: 'stay inside', // <======== \n",
    "    night: 'satisfy appetite'\n",
    "  }\n",
    "};"
   ]
  },
  {
   "cell_type": "code",
   "execution_count": 2,
   "id": "51edbd91",
   "metadata": {},
   "outputs": [],
   "source": [
    "// const residence = vampire.residence; // die residenceEigenschaft als Variable extrahieren\n",
    "// console.log(residence); // Prints 'Transylvania' "
   ]
  },
  {
   "cell_type": "code",
   "execution_count": 3,
   "id": "184b24d3",
   "metadata": {
    "scrolled": false
   },
   "outputs": [
    {
     "name": "stdout",
     "output_type": "stream",
     "text": [
      "Transylvania\n",
      "stay inside\n"
     ]
    }
   ],
   "source": [
    "// Bei der destrukturierten Zuweisung erstellen wir eine Variable mit dem Namen des Schlüssels eines Objekts\n",
    "const { residence } = vampire; \n",
    "console.log(residence); // Prints 'Transylvania'\n",
    "const { day } = vampire.preferences; \n",
    "console.log(day); // Prints 'stay inside'"
   ]
  },
  {
   "cell_type": "code",
   "execution_count": 4,
   "id": "0de2cc76",
   "metadata": {},
   "outputs": [
    {
     "name": "stdout",
     "output_type": "stream",
     "text": [
      "satisfy appetite\n"
     ]
    }
   ],
   "source": [
    "const {preferences} = vampire   // Kopieren kinder elemente mit\n",
    "console.log(preferences.night) // <======= "
   ]
  },
  {
   "cell_type": "markdown",
   "id": "4367ae1e",
   "metadata": {},
   "source": [
    "# Built-in Object Methods"
   ]
  },
  {
   "cell_type": "code",
   "execution_count": 5,
   "id": "22f71add",
   "metadata": {},
   "outputs": [
    {
     "name": "stdout",
     "output_type": "stream",
     "text": [
      "[ 'model', 'mobile', 'sentient', 'armor', 'energyLevel' ]\n",
      "[\n",
      "  [ 'model', 'SAL-1000' ],\n",
      "  [ 'mobile', true ],\n",
      "  [ 'sentient', false ],\n",
      "  [ 'armor', 'Steel-plated' ],\n",
      "  [ 'energyLevel', 75 ]\n",
      "]\n",
      "{\n",
      "  laserBlaster: true,\n",
      "  voiceRecognition: true,\n",
      "  model: 'SAL-1000',\n",
      "  mobile: true,\n",
      "  sentient: false,\n",
      "  armor: 'Steel-plated',\n",
      "  energyLevel: 75\n",
      "}\n"
     ]
    }
   ],
   "source": [
    "const robot2 = {\n",
    "  model: 'SAL-1000',\n",
    "  mobile: true,\n",
    "  sentient: false,\n",
    "  armor: 'Steel-plated',\n",
    "  energyLevel: 75\n",
    "};\n",
    "\n",
    "// What is missing in the following method call?\n",
    "const robotKeys = Object.keys(robot2);\n",
    "\n",
    "console.log(robotKeys);\n",
    "\n",
    "// Declare robotEntries below this line:\n",
    "const robotEntries = Object.entries(robot2)\n",
    "\n",
    "console.log(robotEntries);\n",
    "\n",
    "// Declare newRobot below this line:\n",
    "const newRobot = Object.assign({laserBlaster: true, voiceRecognition: true}, robot2)\n",
    "\n",
    "console.log(newRobot);"
   ]
  },
  {
   "cell_type": "code",
   "execution_count": null,
   "id": "bff374ba",
   "metadata": {},
   "outputs": [],
   "source": []
  },
  {
   "cell_type": "code",
   "execution_count": null,
   "id": "2234238e",
   "metadata": {},
   "outputs": [],
   "source": []
  }
 ],
 "metadata": {
  "kernelspec": {
   "display_name": "JavaScript (Node.js)",
   "language": "javascript",
   "name": "javascript"
  },
  "language_info": {
   "file_extension": ".js",
   "mimetype": "application/javascript",
   "name": "javascript",
   "version": "17.2.0"
  }
 },
 "nbformat": 4,
 "nbformat_minor": 5
}
