{
 "cells": [
  {
   "cell_type": "markdown",
   "id": "f23d1d96",
   "metadata": {},
   "source": [
    "# forEach() .map() .filter()"
   ]
  },
  {
   "cell_type": "code",
   "execution_count": 1,
   "id": "103a461e",
   "metadata": {},
   "outputs": [
    {
     "name": "stdout",
     "output_type": "stream",
     "text": [
      "Picasso is one of my favorite artists.\n",
      "Kahlo is one of my favorite artists.\n",
      "Matisse is one of my favorite artists.\n",
      "Utamaro is one of my favorite artists.\n",
      "[ 1, 4, 9, 16, 25 ]\n",
      "[ 5, 3.14, 100 ]\n"
     ]
    }
   ],
   "source": [
    "const artists = ['Picasso', 'Kahlo', 'Matisse', 'Utamaro'];\n",
    "\n",
    "artists.forEach(artist => {\n",
    "  console.log(artist + ' is one of my favorite artists.');\n",
    "});\n",
    "\n",
    "const numbers = [1, 2, 3, 4, 5];\n",
    "\n",
    "const squareNumbers = numbers.map(number => {\n",
    "  return number * number;\n",
    "});\n",
    "\n",
    "console.log(squareNumbers);\n",
    "\n",
    "const things = ['desk', 'chair', 5, 'backpack', 3.14, 100];\n",
    "\n",
    "const onlyNumbers = things.filter(thing => {\n",
    "  return typeof thing === 'number';\n",
    "});\n",
    "\n",
    "console.log(onlyNumbers);"
   ]
  },
  {
   "cell_type": "markdown",
   "id": "892a52cc",
   "metadata": {},
   "source": [
    "# The .forEach() Method"
   ]
  },
  {
   "cell_type": "code",
   "execution_count": 2,
   "id": "ed2a78db",
   "metadata": {},
   "outputs": [
    {
     "name": "stdout",
     "output_type": "stream",
     "text": [
      "I want to eat a mango\n",
      "I want to eat a papaya\n",
      "I want to eat a pineapple\n",
      "I want to eat a apple\n"
     ]
    }
   ],
   "source": [
    "// .forEach () будет выполнять один и тот же код для каждого элемента массива.\n",
    "\n",
    "const fruits = ['mango', 'papaya', 'pineapple', 'apple'];\n",
    "\n",
    "// Iterate over fruits below\n",
    "fruits.forEach(fruit => {\n",
    "  console.log('I want to eat a ' + fruit)\n",
    "})"
   ]
  },
  {
   "cell_type": "markdown",
   "id": "fa6643b2",
   "metadata": {},
   "source": [
    "# The .map() Method"
   ]
  },
  {
   "cell_type": "code",
   "execution_count": 1,
   "id": "163a95fe",
   "metadata": {},
   "outputs": [
    {
     "name": "stdout",
     "output_type": "stream",
     "text": [
      "HelloWorld\n",
      "[ 1, 2, 3, 4, 5 ]\n"
     ]
    }
   ],
   "source": [
    "const animals = ['Hen', 'elephant', 'llama', 'leopard', 'ostrich', 'Whale', 'octopus', 'rabbit', 'lion', 'dog'];\n",
    "\n",
    "// Create the secretMessage array below\n",
    "const secretMessage = animals.map(animal => animal[0])\n",
    "\n",
    "console.log(secretMessage.join(''));\n",
    "\n",
    "const bigNumbers = [100, 200, 300, 400, 500];\n",
    "\n",
    "// Create the smallNumbers array below\n",
    "const smallNumbers = bigNumbers.map(small => {\n",
    "    return small / 100\n",
    "})\n",
    "console.log(smallNumbers);"
   ]
  },
  {
   "cell_type": "markdown",
   "id": "cee44a2f",
   "metadata": {},
   "source": [
    "# The .filter() Method"
   ]
  },
  {
   "cell_type": "code",
   "execution_count": 5,
   "id": "6b8c850d",
   "metadata": {},
   "outputs": [
    {
     "name": "stdout",
     "output_type": "stream",
     "text": [
      "[ 200, 3.14, 7, 13 ]\n",
      "[ 'nostalgia', 'hyperbole', 'esoteric' ]\n"
     ]
    }
   ],
   "source": [
    "const randomNumbers = [375, 200, 3.14, 7, 13, 852];\n",
    "\n",
    "// Call .filter() on randomNumbers below\n",
    "const smallNumbers = randomNumbers.filter(small => {\n",
    "  return small < 250;\n",
    "})\n",
    "console.log(smallNumbers)\n",
    "const favoriteWords = ['nostalgia', 'hyperbole', 'fervent', 'esoteric', 'serene'];\n",
    "\n",
    "\n",
    "// Call .filter() on favoriteWords below\n",
    "const longFavoriteWords = favoriteWords.filter(word => {\n",
    "  return word.length > 7\n",
    "})\n",
    "console.log(longFavoriteWords)"
   ]
  },
  {
   "cell_type": "markdown",
   "id": "b3374104",
   "metadata": {},
   "source": [
    "# The .findIndex() Method"
   ]
  },
  {
   "cell_type": "code",
   "execution_count": null,
   "id": "674adeae",
   "metadata": {},
   "outputs": [],
   "source": [
    "// Вызов .findIndex () в массиве вернет индекс первого элемента, который оценивается как истинный в функции обратного вызова.\n",
    "\n",
    "const animals = ['hippo', 'tiger', 'lion', 'seal', 'cheetah', 'monkey', 'salamander', 'elephant'];\n",
    "\n",
    "const foundAnimal = animals.findIndex(animal => {\n",
    "  return animal === 'elephant'\n",
    "})\n",
    "console.log(foundAnimal)\n",
    "\n",
    "const startsWithS = animals.findIndex(ani => {\n",
    "  return ani[0] === 's'\n",
    "})"
   ]
  },
  {
   "cell_type": "markdown",
   "id": "f1d8d06d",
   "metadata": {},
   "source": [
    "# The .reduce() Method"
   ]
  },
  {
   "cell_type": "code",
   "execution_count": 2,
   "id": "ca7a497b",
   "metadata": {},
   "outputs": [
    {
     "name": "stdout",
     "output_type": "stream",
     "text": [
      "17\n"
     ]
    }
   ],
   "source": [
    "// Метод .reduce () возвращает одно значение после итерации по элементам массива, тем самым уменьшая массив.\n",
    "const numbers = [1, 2, 4, 10];\n",
    " \n",
    "const summedNums = numbers.reduce((accumulator, currentValue) => {\n",
    "  return accumulator + currentValue\n",
    "})\n",
    " \n",
    "console.log(summedNums) // Output: 17"
   ]
  },
  {
   "cell_type": "code",
   "execution_count": 1,
   "id": "27e1e0be",
   "metadata": {},
   "outputs": [
    {
     "name": "stdout",
     "output_type": "stream",
     "text": [
      "117\n"
     ]
    }
   ],
   "source": [
    "const numbers1 = [1, 2, 4, 10];\n",
    " \n",
    "const summedNums = numbers1.reduce((accumulator, currentValue) => {\n",
    "  return accumulator + currentValue\n",
    "}, 100)  // <- Second argument for .reduce()\n",
    " \n",
    "console.log(summedNums);"
   ]
  },
  {
   "cell_type": "markdown",
   "id": "24eac09d",
   "metadata": {},
   "source": [
    "# Метод some()"
   ]
  },
  {
   "cell_type": "code",
   "execution_count": 3,
   "id": "6f784706",
   "metadata": {},
   "outputs": [
    {
     "name": "stdout",
     "output_type": "stream",
     "text": [
      "true\n"
     ]
    }
   ],
   "source": [
    "// Метод some() проверяет, удовлетворяет ли какой-либо элемент массива условию, заданному в передаваемой функции.\n",
    "\n",
    "const words = ['unique', 'uncanny', 'pique', 'oxymoron', 'guise'];\n",
    "\n",
    "// Something is missing in the method call below\n",
    "\n",
    "console.log(words.some((word) => {\n",
    "  return word.length < 6;\n",
    "}));"
   ]
  },
  {
   "cell_type": "markdown",
   "id": "2bdfd77d",
   "metadata": {},
   "source": [
    "# Метод every()"
   ]
  },
  {
   "cell_type": "code",
   "execution_count": 4,
   "id": "201929b5",
   "metadata": {},
   "outputs": [
    {
     "name": "stdout",
     "output_type": "stream",
     "text": [
      "false\n"
     ]
    }
   ],
   "source": [
    "console.log(words.every((word) => {\n",
    "  return word.length > 5\n",
    " } ));"
   ]
  }
 ],
 "metadata": {
  "kernelspec": {
   "display_name": "JavaScript (Node.js)",
   "language": "javascript",
   "name": "javascript"
  },
  "language_info": {
   "file_extension": ".js",
   "mimetype": "application/javascript",
   "name": "javascript",
   "version": "17.2.0"
  }
 },
 "nbformat": 4,
 "nbformat_minor": 5
}