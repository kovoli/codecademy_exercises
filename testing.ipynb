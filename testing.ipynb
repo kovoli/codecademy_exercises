{
 "cells": [
  {
   "cell_type": "code",
   "execution_count": null,
   "outputs": [],
   "source": [],
   "metadata": {
    "collapsed": false,
    "pycharm": {
     "name": "#%%\n"
    }
   }
  },
  {
   "cell_type": "code",
   "execution_count": 27,
   "metadata": {
    "collapsed": true
   },
   "outputs": [
    {
     "name": "stdout",
     "output_type": "stream",
     "text": [
      "Dinner is aviable from 05:00:00 to 11:00:00\n",
      "13.5\n",
      "21.5\n",
      "The Address is: 1232 West End Road\n",
      "[Brunch is aviable from 11:00:00 to 23:00:00]\n"
     ]
    }
   ],
   "source": [
    "from datetime import time\n",
    "class Menu:\n",
    "\n",
    "  def __init__(self, name, items, start_time, end_time):\n",
    "    self.name = name\n",
    "    self.items = items\n",
    "    self.start_time = time(start_time)\n",
    "    self.end_time = time(end_time)\n",
    "\n",
    "  def __repr__(self):\n",
    "    return self.name + ' is aviable from ' + str(self.start_time) + ' to ' + str(self.end_time)\n",
    "\n",
    "  def calculate_bill(self, purchased_items):\n",
    "      bill = 0\n",
    "      for item in purchased_items:\n",
    "        bill += self.items[item]\n",
    "      return bill\n",
    "\n",
    "brunch_items = {\n",
    "  'pancakes': 7.50, 'waffles': 9.00, 'burger': 11.00, 'home fries': 4.50, 'coffee': 1.50, 'espresso': 3.00, 'tea': 1.00, 'mimosa': 10.50, 'orange juice': 3.50\n",
    "}\n",
    "early_bird_items = {\n",
    "  'salumeria plate': 8.00, 'salad and breadsticks (serves 2, no refills)': 14.00, 'pizza with quattro formaggi': 9.00, 'duck ragu': 17.50, 'mushroom ravioli (vegan)': 13.50, 'coffee': 1.50, 'espresso': 3.00,\n",
    "}\n",
    "dinner_items = {\n",
    "  'crostini with eggplant caponata': 13.00, 'ceaser salad': 16.00, 'pizza with quattro formaggi': 11.00, 'duck ragu': 19.50, 'mushroom ravioli (vegan)': 13.50, 'coffee': 2.00, 'espresso': 3.00,\n",
    "}\n",
    "kids_items = {\n",
    "  'chicken nuggets': 6.50, 'fusilli with wild mushrooms': 12.00, 'apple juice': 3.00\n",
    "}\n",
    "brunch = Menu('Brunch', brunch_items, 11, 23)\n",
    "early_bird = Menu('Early Bird', early_bird_items, 15, 18)\n",
    "dinner = Menu('Dinner', dinner_items, 5, 11)\n",
    "kids = Menu('Kids', kids_items, 11, 21)\n",
    "print(dinner)\n",
    "print(brunch.calculate_bill(['pancakes', 'home fries', 'coffee']))\n",
    "print(early_bird.calculate_bill(['salumeria plate', 'mushroom ravioli (vegan)']))\n",
    "\n",
    "class Franchise:\n",
    "\n",
    "  def __init__(self, address, menus):\n",
    "    self.address = address\n",
    "    self.menus = menus\n",
    "\n",
    "  def __repr__(self):\n",
    "    return \"The Address is: \" + self.address\n",
    "\n",
    "  def available_menus(self, time_menu):\n",
    "    available_menu = []\n",
    "    for menu in self.menus:\n",
    "      if time(time_menu) >= menu.start_time and time(time_menu) <= menu.end_time:\n",
    "        available_menu.append(menu)\n",
    "    return available_menu\n",
    "\n",
    "\n",
    "menus = [brunch, early_bird, dinner, kids]\n",
    "\n",
    "flagship_store = Franchise(\"1232 West End Road\", menus)\n",
    "new_installment = Franchise(\"12 East Mulberry Street\", menus)\n",
    "\n",
    "print(flagship_store)\n",
    "\n",
    "print(flagship_store.available_menus(22))"
   ]
  },
  {
   "cell_type": "code",
   "execution_count": 2,
   "outputs": [
    {
     "name": "stdout",
     "output_type": "stream",
     "text": [
      "s is available!\n",
      "f is available!\n",
      "j is available!\n",
      "n is available!\n",
      "j is available!\n",
      "d is available!\n"
     ]
    }
   ],
   "source": [
    "class FishInventory:\n",
    "  def __init__(self, fishList):\n",
    "      self.available_fish = fishList\n",
    "\n",
    "  def __iter__(self):\n",
    "    self.index = 0\n",
    "    return self\n",
    "\n",
    "  def __next__(self):\n",
    "    if self.index < len(self.available_fish):\n",
    "      fish_status = self.available_fish[self.index] + \" is available!\"\n",
    "      self.index += 1\n",
    "      return fish_status\n",
    "    else:\n",
    "      raise StopIteration\n",
    "\n",
    "a = FishInventory('sfjnjd')\n",
    "for i in a:\n",
    "  print(i)"
   ],
   "metadata": {
    "collapsed": false,
    "pycharm": {
     "name": "#%%\n"
    }
   }
  }
 ],
 "metadata": {
  "kernelspec": {
   "display_name": "Python 3",
   "language": "python",
   "name": "python3"
  },
  "language_info": {
   "codemirror_mode": {
    "name": "ipython",
    "version": 2
   },
   "file_extension": ".py",
   "mimetype": "text/x-python",
   "name": "python",
   "nbconvert_exporter": "python",
   "pygments_lexer": "ipython2",
   "version": "2.7.6"
  }
 },
 "nbformat": 4,
 "nbformat_minor": 0
}